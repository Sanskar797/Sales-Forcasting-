{
 "cells": [
  {
   "cell_type": "markdown",
   "id": "a1d0a1a8",
   "metadata": {},
   "source": [
    "# Libraries used in the project\n"
   ]
  },
  {
   "cell_type": "code",
   "execution_count": 977,
   "id": "41c6d901",
   "metadata": {},
   "outputs": [],
   "source": [
    "import pandas as pd\n",
    "import numpy as np\n",
    "import seaborn as sns\n",
    "import matplotlib.pyplot as plt\n",
    "import warnings\n",
    "\n",
    "from sklearn.metrics import mean_squared_error, mean_absolute_error, r2_score\n",
    "from sklearn.preprocessing import MinMaxScaler,StandardScaler\n",
    "from sklearn.linear_model import LinearRegression\n",
    "from sklearn.ensemble import RandomForestRegressor\n",
    "from xgboost.sklearn import XGBRegressor\n",
    "from sklearn.model_selection import KFold\n",
    "\n",
    "\n",
    "\n",
    "import tensorflow as tf\n",
    "from tensorflow.keras.models import Model\n",
    "from tensorflow.keras.optimizers import Nadam\n",
    "from tensorflow.keras.layers import Input, LSTM, Dense,LeakyReLU,Dropout,Activation\n",
    "from tensorflow.keras.callbacks import EarlyStopping, ReduceLROnPlateau, TerminateOnNaN\n",
    "from tensorflow.keras.preprocessing.sequence import TimeseriesGenerator\n",
    "from keras.models import Sequential\n",
    "from keras.activations import tanh, linear\n"
   ]
  },
  {
   "cell_type": "code",
   "execution_count": 978,
   "id": "416aab46",
   "metadata": {},
   "outputs": [],
   "source": [
    "df=pd.read_csv('final_data.csv')"
   ]
  },
  {
   "cell_type": "code",
   "execution_count": 979,
   "id": "9b7e389f",
   "metadata": {},
   "outputs": [
    {
     "data": {
      "text/html": [
       "<div>\n",
       "<style scoped>\n",
       "    .dataframe tbody tr th:only-of-type {\n",
       "        vertical-align: middle;\n",
       "    }\n",
       "\n",
       "    .dataframe tbody tr th {\n",
       "        vertical-align: top;\n",
       "    }\n",
       "\n",
       "    .dataframe thead th {\n",
       "        text-align: right;\n",
       "    }\n",
       "</style>\n",
       "<table border=\"1\" class=\"dataframe\">\n",
       "  <thead>\n",
       "    <tr style=\"text-align: right;\">\n",
       "      <th></th>\n",
       "      <th>Date</th>\n",
       "      <th>Customer_Name</th>\n",
       "      <th>Item_Name</th>\n",
       "      <th>Vrh_No</th>\n",
       "      <th>Quantity</th>\n",
       "      <th>Price_per_unit</th>\n",
       "      <th>Amount</th>\n",
       "    </tr>\n",
       "  </thead>\n",
       "  <tbody>\n",
       "    <tr>\n",
       "      <th>0</th>\n",
       "      <td>2019-01-04</td>\n",
       "      <td>customer1</td>\n",
       "      <td>Item_1</td>\n",
       "      <td>1</td>\n",
       "      <td>200</td>\n",
       "      <td>20</td>\n",
       "      <td>4000</td>\n",
       "    </tr>\n",
       "    <tr>\n",
       "      <th>1</th>\n",
       "      <td>2019-01-04</td>\n",
       "      <td>customer7</td>\n",
       "      <td>Item_3</td>\n",
       "      <td>10</td>\n",
       "      <td>15</td>\n",
       "      <td>33</td>\n",
       "      <td>495</td>\n",
       "    </tr>\n",
       "    <tr>\n",
       "      <th>2</th>\n",
       "      <td>2019-01-04</td>\n",
       "      <td>customer7</td>\n",
       "      <td>Item_1</td>\n",
       "      <td>10</td>\n",
       "      <td>50</td>\n",
       "      <td>20</td>\n",
       "      <td>1000</td>\n",
       "    </tr>\n",
       "    <tr>\n",
       "      <th>3</th>\n",
       "      <td>2019-01-04</td>\n",
       "      <td>customer8</td>\n",
       "      <td>Item_11</td>\n",
       "      <td>11</td>\n",
       "      <td>80</td>\n",
       "      <td>30</td>\n",
       "      <td>2400</td>\n",
       "    </tr>\n",
       "    <tr>\n",
       "      <th>4</th>\n",
       "      <td>2019-01-04</td>\n",
       "      <td>customer8</td>\n",
       "      <td>Item_7</td>\n",
       "      <td>11</td>\n",
       "      <td>624</td>\n",
       "      <td>21</td>\n",
       "      <td>13416</td>\n",
       "    </tr>\n",
       "  </tbody>\n",
       "</table>\n",
       "</div>"
      ],
      "text/plain": [
       "         Date Customer_Name Item_Name  Vrh_No  Quantity  Price_per_unit  Amount\n",
       "0  2019-01-04     customer1    Item_1       1       200              20    4000\n",
       "1  2019-01-04     customer7    Item_3      10        15              33     495\n",
       "2  2019-01-04     customer7    Item_1      10        50              20    1000\n",
       "3  2019-01-04     customer8   Item_11      11        80              30    2400\n",
       "4  2019-01-04     customer8    Item_7      11       624              21   13416"
      ]
     },
     "execution_count": 979,
     "metadata": {},
     "output_type": "execute_result"
    }
   ],
   "source": [
    "df.head()"
   ]
  },
  {
   "cell_type": "code",
   "execution_count": 980,
   "id": "36af2078",
   "metadata": {},
   "outputs": [
    {
     "data": {
      "text/plain": [
       "(1957, 7)"
      ]
     },
     "execution_count": 980,
     "metadata": {},
     "output_type": "execute_result"
    }
   ],
   "source": [
    "df.shape"
   ]
  },
  {
   "cell_type": "code",
   "execution_count": 981,
   "id": "7f705bcf",
   "metadata": {},
   "outputs": [
    {
     "name": "stdout",
     "output_type": "stream",
     "text": [
      "<class 'pandas.core.frame.DataFrame'>\n",
      "RangeIndex: 1957 entries, 0 to 1956\n",
      "Data columns (total 7 columns):\n",
      " #   Column          Non-Null Count  Dtype \n",
      "---  ------          --------------  ----- \n",
      " 0   Date            1957 non-null   object\n",
      " 1   Customer_Name   1957 non-null   object\n",
      " 2   Item_Name       1957 non-null   object\n",
      " 3   Vrh_No          1957 non-null   int64 \n",
      " 4   Quantity        1957 non-null   int64 \n",
      " 5   Price_per_unit  1957 non-null   int64 \n",
      " 6   Amount          1957 non-null   int64 \n",
      "dtypes: int64(4), object(3)\n",
      "memory usage: 107.1+ KB\n"
     ]
    }
   ],
   "source": [
    "df.info()"
   ]
  },
  {
   "cell_type": "code",
   "execution_count": 982,
   "id": "94c68889",
   "metadata": {},
   "outputs": [],
   "source": [
    "df.Date=pd.to_datetime(df.Date,infer_datetime_format=True)"
   ]
  },
  {
   "cell_type": "code",
   "execution_count": 983,
   "id": "835950f7",
   "metadata": {},
   "outputs": [
    {
     "name": "stdout",
     "output_type": "stream",
     "text": [
      "2021-12-01 00:00:00\n",
      "2019-01-04 00:00:00\n",
      "1062 days\n"
     ]
    }
   ],
   "source": [
    "def sales_duration(data):\n",
    "  \n",
    "    number_of_days = data.Date.max() - data.Date.min()\n",
    "    print(data.Date.max())\n",
    "    print(data.Date.min())\n",
    "\n",
    "    print(number_of_days.days, 'days')\n",
    "    \n",
    "sales_duration(df)"
   ]
  },
  {
   "cell_type": "code",
   "execution_count": 984,
   "id": "b935feb5",
   "metadata": {},
   "outputs": [],
   "source": [
    "# this function resample our data to 36 rows(months)\n",
    "\n",
    "def monthly_data_generator(data):\n",
    "    \n",
    "    monthly_resample_amount=data.copy()\n",
    "    monthly_resample_amount.set_index(\"Date\", inplace = True)\n",
    "    monthly_resample_amount = monthly_resample_amount['Amount'].resample('M').sum() \n",
    "    value=monthly_resample_amount.median()\n",
    "    monthly_resample_amount['2021-10-31']=value\n",
    "    \n",
    "    monthly_resample_quantity=data.copy()\n",
    "    monthly_resample_quantity.set_index(\"Date\", inplace = True)\n",
    "    monthly_resample_quantity = monthly_resample_quantity['Quantity'].resample('M').sum() \n",
    "    value=monthly_resample_quantity.median()\n",
    "    monthly_resample_quantity['2021-10-31']=value\n",
    "\n",
    "    data_monthly=pd.DataFrame()\n",
    "    \n",
    "    data_monthly['Amount']=monthly_resample_amount\n",
    "    data_monthly['Quantity']=monthly_resample_quantity\n",
    "    \n",
    "    data_monthly['Price_per_unit']=data_monthly['Amount']/ data_monthly['Quantity']\n",
    "    \n",
    "    return data_monthly"
   ]
  },
  {
   "cell_type": "code",
   "execution_count": 986,
   "id": "81597089",
   "metadata": {},
   "outputs": [],
   "source": [
    "data=monthly_data_generator(df)\n",
    "data['Date']=data.index"
   ]
  },
  {
   "cell_type": "code",
   "execution_count": 987,
   "id": "8fc4355d",
   "metadata": {},
   "outputs": [
    {
     "name": "stdout",
     "output_type": "stream",
     "text": [
      "<class 'pandas.core.frame.DataFrame'>\n",
      "DatetimeIndex: 36 entries, 2019-01-31 to 2021-12-31\n",
      "Freq: M\n",
      "Data columns (total 4 columns):\n",
      " #   Column          Non-Null Count  Dtype         \n",
      "---  ------          --------------  -----         \n",
      " 0   Amount          36 non-null     float64       \n",
      " 1   Quantity        36 non-null     int64         \n",
      " 2   Price_per_unit  36 non-null     float64       \n",
      " 3   Date            36 non-null     datetime64[ns]\n",
      "dtypes: datetime64[ns](1), float64(2), int64(1)\n",
      "memory usage: 2.5 KB\n"
     ]
    }
   ],
   "source": [
    "data.info()"
   ]
  },
  {
   "cell_type": "code",
   "execution_count": 988,
   "id": "671db6df",
   "metadata": {},
   "outputs": [
    {
     "data": {
      "text/html": [
       "<div>\n",
       "<style scoped>\n",
       "    .dataframe tbody tr th:only-of-type {\n",
       "        vertical-align: middle;\n",
       "    }\n",
       "\n",
       "    .dataframe tbody tr th {\n",
       "        vertical-align: top;\n",
       "    }\n",
       "\n",
       "    .dataframe thead th {\n",
       "        text-align: right;\n",
       "    }\n",
       "</style>\n",
       "<table border=\"1\" class=\"dataframe\">\n",
       "  <thead>\n",
       "    <tr style=\"text-align: right;\">\n",
       "      <th></th>\n",
       "      <th>Amount</th>\n",
       "      <th>Quantity</th>\n",
       "      <th>Price_per_unit</th>\n",
       "      <th>Date</th>\n",
       "    </tr>\n",
       "    <tr>\n",
       "      <th>Date</th>\n",
       "      <th></th>\n",
       "      <th></th>\n",
       "      <th></th>\n",
       "      <th></th>\n",
       "    </tr>\n",
       "  </thead>\n",
       "  <tbody>\n",
       "    <tr>\n",
       "      <th>2019-01-31</th>\n",
       "      <td>452115.0</td>\n",
       "      <td>14884</td>\n",
       "      <td>30.375907</td>\n",
       "      <td>2019-01-31</td>\n",
       "    </tr>\n",
       "    <tr>\n",
       "      <th>2019-02-28</th>\n",
       "      <td>382244.0</td>\n",
       "      <td>19757</td>\n",
       "      <td>19.347269</td>\n",
       "      <td>2019-02-28</td>\n",
       "    </tr>\n",
       "    <tr>\n",
       "      <th>2019-03-31</th>\n",
       "      <td>79462.0</td>\n",
       "      <td>4037</td>\n",
       "      <td>19.683428</td>\n",
       "      <td>2019-03-31</td>\n",
       "    </tr>\n",
       "    <tr>\n",
       "      <th>2019-04-30</th>\n",
       "      <td>1194383.0</td>\n",
       "      <td>50709</td>\n",
       "      <td>23.553669</td>\n",
       "      <td>2019-04-30</td>\n",
       "    </tr>\n",
       "    <tr>\n",
       "      <th>2019-05-31</th>\n",
       "      <td>1102652.0</td>\n",
       "      <td>42736</td>\n",
       "      <td>25.801479</td>\n",
       "      <td>2019-05-31</td>\n",
       "    </tr>\n",
       "    <tr>\n",
       "      <th>2019-06-30</th>\n",
       "      <td>898811.0</td>\n",
       "      <td>32924</td>\n",
       "      <td>27.299569</td>\n",
       "      <td>2019-06-30</td>\n",
       "    </tr>\n",
       "    <tr>\n",
       "      <th>2019-07-31</th>\n",
       "      <td>672657.0</td>\n",
       "      <td>28469</td>\n",
       "      <td>23.627700</td>\n",
       "      <td>2019-07-31</td>\n",
       "    </tr>\n",
       "    <tr>\n",
       "      <th>2019-08-31</th>\n",
       "      <td>313239.0</td>\n",
       "      <td>11287</td>\n",
       "      <td>27.752193</td>\n",
       "      <td>2019-08-31</td>\n",
       "    </tr>\n",
       "    <tr>\n",
       "      <th>2019-09-30</th>\n",
       "      <td>379865.0</td>\n",
       "      <td>16176</td>\n",
       "      <td>23.483247</td>\n",
       "      <td>2019-09-30</td>\n",
       "    </tr>\n",
       "    <tr>\n",
       "      <th>2019-10-31</th>\n",
       "      <td>853573.0</td>\n",
       "      <td>31725</td>\n",
       "      <td>26.905374</td>\n",
       "      <td>2019-10-31</td>\n",
       "    </tr>\n",
       "    <tr>\n",
       "      <th>2019-11-30</th>\n",
       "      <td>697479.0</td>\n",
       "      <td>31337</td>\n",
       "      <td>22.257364</td>\n",
       "      <td>2019-11-30</td>\n",
       "    </tr>\n",
       "    <tr>\n",
       "      <th>2019-12-31</th>\n",
       "      <td>524012.0</td>\n",
       "      <td>23410</td>\n",
       "      <td>22.384109</td>\n",
       "      <td>2019-12-31</td>\n",
       "    </tr>\n",
       "    <tr>\n",
       "      <th>2020-01-31</th>\n",
       "      <td>436825.0</td>\n",
       "      <td>13716</td>\n",
       "      <td>31.847842</td>\n",
       "      <td>2020-01-31</td>\n",
       "    </tr>\n",
       "    <tr>\n",
       "      <th>2020-02-29</th>\n",
       "      <td>14903.0</td>\n",
       "      <td>415</td>\n",
       "      <td>35.910843</td>\n",
       "      <td>2020-02-29</td>\n",
       "    </tr>\n",
       "    <tr>\n",
       "      <th>2020-03-31</th>\n",
       "      <td>167535.0</td>\n",
       "      <td>7462</td>\n",
       "      <td>22.451756</td>\n",
       "      <td>2020-03-31</td>\n",
       "    </tr>\n",
       "    <tr>\n",
       "      <th>2020-04-30</th>\n",
       "      <td>87202.0</td>\n",
       "      <td>2517</td>\n",
       "      <td>34.645213</td>\n",
       "      <td>2020-04-30</td>\n",
       "    </tr>\n",
       "    <tr>\n",
       "      <th>2020-05-31</th>\n",
       "      <td>199205.0</td>\n",
       "      <td>6746</td>\n",
       "      <td>29.529351</td>\n",
       "      <td>2020-05-31</td>\n",
       "    </tr>\n",
       "    <tr>\n",
       "      <th>2020-06-30</th>\n",
       "      <td>285457.0</td>\n",
       "      <td>13279</td>\n",
       "      <td>21.496875</td>\n",
       "      <td>2020-06-30</td>\n",
       "    </tr>\n",
       "    <tr>\n",
       "      <th>2020-07-31</th>\n",
       "      <td>317051.0</td>\n",
       "      <td>13221</td>\n",
       "      <td>23.980864</td>\n",
       "      <td>2020-07-31</td>\n",
       "    </tr>\n",
       "    <tr>\n",
       "      <th>2020-08-31</th>\n",
       "      <td>279210.0</td>\n",
       "      <td>9343</td>\n",
       "      <td>29.884405</td>\n",
       "      <td>2020-08-31</td>\n",
       "    </tr>\n",
       "    <tr>\n",
       "      <th>2020-09-30</th>\n",
       "      <td>149963.0</td>\n",
       "      <td>7921</td>\n",
       "      <td>18.932332</td>\n",
       "      <td>2020-09-30</td>\n",
       "    </tr>\n",
       "    <tr>\n",
       "      <th>2020-10-31</th>\n",
       "      <td>431729.0</td>\n",
       "      <td>15301</td>\n",
       "      <td>28.215738</td>\n",
       "      <td>2020-10-31</td>\n",
       "    </tr>\n",
       "    <tr>\n",
       "      <th>2020-11-30</th>\n",
       "      <td>244630.0</td>\n",
       "      <td>11533</td>\n",
       "      <td>21.211307</td>\n",
       "      <td>2020-11-30</td>\n",
       "    </tr>\n",
       "    <tr>\n",
       "      <th>2020-12-31</th>\n",
       "      <td>519518.0</td>\n",
       "      <td>21690</td>\n",
       "      <td>23.951959</td>\n",
       "      <td>2020-12-31</td>\n",
       "    </tr>\n",
       "    <tr>\n",
       "      <th>2021-01-31</th>\n",
       "      <td>1702176.0</td>\n",
       "      <td>72672</td>\n",
       "      <td>23.422721</td>\n",
       "      <td>2021-01-31</td>\n",
       "    </tr>\n",
       "    <tr>\n",
       "      <th>2021-02-28</th>\n",
       "      <td>77944.0</td>\n",
       "      <td>2961</td>\n",
       "      <td>26.323539</td>\n",
       "      <td>2021-02-28</td>\n",
       "    </tr>\n",
       "    <tr>\n",
       "      <th>2021-03-31</th>\n",
       "      <td>92490.0</td>\n",
       "      <td>3711</td>\n",
       "      <td>24.923201</td>\n",
       "      <td>2021-03-31</td>\n",
       "    </tr>\n",
       "    <tr>\n",
       "      <th>2021-04-30</th>\n",
       "      <td>262549.0</td>\n",
       "      <td>7469</td>\n",
       "      <td>35.151828</td>\n",
       "      <td>2021-04-30</td>\n",
       "    </tr>\n",
       "    <tr>\n",
       "      <th>2021-05-31</th>\n",
       "      <td>94879.0</td>\n",
       "      <td>3074</td>\n",
       "      <td>30.864997</td>\n",
       "      <td>2021-05-31</td>\n",
       "    </tr>\n",
       "    <tr>\n",
       "      <th>2021-06-30</th>\n",
       "      <td>141416.0</td>\n",
       "      <td>5205</td>\n",
       "      <td>27.169260</td>\n",
       "      <td>2021-06-30</td>\n",
       "    </tr>\n",
       "    <tr>\n",
       "      <th>2021-07-31</th>\n",
       "      <td>92595.0</td>\n",
       "      <td>3828</td>\n",
       "      <td>24.188871</td>\n",
       "      <td>2021-07-31</td>\n",
       "    </tr>\n",
       "    <tr>\n",
       "      <th>2021-08-31</th>\n",
       "      <td>63082.0</td>\n",
       "      <td>2855</td>\n",
       "      <td>22.095271</td>\n",
       "      <td>2021-08-31</td>\n",
       "    </tr>\n",
       "    <tr>\n",
       "      <th>2021-09-30</th>\n",
       "      <td>69772.0</td>\n",
       "      <td>1255</td>\n",
       "      <td>55.595219</td>\n",
       "      <td>2021-09-30</td>\n",
       "    </tr>\n",
       "    <tr>\n",
       "      <th>2021-10-31</th>\n",
       "      <td>270879.5</td>\n",
       "      <td>10315</td>\n",
       "      <td>26.260737</td>\n",
       "      <td>2021-10-31</td>\n",
       "    </tr>\n",
       "    <tr>\n",
       "      <th>2021-11-30</th>\n",
       "      <td>27467.0</td>\n",
       "      <td>1197</td>\n",
       "      <td>22.946533</td>\n",
       "      <td>2021-11-30</td>\n",
       "    </tr>\n",
       "    <tr>\n",
       "      <th>2021-12-31</th>\n",
       "      <td>158980.0</td>\n",
       "      <td>7029</td>\n",
       "      <td>22.617727</td>\n",
       "      <td>2021-12-31</td>\n",
       "    </tr>\n",
       "  </tbody>\n",
       "</table>\n",
       "</div>"
      ],
      "text/plain": [
       "               Amount  Quantity  Price_per_unit       Date\n",
       "Date                                                      \n",
       "2019-01-31   452115.0     14884       30.375907 2019-01-31\n",
       "2019-02-28   382244.0     19757       19.347269 2019-02-28\n",
       "2019-03-31    79462.0      4037       19.683428 2019-03-31\n",
       "2019-04-30  1194383.0     50709       23.553669 2019-04-30\n",
       "2019-05-31  1102652.0     42736       25.801479 2019-05-31\n",
       "2019-06-30   898811.0     32924       27.299569 2019-06-30\n",
       "2019-07-31   672657.0     28469       23.627700 2019-07-31\n",
       "2019-08-31   313239.0     11287       27.752193 2019-08-31\n",
       "2019-09-30   379865.0     16176       23.483247 2019-09-30\n",
       "2019-10-31   853573.0     31725       26.905374 2019-10-31\n",
       "2019-11-30   697479.0     31337       22.257364 2019-11-30\n",
       "2019-12-31   524012.0     23410       22.384109 2019-12-31\n",
       "2020-01-31   436825.0     13716       31.847842 2020-01-31\n",
       "2020-02-29    14903.0       415       35.910843 2020-02-29\n",
       "2020-03-31   167535.0      7462       22.451756 2020-03-31\n",
       "2020-04-30    87202.0      2517       34.645213 2020-04-30\n",
       "2020-05-31   199205.0      6746       29.529351 2020-05-31\n",
       "2020-06-30   285457.0     13279       21.496875 2020-06-30\n",
       "2020-07-31   317051.0     13221       23.980864 2020-07-31\n",
       "2020-08-31   279210.0      9343       29.884405 2020-08-31\n",
       "2020-09-30   149963.0      7921       18.932332 2020-09-30\n",
       "2020-10-31   431729.0     15301       28.215738 2020-10-31\n",
       "2020-11-30   244630.0     11533       21.211307 2020-11-30\n",
       "2020-12-31   519518.0     21690       23.951959 2020-12-31\n",
       "2021-01-31  1702176.0     72672       23.422721 2021-01-31\n",
       "2021-02-28    77944.0      2961       26.323539 2021-02-28\n",
       "2021-03-31    92490.0      3711       24.923201 2021-03-31\n",
       "2021-04-30   262549.0      7469       35.151828 2021-04-30\n",
       "2021-05-31    94879.0      3074       30.864997 2021-05-31\n",
       "2021-06-30   141416.0      5205       27.169260 2021-06-30\n",
       "2021-07-31    92595.0      3828       24.188871 2021-07-31\n",
       "2021-08-31    63082.0      2855       22.095271 2021-08-31\n",
       "2021-09-30    69772.0      1255       55.595219 2021-09-30\n",
       "2021-10-31   270879.5     10315       26.260737 2021-10-31\n",
       "2021-11-30    27467.0      1197       22.946533 2021-11-30\n",
       "2021-12-31   158980.0      7029       22.617727 2021-12-31"
      ]
     },
     "execution_count": 988,
     "metadata": {},
     "output_type": "execute_result"
    }
   ],
   "source": [
    "data"
   ]
  },
  {
   "cell_type": "code",
   "execution_count": 989,
   "id": "aab732a5",
   "metadata": {},
   "outputs": [
    {
     "data": {
      "text/plain": [
       "<AxesSubplot:xlabel='Date'>"
      ]
     },
     "execution_count": 989,
     "metadata": {},
     "output_type": "execute_result"
    },
    {
     "data": {
      "image/png": "[encoded data removed]",
      "text/plain": [
       "<Figure size 432x288 with 1 Axes>"
      ]
     },
     "metadata": {
      "needs_background": "light"
     },
     "output_type": "display_data"
    }
   ],
   "source": [
    "data.set_index(data.index)[['Amount']].plot()\n"
   ]
  },
  {
   "cell_type": "code",
   "execution_count": 990,
   "id": "82008431",
   "metadata": {},
   "outputs": [
    {
     "data": {
      "text/plain": [
       "<AxesSubplot:xlabel='Date'>"
      ]
     },
     "execution_count": 990,
     "metadata": {},
     "output_type": "execute_result"
    },
    {
     "data": {
      "image/png": "[encoded data removed]",
      "text/plain": [
       "<Figure size 432x288 with 1 Axes>"
      ]
     },
     "metadata": {
      "needs_background": "light"
     },
     "output_type": "display_data"
    }
   ],
   "source": [
    "data.set_index(data.index)[['Quantity']].plot()\n"
   ]
  },
  {
   "cell_type": "code",
   "execution_count": 991,
   "id": "a1daba8f",
   "metadata": {},
   "outputs": [
    {
     "data": {
      "text/plain": [
       "<AxesSubplot:xlabel='Date'>"
      ]
     },
     "execution_count": 991,
     "metadata": {},
     "output_type": "execute_result"
    },
    {
     "data": {
      "image/png": "[encoded data removed]",
      "text/plain": [
       "<Figure size 432x288 with 1 Axes>"
      ]
     },
     "metadata": {
      "needs_background": "light"
     },
     "output_type": "display_data"
    }
   ],
   "source": [
    "data.set_index(data.index)[['Price_per_unit']].plot()\n"
   ]
  },
  {
   "cell_type": "code",
   "execution_count": 992,
   "id": "f0499427",
   "metadata": {},
   "outputs": [
    {
     "data": {
      "text/html": [
       "<div>\n",
       "<style scoped>\n",
       "    .dataframe tbody tr th:only-of-type {\n",
       "        vertical-align: middle;\n",
       "    }\n",
       "\n",
       "    .dataframe tbody tr th {\n",
       "        vertical-align: top;\n",
       "    }\n",
       "\n",
       "    .dataframe thead th {\n",
       "        text-align: right;\n",
       "    }\n",
       "</style>\n",
       "<table border=\"1\" class=\"dataframe\">\n",
       "  <thead>\n",
       "    <tr style=\"text-align: right;\">\n",
       "      <th></th>\n",
       "      <th>Amount</th>\n",
       "      <th>Quantity</th>\n",
       "      <th>Price_per_unit</th>\n",
       "    </tr>\n",
       "  </thead>\n",
       "  <tbody>\n",
       "    <tr>\n",
       "      <th>count</th>\n",
       "      <td>3.600000e+01</td>\n",
       "      <td>36.000000</td>\n",
       "      <td>36.000000</td>\n",
       "    </tr>\n",
       "    <tr>\n",
       "      <th>mean</th>\n",
       "      <td>3.816097e+05</td>\n",
       "      <td>15337.944444</td>\n",
       "      <td>26.558047</td>\n",
       "    </tr>\n",
       "    <tr>\n",
       "      <th>std</th>\n",
       "      <td>3.757225e+05</td>\n",
       "      <td>15665.402538</td>\n",
       "      <td>6.608035</td>\n",
       "    </tr>\n",
       "    <tr>\n",
       "      <th>min</th>\n",
       "      <td>1.490300e+04</td>\n",
       "      <td>415.000000</td>\n",
       "      <td>18.932332</td>\n",
       "    </tr>\n",
       "    <tr>\n",
       "      <th>25%</th>\n",
       "      <td>9.430800e+04</td>\n",
       "      <td>3984.750000</td>\n",
       "      <td>22.576234</td>\n",
       "    </tr>\n",
       "    <tr>\n",
       "      <th>50%</th>\n",
       "      <td>2.750448e+05</td>\n",
       "      <td>10801.000000</td>\n",
       "      <td>24.556036</td>\n",
       "    </tr>\n",
       "    <tr>\n",
       "      <th>75%</th>\n",
       "      <td>4.689658e+05</td>\n",
       "      <td>20240.250000</td>\n",
       "      <td>28.544141</td>\n",
       "    </tr>\n",
       "    <tr>\n",
       "      <th>max</th>\n",
       "      <td>1.702176e+06</td>\n",
       "      <td>72672.000000</td>\n",
       "      <td>55.595219</td>\n",
       "    </tr>\n",
       "  </tbody>\n",
       "</table>\n",
       "</div>"
      ],
      "text/plain": [
       "             Amount      Quantity  Price_per_unit\n",
       "count  3.600000e+01     36.000000       36.000000\n",
       "mean   3.816097e+05  15337.944444       26.558047\n",
       "std    3.757225e+05  15665.402538        6.608035\n",
       "min    1.490300e+04    415.000000       18.932332\n",
       "25%    9.430800e+04   3984.750000       22.576234\n",
       "50%    2.750448e+05  10801.000000       24.556036\n",
       "75%    4.689658e+05  20240.250000       28.544141\n",
       "max    1.702176e+06  72672.000000       55.595219"
      ]
     },
     "execution_count": 992,
     "metadata": {},
     "output_type": "execute_result"
    }
   ],
   "source": [
    "data.describe()"
   ]
  },
  {
   "cell_type": "markdown",
   "id": "07154173",
   "metadata": {},
   "source": [
    "# Regression Modeling for Sales Predictions"
   ]
  },
  {
   "cell_type": "code",
   "execution_count": 993,
   "id": "34e12e5d",
   "metadata": {},
   "outputs": [],
   "source": [
    "# create dataframe with lag features\n",
    "def lagging_feature(df):\n",
    "    df1=pd.DataFrame()\n",
    "    df1['Amount']=df['Amount']\n",
    "    df1['1_month_back']=df['Amount'].shift(+1)\n",
    "    df1['2_month_back']=df['Amount'].shift(+2)\n",
    "    df1['3_Amount_Last']=df['Amount'].shift(+3)\n",
    "    df1['4_Amount_Last']=df['Amount'].shift(+4)\n",
    "    df1['5_Amount_Last']=df['Amount'].shift(+5)\n",
    "    df1['Quantity']=df['Quantity']\n",
    "    df1=df1.iloc[5:,:]\n",
    "    \n",
    "    return df1"
   ]
  },
  {
   "cell_type": "code",
   "execution_count": 995,
   "id": "ccb0445b",
   "metadata": {},
   "outputs": [],
   "source": [
    "#apply Min Max Scaler/Standard scaler\n",
    "def scale_data(df2):\n",
    "   \n",
    "     \n",
    "    scaler = MinMaxScaler()\n",
    "    scaler = scaler.fit(df2)\n",
    "    df2=scaler.fit_transform(df2)\n",
    "\n",
    "    \n",
    "    return df2, scaler"
   ]
  },
  {
   "cell_type": "code",
   "execution_count": 996,
   "id": "0d2431ab",
   "metadata": {},
   "outputs": [],
   "source": [
    "# train test splittng \n",
    "\n",
    "def train_test_splitting(df3):    \n",
    "    \n",
    "    X_train,X_test,y_train,y_test=train_test_split(df3.iloc[:,1:],df3.iloc[:,0],\n",
    "                                  test_size=0.20,random_state=123,shuffle=False)\n",
    "    \n",
    "    return X_train,X_test,y_train,y_test"
   ]
  },
  {
   "cell_type": "code",
   "execution_count": 898,
   "id": "4c20915c",
   "metadata": {},
   "outputs": [],
   "source": [
    "# funct\n",
    "\n",
    "model_scores = {}\n",
    "\n",
    "def get_scores(pred, original_value, model_name):\n",
    "    rmse = np.sqrt(mean_squared_error(original_value,pred))\n",
    "    mae = mean_absolute_error(original_value,pred)\n",
    "    r2 = r2_score(original_value,pred)\n",
    "    n=28\n",
    "    p=6\n",
    "    adj_r2 = 1-(((1-r2)*(n-1))/(n-p-1))\n",
    "    model_scores[model_name] = [rmse, mae, r2,adj_r2]\n",
    "    \n",
    "\n",
    "    print(f\"RMSE: {rmse}\")\n",
    "    print(f\"MAE: {mae}\")\n",
    "    print(f\"R2 Score: {r2}\")\n",
    "    print(f\"Adj_R2 Score: {adj_r2}\")"
   ]
  },
  {
   "cell_type": "code",
   "execution_count": null,
   "id": "414e6384",
   "metadata": {},
   "outputs": [],
   "source": [
    "def undo_scaling(pred,original_value, scaler_obj): \n",
    "\n",
    "    pred=scaler_obj.inverse_transform(pred.reshape(1, -1))\n",
    "    original_value=scaler_obj.inverse_transform(original_value.reshape(1, -1))\n",
    "\n",
    "    \n",
    "    return pred,original_value"
   ]
  },
  {
   "cell_type": "code",
   "execution_count": 900,
   "id": "2fd6a2fb",
   "metadata": {},
   "outputs": [],
   "source": [
    "def plot_results(pred, original_value, model_name):\n",
    "\n",
    "    fig, ax = plt.subplots(figsize=(15,5))\n",
    "    sns.lineplot(data.index[29:],original_value,\n",
    "                 label='Original', color='mediumblue')\n",
    "    sns.lineplot(data.index[29:],pred,\n",
    "                 label='Predicted', color='Red')\n",
    "    \n",
    "    ax.set(xlabel = \"Date\",\n",
    "           ylabel = \"Amount\",\n",
    "           title = f\"{model_name} Sales Forecasting Prediction\")\n",
    "    \n",
    "    ax.legend()\n",
    "    \n",
    "    sns.despine()\n",
    "    \n",
    "   "
   ]
  },
  {
   "cell_type": "code",
   "execution_count": 901,
   "id": "aa78878b",
   "metadata": {},
   "outputs": [],
   "source": [
    "def run_model(df1, model, model_name):\n",
    "    \n",
    "    lag_data=lagging_feature(data)\n",
    "    \n",
    "    scaled_data, scaler_object = scale_data(lag_data)\n",
    "    \n",
    "    X_train,X_test,y_train,y_test=train_test_splitting(lag_data)\n",
    "    \n",
    "    model = model\n",
    "    model.fit(X_train, y_train)\n",
    "    predictions = model.predict(X_test)\n",
    "    \n",
    "    #predictions,y_test=undo_scaling(predictions,y_test,scaler_object)\n",
    "    get_scores(predictions, y_test, model_name)\n",
    "    \n",
    "    plot_results(predictions, y_test, model_name)"
   ]
  },
  {
   "cell_type": "code",
   "execution_count": 902,
   "id": "431c27aa",
   "metadata": {},
   "outputs": [
    {
     "name": "stdout",
     "output_type": "stream",
     "text": [
      "RMSE: 24744.73312024259\n",
      "MAE: 21088.395381181934\n",
      "R2 Score: 0.8922624595446755\n",
      "Adj_R2 Score: 0.8614803051288685\n"
     ]
    },
    {
     "name": "stderr",
     "output_type": "stream",
     "text": [
      "C:\\Users\\Kuldeep\\anaconda3\\lib\\site-packages\\seaborn\\_decorators.py:36: FutureWarning: Pass the following variables as keyword args: x, y. From version 0.12, the only valid positional argument will be `data`, and passing other arguments without an explicit keyword will result in an error or misinterpretation.\n",
      "  warnings.warn(\n",
      "C:\\Users\\Kuldeep\\anaconda3\\lib\\site-packages\\seaborn\\_decorators.py:36: FutureWarning: Pass the following variables as keyword args: x, y. From version 0.12, the only valid positional argument will be `data`, and passing other arguments without an explicit keyword will result in an error or misinterpretation.\n",
      "  warnings.warn(\n"
     ]
    },
    {
     "data": {
      "image/png": "[encoded data removed]",
      "text/plain": [
       "<Figure size 1080x360 with 1 Axes>"
      ]
     },
     "metadata": {
      "needs_background": "light"
     },
     "output_type": "display_data"
    }
   ],
   "source": [
    "run_model(data,LinearRegression(),'LinearRegression')\n"
   ]
  },
  {
   "cell_type": "code",
   "execution_count": 903,
   "id": "9c2981e2",
   "metadata": {},
   "outputs": [
    {
     "name": "stdout",
     "output_type": "stream",
     "text": [
      "RMSE: 40577.19965251264\n",
      "MAE: 33644.44142857143\n",
      "R2 Score: 0.7102885550893632\n",
      "Adj_R2 Score: 0.6275138565434669\n"
     ]
    },
    {
     "name": "stderr",
     "output_type": "stream",
     "text": [
      "C:\\Users\\Kuldeep\\anaconda3\\lib\\site-packages\\seaborn\\_decorators.py:36: FutureWarning: Pass the following variables as keyword args: x, y. From version 0.12, the only valid positional argument will be `data`, and passing other arguments without an explicit keyword will result in an error or misinterpretation.\n",
      "  warnings.warn(\n",
      "C:\\Users\\Kuldeep\\anaconda3\\lib\\site-packages\\seaborn\\_decorators.py:36: FutureWarning: Pass the following variables as keyword args: x, y. From version 0.12, the only valid positional argument will be `data`, and passing other arguments without an explicit keyword will result in an error or misinterpretation.\n",
      "  warnings.warn(\n"
     ]
    },
    {
     "data": {
      "image/png": "[encoded data removed]",
      "text/plain": [
       "<Figure size 1080x360 with 1 Axes>"
      ]
     },
     "metadata": {
      "needs_background": "light"
     },
     "output_type": "display_data"
    }
   ],
   "source": [
    "run_model(data,RandomForestRegressor(n_estimators=100, max_depth=20), \n",
    "          'RandomForest')"
   ]
  },
  {
   "cell_type": "code",
   "execution_count": 904,
   "id": "3f56b223",
   "metadata": {},
   "outputs": [
    {
     "name": "stdout",
     "output_type": "stream",
     "text": [
      "RMSE: 27587.71640153315\n",
      "MAE: 21421.262276785714\n",
      "R2 Score: 0.8660838318090527\n",
      "Adj_R2 Score: 0.827822069468782\n"
     ]
    },
    {
     "name": "stderr",
     "output_type": "stream",
     "text": [
      "C:\\Users\\Kuldeep\\anaconda3\\lib\\site-packages\\seaborn\\_decorators.py:36: FutureWarning: Pass the following variables as keyword args: x, y. From version 0.12, the only valid positional argument will be `data`, and passing other arguments without an explicit keyword will result in an error or misinterpretation.\n",
      "  warnings.warn(\n",
      "C:\\Users\\Kuldeep\\anaconda3\\lib\\site-packages\\seaborn\\_decorators.py:36: FutureWarning: Pass the following variables as keyword args: x, y. From version 0.12, the only valid positional argument will be `data`, and passing other arguments without an explicit keyword will result in an error or misinterpretation.\n",
      "  warnings.warn(\n"
     ]
    },
    {
     "data": {
      "image/png": "[encoded data removed]",
      "text/plain": [
       "<Figure size 1080x360 with 1 Axes>"
      ]
     },
     "metadata": {
      "needs_background": "light"
     },
     "output_type": "display_data"
    }
   ],
   "source": [
    "run_model(data, XGBRegressor( n_estimators=500, \n",
    "                                    learning_rate=0.2, \n",
    "                                    objective='reg:squarederror'), 'XGBoost')"
   ]
  },
  {
   "cell_type": "code",
   "execution_count": 905,
   "id": "a5b7f4e4",
   "metadata": {},
   "outputs": [
    {
     "data": {
      "text/html": [
       "<div>\n",
       "<style scoped>\n",
       "    .dataframe tbody tr th:only-of-type {\n",
       "        vertical-align: middle;\n",
       "    }\n",
       "\n",
       "    .dataframe tbody tr th {\n",
       "        vertical-align: top;\n",
       "    }\n",
       "\n",
       "    .dataframe thead th {\n",
       "        text-align: right;\n",
       "    }\n",
       "</style>\n",
       "<table border=\"1\" class=\"dataframe\">\n",
       "  <thead>\n",
       "    <tr style=\"text-align: right;\">\n",
       "      <th></th>\n",
       "      <th>LinearRegression</th>\n",
       "      <th>RandomForest</th>\n",
       "      <th>XGBoost</th>\n",
       "    </tr>\n",
       "  </thead>\n",
       "  <tbody>\n",
       "    <tr>\n",
       "      <th>RSME</th>\n",
       "      <td>24744.733120</td>\n",
       "      <td>40577.199653</td>\n",
       "      <td>27587.716402</td>\n",
       "    </tr>\n",
       "    <tr>\n",
       "      <th>MAE</th>\n",
       "      <td>21088.395381</td>\n",
       "      <td>33644.441429</td>\n",
       "      <td>21421.262277</td>\n",
       "    </tr>\n",
       "    <tr>\n",
       "      <th>R2</th>\n",
       "      <td>0.892262</td>\n",
       "      <td>0.710289</td>\n",
       "      <td>0.866084</td>\n",
       "    </tr>\n",
       "    <tr>\n",
       "      <th>Adj_R</th>\n",
       "      <td>0.861480</td>\n",
       "      <td>0.627514</td>\n",
       "      <td>0.827822</td>\n",
       "    </tr>\n",
       "  </tbody>\n",
       "</table>\n",
       "</div>"
      ],
      "text/plain": [
       "       LinearRegression  RandomForest       XGBoost\n",
       "RSME       24744.733120  40577.199653  27587.716402\n",
       "MAE        21088.395381  33644.441429  21421.262277\n",
       "R2             0.892262      0.710289      0.866084\n",
       "Adj_R          0.861480      0.627514      0.827822"
      ]
     },
     "execution_count": 905,
     "metadata": {},
     "output_type": "execute_result"
    }
   ],
   "source": [
    "pd.DataFrame(model_scores,index=['RSME','MAE','R2','Adj_R'])"
   ]
  },
  {
   "cell_type": "code",
   "execution_count": 922,
   "id": "f1426877",
   "metadata": {},
   "outputs": [],
   "source": [
    "def demand_lagging_feature(df):\n",
    "    df1=pd.DataFrame()\n",
    "    df1['Quantity']=df['Quantity']\n",
    "    df1['1_month_back']=df['Quantity'].shift(+1)\n",
    "    df1['2_month_back']=df['Quantity'].shift(+2)\n",
    "    df1['3_Amount_Last']=df['Quantity'].shift(+3)\n",
    "    df1['4_Amount_Last']=df['Quantity'].shift(+4)\n",
    "    df1['5_Amount_Last']=df['Quantity'].shift(+5)\n",
    "    df1['6_Amount_Last']=df['Quantity'].shift(+6)\n",
    "\n",
    "    df1=df1.iloc[6:,:]\n",
    "    \n",
    "    return df1"
   ]
  },
  {
   "cell_type": "code",
   "execution_count": 924,
   "id": "d0ba01cb",
   "metadata": {},
   "outputs": [
    {
     "data": {
      "text/html": [
       "<div>\n",
       "<style scoped>\n",
       "    .dataframe tbody tr th:only-of-type {\n",
       "        vertical-align: middle;\n",
       "    }\n",
       "\n",
       "    .dataframe tbody tr th {\n",
       "        vertical-align: top;\n",
       "    }\n",
       "\n",
       "    .dataframe thead th {\n",
       "        text-align: right;\n",
       "    }\n",
       "</style>\n",
       "<table border=\"1\" class=\"dataframe\">\n",
       "  <thead>\n",
       "    <tr style=\"text-align: right;\">\n",
       "      <th></th>\n",
       "      <th>Quantity</th>\n",
       "      <th>1_month_back</th>\n",
       "      <th>2_month_back</th>\n",
       "      <th>3_Amount_Last</th>\n",
       "      <th>4_Amount_Last</th>\n",
       "      <th>5_Amount_Last</th>\n",
       "      <th>6_Amount_Last</th>\n",
       "    </tr>\n",
       "    <tr>\n",
       "      <th>Date</th>\n",
       "      <th></th>\n",
       "      <th></th>\n",
       "      <th></th>\n",
       "      <th></th>\n",
       "      <th></th>\n",
       "      <th></th>\n",
       "      <th></th>\n",
       "    </tr>\n",
       "  </thead>\n",
       "  <tbody>\n",
       "    <tr>\n",
       "      <th>2019-07-31</th>\n",
       "      <td>28469</td>\n",
       "      <td>32924.0</td>\n",
       "      <td>42736.0</td>\n",
       "      <td>50709.0</td>\n",
       "      <td>4037.0</td>\n",
       "      <td>19757.0</td>\n",
       "      <td>14884.0</td>\n",
       "    </tr>\n",
       "    <tr>\n",
       "      <th>2019-08-31</th>\n",
       "      <td>11287</td>\n",
       "      <td>28469.0</td>\n",
       "      <td>32924.0</td>\n",
       "      <td>42736.0</td>\n",
       "      <td>50709.0</td>\n",
       "      <td>4037.0</td>\n",
       "      <td>19757.0</td>\n",
       "    </tr>\n",
       "    <tr>\n",
       "      <th>2019-09-30</th>\n",
       "      <td>16176</td>\n",
       "      <td>11287.0</td>\n",
       "      <td>28469.0</td>\n",
       "      <td>32924.0</td>\n",
       "      <td>42736.0</td>\n",
       "      <td>50709.0</td>\n",
       "      <td>4037.0</td>\n",
       "    </tr>\n",
       "    <tr>\n",
       "      <th>2019-10-31</th>\n",
       "      <td>31725</td>\n",
       "      <td>16176.0</td>\n",
       "      <td>11287.0</td>\n",
       "      <td>28469.0</td>\n",
       "      <td>32924.0</td>\n",
       "      <td>42736.0</td>\n",
       "      <td>50709.0</td>\n",
       "    </tr>\n",
       "    <tr>\n",
       "      <th>2019-11-30</th>\n",
       "      <td>31337</td>\n",
       "      <td>31725.0</td>\n",
       "      <td>16176.0</td>\n",
       "      <td>11287.0</td>\n",
       "      <td>28469.0</td>\n",
       "      <td>32924.0</td>\n",
       "      <td>42736.0</td>\n",
       "    </tr>\n",
       "    <tr>\n",
       "      <th>2019-12-31</th>\n",
       "      <td>23410</td>\n",
       "      <td>31337.0</td>\n",
       "      <td>31725.0</td>\n",
       "      <td>16176.0</td>\n",
       "      <td>11287.0</td>\n",
       "      <td>28469.0</td>\n",
       "      <td>32924.0</td>\n",
       "    </tr>\n",
       "    <tr>\n",
       "      <th>2020-01-31</th>\n",
       "      <td>13716</td>\n",
       "      <td>23410.0</td>\n",
       "      <td>31337.0</td>\n",
       "      <td>31725.0</td>\n",
       "      <td>16176.0</td>\n",
       "      <td>11287.0</td>\n",
       "      <td>28469.0</td>\n",
       "    </tr>\n",
       "    <tr>\n",
       "      <th>2020-02-29</th>\n",
       "      <td>415</td>\n",
       "      <td>13716.0</td>\n",
       "      <td>23410.0</td>\n",
       "      <td>31337.0</td>\n",
       "      <td>31725.0</td>\n",
       "      <td>16176.0</td>\n",
       "      <td>11287.0</td>\n",
       "    </tr>\n",
       "    <tr>\n",
       "      <th>2020-03-31</th>\n",
       "      <td>7462</td>\n",
       "      <td>415.0</td>\n",
       "      <td>13716.0</td>\n",
       "      <td>23410.0</td>\n",
       "      <td>31337.0</td>\n",
       "      <td>31725.0</td>\n",
       "      <td>16176.0</td>\n",
       "    </tr>\n",
       "    <tr>\n",
       "      <th>2020-04-30</th>\n",
       "      <td>2517</td>\n",
       "      <td>7462.0</td>\n",
       "      <td>415.0</td>\n",
       "      <td>13716.0</td>\n",
       "      <td>23410.0</td>\n",
       "      <td>31337.0</td>\n",
       "      <td>31725.0</td>\n",
       "    </tr>\n",
       "    <tr>\n",
       "      <th>2020-05-31</th>\n",
       "      <td>6746</td>\n",
       "      <td>2517.0</td>\n",
       "      <td>7462.0</td>\n",
       "      <td>415.0</td>\n",
       "      <td>13716.0</td>\n",
       "      <td>23410.0</td>\n",
       "      <td>31337.0</td>\n",
       "    </tr>\n",
       "    <tr>\n",
       "      <th>2020-06-30</th>\n",
       "      <td>13279</td>\n",
       "      <td>6746.0</td>\n",
       "      <td>2517.0</td>\n",
       "      <td>7462.0</td>\n",
       "      <td>415.0</td>\n",
       "      <td>13716.0</td>\n",
       "      <td>23410.0</td>\n",
       "    </tr>\n",
       "    <tr>\n",
       "      <th>2020-07-31</th>\n",
       "      <td>13221</td>\n",
       "      <td>13279.0</td>\n",
       "      <td>6746.0</td>\n",
       "      <td>2517.0</td>\n",
       "      <td>7462.0</td>\n",
       "      <td>415.0</td>\n",
       "      <td>13716.0</td>\n",
       "    </tr>\n",
       "    <tr>\n",
       "      <th>2020-08-31</th>\n",
       "      <td>9343</td>\n",
       "      <td>13221.0</td>\n",
       "      <td>13279.0</td>\n",
       "      <td>6746.0</td>\n",
       "      <td>2517.0</td>\n",
       "      <td>7462.0</td>\n",
       "      <td>415.0</td>\n",
       "    </tr>\n",
       "    <tr>\n",
       "      <th>2020-09-30</th>\n",
       "      <td>7921</td>\n",
       "      <td>9343.0</td>\n",
       "      <td>13221.0</td>\n",
       "      <td>13279.0</td>\n",
       "      <td>6746.0</td>\n",
       "      <td>2517.0</td>\n",
       "      <td>7462.0</td>\n",
       "    </tr>\n",
       "    <tr>\n",
       "      <th>2020-10-31</th>\n",
       "      <td>15301</td>\n",
       "      <td>7921.0</td>\n",
       "      <td>9343.0</td>\n",
       "      <td>13221.0</td>\n",
       "      <td>13279.0</td>\n",
       "      <td>6746.0</td>\n",
       "      <td>2517.0</td>\n",
       "    </tr>\n",
       "    <tr>\n",
       "      <th>2020-11-30</th>\n",
       "      <td>11533</td>\n",
       "      <td>15301.0</td>\n",
       "      <td>7921.0</td>\n",
       "      <td>9343.0</td>\n",
       "      <td>13221.0</td>\n",
       "      <td>13279.0</td>\n",
       "      <td>6746.0</td>\n",
       "    </tr>\n",
       "    <tr>\n",
       "      <th>2020-12-31</th>\n",
       "      <td>21690</td>\n",
       "      <td>11533.0</td>\n",
       "      <td>15301.0</td>\n",
       "      <td>7921.0</td>\n",
       "      <td>9343.0</td>\n",
       "      <td>13221.0</td>\n",
       "      <td>13279.0</td>\n",
       "    </tr>\n",
       "    <tr>\n",
       "      <th>2021-01-31</th>\n",
       "      <td>72672</td>\n",
       "      <td>21690.0</td>\n",
       "      <td>11533.0</td>\n",
       "      <td>15301.0</td>\n",
       "      <td>7921.0</td>\n",
       "      <td>9343.0</td>\n",
       "      <td>13221.0</td>\n",
       "    </tr>\n",
       "    <tr>\n",
       "      <th>2021-02-28</th>\n",
       "      <td>2961</td>\n",
       "      <td>72672.0</td>\n",
       "      <td>21690.0</td>\n",
       "      <td>11533.0</td>\n",
       "      <td>15301.0</td>\n",
       "      <td>7921.0</td>\n",
       "      <td>9343.0</td>\n",
       "    </tr>\n",
       "    <tr>\n",
       "      <th>2021-03-31</th>\n",
       "      <td>3711</td>\n",
       "      <td>2961.0</td>\n",
       "      <td>72672.0</td>\n",
       "      <td>21690.0</td>\n",
       "      <td>11533.0</td>\n",
       "      <td>15301.0</td>\n",
       "      <td>7921.0</td>\n",
       "    </tr>\n",
       "    <tr>\n",
       "      <th>2021-04-30</th>\n",
       "      <td>7469</td>\n",
       "      <td>3711.0</td>\n",
       "      <td>2961.0</td>\n",
       "      <td>72672.0</td>\n",
       "      <td>21690.0</td>\n",
       "      <td>11533.0</td>\n",
       "      <td>15301.0</td>\n",
       "    </tr>\n",
       "    <tr>\n",
       "      <th>2021-05-31</th>\n",
       "      <td>3074</td>\n",
       "      <td>7469.0</td>\n",
       "      <td>3711.0</td>\n",
       "      <td>2961.0</td>\n",
       "      <td>72672.0</td>\n",
       "      <td>21690.0</td>\n",
       "      <td>11533.0</td>\n",
       "    </tr>\n",
       "    <tr>\n",
       "      <th>2021-06-30</th>\n",
       "      <td>5205</td>\n",
       "      <td>3074.0</td>\n",
       "      <td>7469.0</td>\n",
       "      <td>3711.0</td>\n",
       "      <td>2961.0</td>\n",
       "      <td>72672.0</td>\n",
       "      <td>21690.0</td>\n",
       "    </tr>\n",
       "    <tr>\n",
       "      <th>2021-07-31</th>\n",
       "      <td>3828</td>\n",
       "      <td>5205.0</td>\n",
       "      <td>3074.0</td>\n",
       "      <td>7469.0</td>\n",
       "      <td>3711.0</td>\n",
       "      <td>2961.0</td>\n",
       "      <td>72672.0</td>\n",
       "    </tr>\n",
       "    <tr>\n",
       "      <th>2021-08-31</th>\n",
       "      <td>2855</td>\n",
       "      <td>3828.0</td>\n",
       "      <td>5205.0</td>\n",
       "      <td>3074.0</td>\n",
       "      <td>7469.0</td>\n",
       "      <td>3711.0</td>\n",
       "      <td>2961.0</td>\n",
       "    </tr>\n",
       "    <tr>\n",
       "      <th>2021-09-30</th>\n",
       "      <td>1255</td>\n",
       "      <td>2855.0</td>\n",
       "      <td>3828.0</td>\n",
       "      <td>5205.0</td>\n",
       "      <td>3074.0</td>\n",
       "      <td>7469.0</td>\n",
       "      <td>3711.0</td>\n",
       "    </tr>\n",
       "    <tr>\n",
       "      <th>2021-10-31</th>\n",
       "      <td>10315</td>\n",
       "      <td>1255.0</td>\n",
       "      <td>2855.0</td>\n",
       "      <td>3828.0</td>\n",
       "      <td>5205.0</td>\n",
       "      <td>3074.0</td>\n",
       "      <td>7469.0</td>\n",
       "    </tr>\n",
       "    <tr>\n",
       "      <th>2021-11-30</th>\n",
       "      <td>1197</td>\n",
       "      <td>10315.0</td>\n",
       "      <td>1255.0</td>\n",
       "      <td>2855.0</td>\n",
       "      <td>3828.0</td>\n",
       "      <td>5205.0</td>\n",
       "      <td>3074.0</td>\n",
       "    </tr>\n",
       "    <tr>\n",
       "      <th>2021-12-31</th>\n",
       "      <td>7029</td>\n",
       "      <td>1197.0</td>\n",
       "      <td>10315.0</td>\n",
       "      <td>1255.0</td>\n",
       "      <td>2855.0</td>\n",
       "      <td>3828.0</td>\n",
       "      <td>5205.0</td>\n",
       "    </tr>\n",
       "  </tbody>\n",
       "</table>\n",
       "</div>"
      ],
      "text/plain": [
       "            Quantity  1_month_back  ...  5_Amount_Last  6_Amount_Last\n",
       "Date                                ...                              \n",
       "2019-07-31     28469       32924.0  ...        19757.0        14884.0\n",
       "2019-08-31     11287       28469.0  ...         4037.0        19757.0\n",
       "2019-09-30     16176       11287.0  ...        50709.0         4037.0\n",
       "2019-10-31     31725       16176.0  ...        42736.0        50709.0\n",
       "2019-11-30     31337       31725.0  ...        32924.0        42736.0\n",
       "2019-12-31     23410       31337.0  ...        28469.0        32924.0\n",
       "2020-01-31     13716       23410.0  ...        11287.0        28469.0\n",
       "2020-02-29       415       13716.0  ...        16176.0        11287.0\n",
       "2020-03-31      7462         415.0  ...        31725.0        16176.0\n",
       "2020-04-30      2517        7462.0  ...        31337.0        31725.0\n",
       "2020-05-31      6746        2517.0  ...        23410.0        31337.0\n",
       "2020-06-30     13279        6746.0  ...        13716.0        23410.0\n",
       "2020-07-31     13221       13279.0  ...          415.0        13716.0\n",
       "2020-08-31      9343       13221.0  ...         7462.0          415.0\n",
       "2020-09-30      7921        9343.0  ...         2517.0         7462.0\n",
       "2020-10-31     15301        7921.0  ...         6746.0         2517.0\n",
       "2020-11-30     11533       15301.0  ...        13279.0         6746.0\n",
       "2020-12-31     21690       11533.0  ...        13221.0        13279.0\n",
       "2021-01-31     72672       21690.0  ...         9343.0        13221.0\n",
       "2021-02-28      2961       72672.0  ...         7921.0         9343.0\n",
       "2021-03-31      3711        2961.0  ...        15301.0         7921.0\n",
       "2021-04-30      7469        3711.0  ...        11533.0        15301.0\n",
       "2021-05-31      3074        7469.0  ...        21690.0        11533.0\n",
       "2021-06-30      5205        3074.0  ...        72672.0        21690.0\n",
       "2021-07-31      3828        5205.0  ...         2961.0        72672.0\n",
       "2021-08-31      2855        3828.0  ...         3711.0         2961.0\n",
       "2021-09-30      1255        2855.0  ...         7469.0         3711.0\n",
       "2021-10-31     10315        1255.0  ...         3074.0         7469.0\n",
       "2021-11-30      1197       10315.0  ...         5205.0         3074.0\n",
       "2021-12-31      7029        1197.0  ...         3828.0         5205.0\n",
       "\n",
       "[30 rows x 7 columns]"
      ]
     },
     "execution_count": 924,
     "metadata": {},
     "output_type": "execute_result"
    }
   ],
   "source": [
    "demand_lagging_feature(data)"
   ]
  },
  {
   "cell_type": "code",
   "execution_count": 925,
   "id": "e86f2bca",
   "metadata": {},
   "outputs": [],
   "source": [
    "demand_model_scores = {}\n",
    "\n",
    "def demand_get_scores(pred, original_value, model_name):\n",
    "    rmse = np.sqrt(mean_squared_error(original_value,pred))\n",
    "    mae = mean_absolute_error(original_value,pred)\n",
    "    r2 = r2_score(original_value,pred)\n",
    "    n=28\n",
    "    p=6\n",
    "    adj_r2 = 1-(((1-r2)*(n-1))/(n-p-1))\n",
    "    demand_model_scores[model_name] = [rmse, mae, r2,adj_r2]\n",
    "    \n",
    "\n",
    "    print(f\"RMSE: {rmse}\")\n",
    "    print(f\"MAE: {mae}\")\n",
    "    print(f\"R2 Score: {r2}\")\n",
    "    print(f\"Adj_R2 Score: {adj_r2}\")"
   ]
  },
  {
   "cell_type": "code",
   "execution_count": 926,
   "id": "84f8d630",
   "metadata": {},
   "outputs": [
    {
     "data": {
      "text/html": [
       "<div>\n",
       "<style scoped>\n",
       "    .dataframe tbody tr th:only-of-type {\n",
       "        vertical-align: middle;\n",
       "    }\n",
       "\n",
       "    .dataframe tbody tr th {\n",
       "        vertical-align: top;\n",
       "    }\n",
       "\n",
       "    .dataframe thead th {\n",
       "        text-align: right;\n",
       "    }\n",
       "</style>\n",
       "<table border=\"1\" class=\"dataframe\">\n",
       "  <thead>\n",
       "    <tr style=\"text-align: right;\">\n",
       "      <th></th>\n",
       "      <th>1_month_back</th>\n",
       "      <th>2_month_back</th>\n",
       "      <th>3_Amount_Last</th>\n",
       "      <th>4_Amount_Last</th>\n",
       "      <th>5_Amount_Last</th>\n",
       "      <th>6_Amount_Last</th>\n",
       "    </tr>\n",
       "    <tr>\n",
       "      <th>Date</th>\n",
       "      <th></th>\n",
       "      <th></th>\n",
       "      <th></th>\n",
       "      <th></th>\n",
       "      <th></th>\n",
       "      <th></th>\n",
       "    </tr>\n",
       "  </thead>\n",
       "  <tbody>\n",
       "    <tr>\n",
       "      <th>2019-07-31</th>\n",
       "      <td>32924.0</td>\n",
       "      <td>42736.0</td>\n",
       "      <td>50709.0</td>\n",
       "      <td>4037.0</td>\n",
       "      <td>19757.0</td>\n",
       "      <td>14884.0</td>\n",
       "    </tr>\n",
       "    <tr>\n",
       "      <th>2019-08-31</th>\n",
       "      <td>28469.0</td>\n",
       "      <td>32924.0</td>\n",
       "      <td>42736.0</td>\n",
       "      <td>50709.0</td>\n",
       "      <td>4037.0</td>\n",
       "      <td>19757.0</td>\n",
       "    </tr>\n",
       "    <tr>\n",
       "      <th>2019-09-30</th>\n",
       "      <td>11287.0</td>\n",
       "      <td>28469.0</td>\n",
       "      <td>32924.0</td>\n",
       "      <td>42736.0</td>\n",
       "      <td>50709.0</td>\n",
       "      <td>4037.0</td>\n",
       "    </tr>\n",
       "    <tr>\n",
       "      <th>2019-10-31</th>\n",
       "      <td>16176.0</td>\n",
       "      <td>11287.0</td>\n",
       "      <td>28469.0</td>\n",
       "      <td>32924.0</td>\n",
       "      <td>42736.0</td>\n",
       "      <td>50709.0</td>\n",
       "    </tr>\n",
       "    <tr>\n",
       "      <th>2019-11-30</th>\n",
       "      <td>31725.0</td>\n",
       "      <td>16176.0</td>\n",
       "      <td>11287.0</td>\n",
       "      <td>28469.0</td>\n",
       "      <td>32924.0</td>\n",
       "      <td>42736.0</td>\n",
       "    </tr>\n",
       "    <tr>\n",
       "      <th>2019-12-31</th>\n",
       "      <td>31337.0</td>\n",
       "      <td>31725.0</td>\n",
       "      <td>16176.0</td>\n",
       "      <td>11287.0</td>\n",
       "      <td>28469.0</td>\n",
       "      <td>32924.0</td>\n",
       "    </tr>\n",
       "    <tr>\n",
       "      <th>2020-01-31</th>\n",
       "      <td>23410.0</td>\n",
       "      <td>31337.0</td>\n",
       "      <td>31725.0</td>\n",
       "      <td>16176.0</td>\n",
       "      <td>11287.0</td>\n",
       "      <td>28469.0</td>\n",
       "    </tr>\n",
       "    <tr>\n",
       "      <th>2020-02-29</th>\n",
       "      <td>13716.0</td>\n",
       "      <td>23410.0</td>\n",
       "      <td>31337.0</td>\n",
       "      <td>31725.0</td>\n",
       "      <td>16176.0</td>\n",
       "      <td>11287.0</td>\n",
       "    </tr>\n",
       "    <tr>\n",
       "      <th>2020-03-31</th>\n",
       "      <td>415.0</td>\n",
       "      <td>13716.0</td>\n",
       "      <td>23410.0</td>\n",
       "      <td>31337.0</td>\n",
       "      <td>31725.0</td>\n",
       "      <td>16176.0</td>\n",
       "    </tr>\n",
       "    <tr>\n",
       "      <th>2020-04-30</th>\n",
       "      <td>7462.0</td>\n",
       "      <td>415.0</td>\n",
       "      <td>13716.0</td>\n",
       "      <td>23410.0</td>\n",
       "      <td>31337.0</td>\n",
       "      <td>31725.0</td>\n",
       "    </tr>\n",
       "    <tr>\n",
       "      <th>2020-05-31</th>\n",
       "      <td>2517.0</td>\n",
       "      <td>7462.0</td>\n",
       "      <td>415.0</td>\n",
       "      <td>13716.0</td>\n",
       "      <td>23410.0</td>\n",
       "      <td>31337.0</td>\n",
       "    </tr>\n",
       "    <tr>\n",
       "      <th>2020-06-30</th>\n",
       "      <td>6746.0</td>\n",
       "      <td>2517.0</td>\n",
       "      <td>7462.0</td>\n",
       "      <td>415.0</td>\n",
       "      <td>13716.0</td>\n",
       "      <td>23410.0</td>\n",
       "    </tr>\n",
       "    <tr>\n",
       "      <th>2020-07-31</th>\n",
       "      <td>13279.0</td>\n",
       "      <td>6746.0</td>\n",
       "      <td>2517.0</td>\n",
       "      <td>7462.0</td>\n",
       "      <td>415.0</td>\n",
       "      <td>13716.0</td>\n",
       "    </tr>\n",
       "    <tr>\n",
       "      <th>2020-08-31</th>\n",
       "      <td>13221.0</td>\n",
       "      <td>13279.0</td>\n",
       "      <td>6746.0</td>\n",
       "      <td>2517.0</td>\n",
       "      <td>7462.0</td>\n",
       "      <td>415.0</td>\n",
       "    </tr>\n",
       "    <tr>\n",
       "      <th>2020-09-30</th>\n",
       "      <td>9343.0</td>\n",
       "      <td>13221.0</td>\n",
       "      <td>13279.0</td>\n",
       "      <td>6746.0</td>\n",
       "      <td>2517.0</td>\n",
       "      <td>7462.0</td>\n",
       "    </tr>\n",
       "    <tr>\n",
       "      <th>2020-10-31</th>\n",
       "      <td>7921.0</td>\n",
       "      <td>9343.0</td>\n",
       "      <td>13221.0</td>\n",
       "      <td>13279.0</td>\n",
       "      <td>6746.0</td>\n",
       "      <td>2517.0</td>\n",
       "    </tr>\n",
       "    <tr>\n",
       "      <th>2020-11-30</th>\n",
       "      <td>15301.0</td>\n",
       "      <td>7921.0</td>\n",
       "      <td>9343.0</td>\n",
       "      <td>13221.0</td>\n",
       "      <td>13279.0</td>\n",
       "      <td>6746.0</td>\n",
       "    </tr>\n",
       "    <tr>\n",
       "      <th>2020-12-31</th>\n",
       "      <td>11533.0</td>\n",
       "      <td>15301.0</td>\n",
       "      <td>7921.0</td>\n",
       "      <td>9343.0</td>\n",
       "      <td>13221.0</td>\n",
       "      <td>13279.0</td>\n",
       "    </tr>\n",
       "    <tr>\n",
       "      <th>2021-01-31</th>\n",
       "      <td>21690.0</td>\n",
       "      <td>11533.0</td>\n",
       "      <td>15301.0</td>\n",
       "      <td>7921.0</td>\n",
       "      <td>9343.0</td>\n",
       "      <td>13221.0</td>\n",
       "    </tr>\n",
       "    <tr>\n",
       "      <th>2021-02-28</th>\n",
       "      <td>72672.0</td>\n",
       "      <td>21690.0</td>\n",
       "      <td>11533.0</td>\n",
       "      <td>15301.0</td>\n",
       "      <td>7921.0</td>\n",
       "      <td>9343.0</td>\n",
       "    </tr>\n",
       "    <tr>\n",
       "      <th>2021-03-31</th>\n",
       "      <td>2961.0</td>\n",
       "      <td>72672.0</td>\n",
       "      <td>21690.0</td>\n",
       "      <td>11533.0</td>\n",
       "      <td>15301.0</td>\n",
       "      <td>7921.0</td>\n",
       "    </tr>\n",
       "    <tr>\n",
       "      <th>2021-04-30</th>\n",
       "      <td>3711.0</td>\n",
       "      <td>2961.0</td>\n",
       "      <td>72672.0</td>\n",
       "      <td>21690.0</td>\n",
       "      <td>11533.0</td>\n",
       "      <td>15301.0</td>\n",
       "    </tr>\n",
       "    <tr>\n",
       "      <th>2021-05-31</th>\n",
       "      <td>7469.0</td>\n",
       "      <td>3711.0</td>\n",
       "      <td>2961.0</td>\n",
       "      <td>72672.0</td>\n",
       "      <td>21690.0</td>\n",
       "      <td>11533.0</td>\n",
       "    </tr>\n",
       "    <tr>\n",
       "      <th>2021-06-30</th>\n",
       "      <td>3074.0</td>\n",
       "      <td>7469.0</td>\n",
       "      <td>3711.0</td>\n",
       "      <td>2961.0</td>\n",
       "      <td>72672.0</td>\n",
       "      <td>21690.0</td>\n",
       "    </tr>\n",
       "  </tbody>\n",
       "</table>\n",
       "</div>"
      ],
      "text/plain": [
       "            1_month_back  2_month_back  ...  5_Amount_Last  6_Amount_Last\n",
       "Date                                    ...                              \n",
       "2019-07-31       32924.0       42736.0  ...        19757.0        14884.0\n",
       "2019-08-31       28469.0       32924.0  ...         4037.0        19757.0\n",
       "2019-09-30       11287.0       28469.0  ...        50709.0         4037.0\n",
       "2019-10-31       16176.0       11287.0  ...        42736.0        50709.0\n",
       "2019-11-30       31725.0       16176.0  ...        32924.0        42736.0\n",
       "2019-12-31       31337.0       31725.0  ...        28469.0        32924.0\n",
       "2020-01-31       23410.0       31337.0  ...        11287.0        28469.0\n",
       "2020-02-29       13716.0       23410.0  ...        16176.0        11287.0\n",
       "2020-03-31         415.0       13716.0  ...        31725.0        16176.0\n",
       "2020-04-30        7462.0         415.0  ...        31337.0        31725.0\n",
       "2020-05-31        2517.0        7462.0  ...        23410.0        31337.0\n",
       "2020-06-30        6746.0        2517.0  ...        13716.0        23410.0\n",
       "2020-07-31       13279.0        6746.0  ...          415.0        13716.0\n",
       "2020-08-31       13221.0       13279.0  ...         7462.0          415.0\n",
       "2020-09-30        9343.0       13221.0  ...         2517.0         7462.0\n",
       "2020-10-31        7921.0        9343.0  ...         6746.0         2517.0\n",
       "2020-11-30       15301.0        7921.0  ...        13279.0         6746.0\n",
       "2020-12-31       11533.0       15301.0  ...        13221.0        13279.0\n",
       "2021-01-31       21690.0       11533.0  ...         9343.0        13221.0\n",
       "2021-02-28       72672.0       21690.0  ...         7921.0         9343.0\n",
       "2021-03-31        2961.0       72672.0  ...        15301.0         7921.0\n",
       "2021-04-30        3711.0        2961.0  ...        11533.0        15301.0\n",
       "2021-05-31        7469.0        3711.0  ...        21690.0        11533.0\n",
       "2021-06-30        3074.0        7469.0  ...        72672.0        21690.0\n",
       "\n",
       "[24 rows x 6 columns]"
      ]
     },
     "execution_count": 926,
     "metadata": {},
     "output_type": "execute_result"
    }
   ],
   "source": [
    "lag_data=demand_lagging_feature(data)\n",
    "    \n",
    "#scaled_data, scaler_object = scale_data(lag_data)\n",
    "    \n",
    "X_train,X_test,y_train,y_test=train_test_splitting(lag_data)\n",
    "X_train"
   ]
  },
  {
   "cell_type": "code",
   "execution_count": 929,
   "id": "1a75bfd3",
   "metadata": {},
   "outputs": [],
   "source": [
    "def demand_run_model(df1, model, model_name):\n",
    "    \n",
    "    lag_data=demand_lagging_feature(data)\n",
    "    \n",
    "    scaled_data, scaler_object = scale_data(lag_data)\n",
    "    \n",
    "    X_train,X_test,y_train,y_test=train_test_splitting(lag_data)\n",
    "    \n",
    "    model = model\n",
    "    model.fit(X_train, y_train)\n",
    "    predictions = model.predict(X_test)\n",
    "    \n",
    "    #predictions,y_test=undo_scaling(predictions,y_test,scaler_object)\n",
    "    demand_get_scores(predictions, y_test, model_name)\n",
    "    \n",
    "  #  plot_results(predictions, y_test, model_name)"
   ]
  },
  {
   "cell_type": "code",
   "execution_count": 930,
   "id": "ac18c792",
   "metadata": {},
   "outputs": [
    {
     "name": "stdout",
     "output_type": "stream",
     "text": [
      "RMSE: 13895.540033432617\n",
      "MAE: 10916.688370581254\n",
      "R2 Score: -16.888752475702013\n",
      "Adj_R2 Score: -21.999824611616873\n"
     ]
    }
   ],
   "source": [
    "demand_run_model(data,LinearRegression(),'LinearRegression')\n"
   ]
  },
  {
   "cell_type": "code",
   "execution_count": 933,
   "id": "a240077f",
   "metadata": {},
   "outputs": [
    {
     "name": "stdout",
     "output_type": "stream",
     "text": [
      "RMSE: 10678.552096887168\n",
      "MAE: 9978.886666666667\n",
      "R2 Score: -9.564621370452143\n",
      "Adj_R2 Score: -12.583084619152755\n"
     ]
    }
   ],
   "source": [
    "demand_run_model(data,RandomForestRegressor(n_estimators=100, max_depth=20), \n",
    "          'RandomForest')"
   ]
  },
  {
   "cell_type": "code",
   "execution_count": 932,
   "id": "4feffce6",
   "metadata": {},
   "outputs": [
    {
     "name": "stdout",
     "output_type": "stream",
     "text": [
      "RMSE: 7935.608455734571\n",
      "MAE: 7002.342447916667\n",
      "R2 Score: -4.8343121107869385\n",
      "Adj_R2 Score: -6.501258428154635\n"
     ]
    }
   ],
   "source": [
    "demand_run_model(data, XGBRegressor( n_estimators=500, \n",
    "                                    learning_rate=0.2, \n",
    "                                    objective='reg:squarederror'), 'XGBoost')"
   ]
  },
  {
   "cell_type": "markdown",
   "id": "69b4fe8b",
   "metadata": {},
   "source": [
    "# LSTM Model Building"
   ]
  },
  {
   "cell_type": "code",
   "execution_count": 259,
   "id": "8f2b8960",
   "metadata": {},
   "outputs": [],
   "source": [
    "scaler=MinMaxScaler()\n",
    "data_scaled=scaler.fit_transform(data)"
   ]
  },
  {
   "cell_type": "code",
   "execution_count": 260,
   "id": "d370eab0",
   "metadata": {},
   "outputs": [
    {
     "data": {
      "text/plain": [
       "array([[0.25912345, 0.20024358, 0.31212968],\n",
       "       [0.21771284, 0.26768341, 0.01131765],\n",
       "       [0.03826233, 0.05012663, 0.02048656]])"
      ]
     },
     "execution_count": 260,
     "metadata": {},
     "output_type": "execute_result"
    }
   ],
   "source": [
    "data_scaled[:3]"
   ]
  },
  {
   "cell_type": "code",
   "execution_count": 261,
   "id": "e21b1a47",
   "metadata": {},
   "outputs": [],
   "source": [
    "feature=data_scaled\n",
    "target=data_scaled[:,0]"
   ]
  },
  {
   "cell_type": "code",
   "execution_count": 262,
   "id": "372e370b",
   "metadata": {},
   "outputs": [
    {
     "data": {
      "text/plain": [
       "(array([[[0.25912345, 0.20024358, 0.31212968],\n",
       "         [0.21771284, 0.26768341, 0.01131765]]]),\n",
       " array([0.03826233]))"
      ]
     },
     "execution_count": 262,
     "metadata": {},
     "output_type": "execute_result"
    }
   ],
   "source": [
    "TimeseriesGenerator(feature,target,length=2,sampling_rate=1,batch_size=1)[0]"
   ]
  },
  {
   "cell_type": "code",
   "execution_count": 263,
   "id": "9657f24d",
   "metadata": {},
   "outputs": [],
   "source": [
    "X_train,X_test,y_train,y_test=train_test_split(feature,target,test_size=0.20,random_state=123,shuffle=False)"
   ]
  },
  {
   "cell_type": "code",
   "execution_count": 264,
   "id": "f79b0ed9",
   "metadata": {},
   "outputs": [
    {
     "name": "stdout",
     "output_type": "stream",
     "text": [
      "(28, 3) (8, 3) (28,) (8,)\n"
     ]
    }
   ],
   "source": [
    "print(X_train.shape,X_test.shape,y_train.shape,y_test.shape)"
   ]
  },
  {
   "cell_type": "code",
   "execution_count": 265,
   "id": "7276aecd",
   "metadata": {},
   "outputs": [],
   "source": [
    "train_generator=TimeseriesGenerator(X_train,y_train,length=2,sampling_rate=1,batch_size=1)\n",
    "test_generator=TimeseriesGenerator(X_test,y_test,length=2,sampling_rate=1,batch_size=1)"
   ]
  },
  {
   "cell_type": "code",
   "execution_count": 266,
   "id": "ae81c232",
   "metadata": {},
   "outputs": [
    {
     "data": {
      "text/plain": [
       "(array([[[0.25912345, 0.20024358, 0.31212968],\n",
       "         [0.21771284, 0.26768341, 0.01131765]]]),\n",
       " array([0.03826233]))"
      ]
     },
     "execution_count": 266,
     "metadata": {},
     "output_type": "execute_result"
    }
   ],
   "source": [
    "train_generator[0]"
   ]
  },
  {
   "cell_type": "code",
   "execution_count": 267,
   "id": "e66f8397",
   "metadata": {},
   "outputs": [
    {
     "data": {
      "text/plain": [
       "(array([[[0.04739956, 0.0367992 , 0.32546986],\n",
       "         [0.07498075, 0.06629116, 0.22466666]]]),\n",
       " array([0.0460459]))"
      ]
     },
     "execution_count": 267,
     "metadata": {},
     "output_type": "execute_result"
    }
   ],
   "source": [
    "test_generator[0]"
   ]
  },
  {
   "cell_type": "code",
   "execution_count": 378,
   "id": "c2a737b5",
   "metadata": {},
   "outputs": [],
   "source": [
    "model = Sequential()\n",
    "model.add(LSTM(128, input_shape=(2,3),return_sequences=True))\n",
    "\n",
    "\n",
    "model.add(LSTM(64,return_sequences=True))\n",
    "model.add(Activation('tanh'))\n",
    "model.add(Dropout(0.3))\n",
    "\n",
    "\n",
    "model.add(LSTM(32,return_sequences=True))\n",
    "model.add(Activation('tanh'))\n",
    "model.add(Dropout(0.3))\n",
    "\n",
    "model.add(LSTM(16,return_sequences=False))\n",
    "model.add(Activation('tanh'))\n",
    "model.add(Dropout(0.3))\n",
    "\n",
    "model.add(Dense(1))\n",
    "model.add(Activation('linear'))"
   ]
  },
  {
   "cell_type": "code",
   "execution_count": 379,
   "id": "885acb7d",
   "metadata": {},
   "outputs": [
    {
     "name": "stdout",
     "output_type": "stream",
     "text": [
      "Model: \"sequential_28\"\n",
      "_________________________________________________________________\n",
      " Layer (type)                Output Shape              Param #   \n",
      "=================================================================\n",
      " lstm_74 (LSTM)              (None, 2, 128)            67584     \n",
      "                                                                 \n",
      " lstm_75 (LSTM)              (None, 2, 64)             49408     \n",
      "                                                                 \n",
      " activation_16 (Activation)  (None, 2, 64)             0         \n",
      "                                                                 \n",
      " dropout_49 (Dropout)        (None, 2, 64)             0         \n",
      "                                                                 \n",
      " lstm_76 (LSTM)              (None, 2, 32)             12416     \n",
      "                                                                 \n",
      " activation_17 (Activation)  (None, 2, 32)             0         \n",
      "                                                                 \n",
      " dropout_50 (Dropout)        (None, 2, 32)             0         \n",
      "                                                                 \n",
      " lstm_77 (LSTM)              (None, 16)                3136      \n",
      "                                                                 \n",
      " activation_18 (Activation)  (None, 16)                0         \n",
      "                                                                 \n",
      " dropout_51 (Dropout)        (None, 16)                0         \n",
      "                                                                 \n",
      " dense_16 (Dense)            (None, 1)                 17        \n",
      "                                                                 \n",
      " activation_19 (Activation)  (None, 1)                 0         \n",
      "                                                                 \n",
      "=================================================================\n",
      "Total params: 132,561\n",
      "Trainable params: 132,561\n",
      "Non-trainable params: 0\n",
      "_________________________________________________________________\n"
     ]
    }
   ],
   "source": [
    "model.summary()"
   ]
  },
  {
   "cell_type": "code",
   "execution_count": 380,
   "id": "4dbf98eb",
   "metadata": {},
   "outputs": [
    {
     "name": "stdout",
     "output_type": "stream",
     "text": [
      "Epoch 1/50\n",
      "26/26 [==============================] - 33s 237ms/step - loss: 0.1116 - mean_absolute_error: 0.2347 - val_loss: 0.0028 - val_mean_absolute_error: 0.0475\n",
      "Epoch 2/50\n",
      "26/26 [==============================] - 1s 22ms/step - loss: 0.0841 - mean_absolute_error: 0.2022 - val_loss: 0.0183 - val_mean_absolute_error: 0.1249\n",
      "Epoch 3/50\n",
      "26/26 [==============================] - 1s 25ms/step - loss: 0.0662 - mean_absolute_error: 0.1845 - val_loss: 0.0241 - val_mean_absolute_error: 0.1466\n",
      "Epoch 4/50\n",
      "26/26 [==============================] - 1s 25ms/step - loss: 0.0673 - mean_absolute_error: 0.1910 - val_loss: 0.0227 - val_mean_absolute_error: 0.1426\n",
      "Epoch 5/50\n",
      "26/26 [==============================] - 1s 26ms/step - loss: 0.0600 - mean_absolute_error: 0.1697 - val_loss: 0.0250 - val_mean_absolute_error: 0.1505\n",
      "Epoch 6/50\n",
      "26/26 [==============================] - 1s 36ms/step - loss: 0.0677 - mean_absolute_error: 0.1897 - val_loss: 0.0283 - val_mean_absolute_error: 0.1614\n",
      "Epoch 7/50\n",
      "26/26 [==============================] - 1s 33ms/step - loss: 0.0614 - mean_absolute_error: 0.1840 - val_loss: 0.0275 - val_mean_absolute_error: 0.1591\n",
      "Epoch 8/50\n",
      "26/26 [==============================] - 1s 24ms/step - loss: 0.0608 - mean_absolute_error: 0.1786 - val_loss: 0.0261 - val_mean_absolute_error: 0.1551\n",
      "Epoch 9/50\n",
      "26/26 [==============================] - 1s 20ms/step - loss: 0.0575 - mean_absolute_error: 0.1738 - val_loss: 0.0259 - val_mean_absolute_error: 0.1546\n",
      "Epoch 10/50\n",
      "26/26 [==============================] - 0s 17ms/step - loss: 0.0633 - mean_absolute_error: 0.1884 - val_loss: 0.0280 - val_mean_absolute_error: 0.1613\n",
      "Epoch 11/50\n",
      "26/26 [==============================] - 0s 17ms/step - loss: 0.0602 - mean_absolute_error: 0.1887 - val_loss: 0.0278 - val_mean_absolute_error: 0.1605\n",
      "Epoch 12/50\n",
      "26/26 [==============================] - 0s 17ms/step - loss: 0.0603 - mean_absolute_error: 0.1845 - val_loss: 0.0241 - val_mean_absolute_error: 0.1486\n",
      "Epoch 13/50\n",
      "26/26 [==============================] - 0s 17ms/step - loss: 0.0560 - mean_absolute_error: 0.1761 - val_loss: 0.0260 - val_mean_absolute_error: 0.1544\n",
      "Epoch 14/50\n",
      "26/26 [==============================] - 0s 18ms/step - loss: 0.0580 - mean_absolute_error: 0.1820 - val_loss: 0.0240 - val_mean_absolute_error: 0.1467\n",
      "Epoch 15/50\n",
      "26/26 [==============================] - 0s 18ms/step - loss: 0.0563 - mean_absolute_error: 0.1723 - val_loss: 0.0204 - val_mean_absolute_error: 0.1319\n",
      "Epoch 16/50\n",
      "26/26 [==============================] - 0s 18ms/step - loss: 0.0597 - mean_absolute_error: 0.1782 - val_loss: 0.0194 - val_mean_absolute_error: 0.1249\n",
      "Epoch 17/50\n",
      "26/26 [==============================] - 0s 16ms/step - loss: 0.0562 - mean_absolute_error: 0.1800 - val_loss: 0.0162 - val_mean_absolute_error: 0.1066\n",
      "Epoch 18/50\n",
      "26/26 [==============================] - 0s 17ms/step - loss: 0.0536 - mean_absolute_error: 0.1686 - val_loss: 0.0190 - val_mean_absolute_error: 0.1192\n",
      "Epoch 19/50\n",
      "26/26 [==============================] - 0s 18ms/step - loss: 0.0474 - mean_absolute_error: 0.1656 - val_loss: 0.0166 - val_mean_absolute_error: 0.1143\n",
      "Epoch 20/50\n",
      "26/26 [==============================] - 0s 15ms/step - loss: 0.0560 - mean_absolute_error: 0.1739 - val_loss: 0.0215 - val_mean_absolute_error: 0.1327\n",
      "Epoch 21/50\n",
      "26/26 [==============================] - 0s 15ms/step - loss: 0.0560 - mean_absolute_error: 0.1816 - val_loss: 0.0194 - val_mean_absolute_error: 0.1236\n"
     ]
    }
   ],
   "source": [
    "from keras.callbacks import EarlyStopping\n",
    "early_stopping = EarlyStopping(monitor='val_loss', patience=20)\n",
    "\n",
    "model.compile(loss=tf.losses.MeanSquaredError(), \n",
    "              optimizer=tf.optimizers.Adam(),\n",
    "              metrics=[tf.losses.MeanAbsoluteError()])\n",
    "\n",
    "\n",
    "history=model.fit(train_generator,epochs=50,\n",
    "                  validation_data=test_generator,\n",
    "                 shuffle=False,\n",
    "                 callbacks=[early_stopping])"
   ]
  },
  {
   "cell_type": "code",
   "execution_count": 381,
   "id": "7220e2fd",
   "metadata": {},
   "outputs": [
    {
     "name": "stdout",
     "output_type": "stream",
     "text": [
      "6/6 [==============================] - 11s 7ms/step\n"
     ]
    }
   ],
   "source": [
    "# make predictions on the test data\n",
    "prediction = model.predict(test_generator)\n"
   ]
  },
  {
   "cell_type": "code",
   "execution_count": 382,
   "id": "64c855ee",
   "metadata": {},
   "outputs": [
    {
     "data": {
      "text/plain": [
       "array([[ 0.13297878],\n",
       "       [ 0.19553474],\n",
       "       [ 0.24467432],\n",
       "       [ 0.15926602],\n",
       "       [-0.13091895],\n",
       "       [ 0.21498224]], dtype=float32)"
      ]
     },
     "execution_count": 382,
     "metadata": {},
     "output_type": "execute_result"
    }
   ],
   "source": [
    "prediction"
   ]
  },
  {
   "cell_type": "code",
   "execution_count": 383,
   "id": "33b9ba30",
   "metadata": {},
   "outputs": [
    {
     "data": {
      "text/plain": [
       "array([0.04739956, 0.07498075, 0.0460459 , 0.02855436, 0.03251934,\n",
       "       0.15171019, 0.00744634, 0.08539045])"
      ]
     },
     "execution_count": 383,
     "metadata": {},
     "output_type": "execute_result"
    }
   ],
   "source": [
    "y_test\n"
   ]
  },
  {
   "cell_type": "code",
   "execution_count": 384,
   "id": "91c6c662",
   "metadata": {},
   "outputs": [
    {
     "data": {
      "text/plain": [
       "array([[0.04739956, 0.0367992 , 0.32546986],\n",
       "       [0.07498075, 0.06629116, 0.22466666],\n",
       "       [0.0460459 , 0.04723418, 0.14337495],\n",
       "       [0.02855436, 0.03376835, 0.08627088],\n",
       "       [0.03251934, 0.01162517, 1.        ],\n",
       "       [0.15171019, 0.13701095, 0.19988619],\n",
       "       [0.00744634, 0.01082248, 0.1094895 ],\n",
       "       [0.08539045, 0.09153438, 0.10052113]])"
      ]
     },
     "execution_count": 384,
     "metadata": {},
     "output_type": "execute_result"
    }
   ],
   "source": [
    "X_test"
   ]
  },
  {
   "cell_type": "code",
   "execution_count": 385,
   "id": "05da0217",
   "metadata": {},
   "outputs": [
    {
     "data": {
      "text/plain": [
       "array([[0.04723418, 0.14337495],\n",
       "       [0.03376835, 0.08627088],\n",
       "       [0.01162517, 1.        ],\n",
       "       [0.13701095, 0.19988619],\n",
       "       [0.01082248, 0.1094895 ],\n",
       "       [0.09153438, 0.10052113]])"
      ]
     },
     "execution_count": 385,
     "metadata": {},
     "output_type": "execute_result"
    }
   ],
   "source": [
    "X_test[:,1:][2:]"
   ]
  },
  {
   "cell_type": "code",
   "execution_count": 386,
   "id": "b46383ff",
   "metadata": {},
   "outputs": [],
   "source": [
    "df_pred=pd.concat([pd.DataFrame(prediction),pd.DataFrame(X_test[:,1:][2:])],axis=1)"
   ]
  },
  {
   "cell_type": "code",
   "execution_count": 387,
   "id": "04fc439f",
   "metadata": {},
   "outputs": [
    {
     "data": {
      "text/html": [
       "<div>\n",
       "<style scoped>\n",
       "    .dataframe tbody tr th:only-of-type {\n",
       "        vertical-align: middle;\n",
       "    }\n",
       "\n",
       "    .dataframe tbody tr th {\n",
       "        vertical-align: top;\n",
       "    }\n",
       "\n",
       "    .dataframe thead th {\n",
       "        text-align: right;\n",
       "    }\n",
       "</style>\n",
       "<table border=\"1\" class=\"dataframe\">\n",
       "  <thead>\n",
       "    <tr style=\"text-align: right;\">\n",
       "      <th></th>\n",
       "      <th>0</th>\n",
       "      <th>0</th>\n",
       "      <th>1</th>\n",
       "    </tr>\n",
       "  </thead>\n",
       "  <tbody>\n",
       "    <tr>\n",
       "      <th>0</th>\n",
       "      <td>0.132979</td>\n",
       "      <td>0.047234</td>\n",
       "      <td>0.143375</td>\n",
       "    </tr>\n",
       "    <tr>\n",
       "      <th>1</th>\n",
       "      <td>0.195535</td>\n",
       "      <td>0.033768</td>\n",
       "      <td>0.086271</td>\n",
       "    </tr>\n",
       "    <tr>\n",
       "      <th>2</th>\n",
       "      <td>0.244674</td>\n",
       "      <td>0.011625</td>\n",
       "      <td>1.000000</td>\n",
       "    </tr>\n",
       "    <tr>\n",
       "      <th>3</th>\n",
       "      <td>0.159266</td>\n",
       "      <td>0.137011</td>\n",
       "      <td>0.199886</td>\n",
       "    </tr>\n",
       "    <tr>\n",
       "      <th>4</th>\n",
       "      <td>-0.130919</td>\n",
       "      <td>0.010822</td>\n",
       "      <td>0.109490</td>\n",
       "    </tr>\n",
       "    <tr>\n",
       "      <th>5</th>\n",
       "      <td>0.214982</td>\n",
       "      <td>0.091534</td>\n",
       "      <td>0.100521</td>\n",
       "    </tr>\n",
       "  </tbody>\n",
       "</table>\n",
       "</div>"
      ],
      "text/plain": [
       "          0         0         1\n",
       "0  0.132979  0.047234  0.143375\n",
       "1  0.195535  0.033768  0.086271\n",
       "2  0.244674  0.011625  1.000000\n",
       "3  0.159266  0.137011  0.199886\n",
       "4 -0.130919  0.010822  0.109490\n",
       "5  0.214982  0.091534  0.100521"
      ]
     },
     "execution_count": 387,
     "metadata": {},
     "output_type": "execute_result"
    }
   ],
   "source": [
    "df_pred"
   ]
  },
  {
   "cell_type": "code",
   "execution_count": 388,
   "id": "1c85e03f",
   "metadata": {},
   "outputs": [],
   "source": [
    "rev_trans=scaler.inverse_transform(df_pred)"
   ]
  },
  {
   "cell_type": "code",
   "execution_count": 389,
   "id": "3112c75c",
   "metadata": {},
   "outputs": [
    {
     "data": {
      "text/plain": [
       "array([[ 2.39274509e+05,  3.82800000e+03,  2.41888715e+01],\n",
       "       [ 3.44823480e+05,  2.85500000e+03,  2.20952715e+01],\n",
       "       [ 4.27735382e+05,  1.25500000e+03,  5.55952191e+01],\n",
       "       [ 2.83628264e+05,  1.03150000e+04,  2.62607368e+01],\n",
       "       [-2.05993009e+05,  1.19700000e+03,  2.29465330e+01],\n",
       "       [ 3.77636731e+05,  7.02900000e+03,  2.26177266e+01]])"
      ]
     },
     "execution_count": 389,
     "metadata": {},
     "output_type": "execute_result"
    }
   ],
   "source": [
    "rev_trans"
   ]
  },
  {
   "cell_type": "code",
   "execution_count": 390,
   "id": "1808989d",
   "metadata": {},
   "outputs": [],
   "source": [
    "df_final=data[prediction.shape[0]*-1:]"
   ]
  },
  {
   "cell_type": "code",
   "execution_count": 391,
   "id": "9498c624",
   "metadata": {},
   "outputs": [
    {
     "data": {
      "text/plain": [
       "Amount            6\n",
       "Quantity          6\n",
       "Price_per_unit    6\n",
       "dtype: int64"
      ]
     },
     "execution_count": 391,
     "metadata": {},
     "output_type": "execute_result"
    }
   ],
   "source": [
    "df_final.count()"
   ]
  },
  {
   "cell_type": "code",
   "execution_count": 392,
   "id": "5110d58e",
   "metadata": {},
   "outputs": [
    {
     "name": "stderr",
     "output_type": "stream",
     "text": [
      "C:\\Users\\Kuldeep\\AppData\\Local\\Temp\\ipykernel_6148\\3779226330.py:1: SettingWithCopyWarning: \n",
      "A value is trying to be set on a copy of a slice from a DataFrame.\n",
      "Try using .loc[row_indexer,col_indexer] = value instead\n",
      "\n",
      "See the caveats in the documentation: https://pandas.pydata.org/pandas-docs/stable/user_guide/indexing.html#returning-a-view-versus-a-copy\n",
      "  df_final['App_pred']=rev_trans[:,0]\n"
     ]
    }
   ],
   "source": [
    "df_final['App_pred']=rev_trans[:,0]"
   ]
  },
  {
   "cell_type": "code",
   "execution_count": 393,
   "id": "0cf7dab3",
   "metadata": {},
   "outputs": [
    {
     "data": {
      "text/html": [
       "<div>\n",
       "<style scoped>\n",
       "    .dataframe tbody tr th:only-of-type {\n",
       "        vertical-align: middle;\n",
       "    }\n",
       "\n",
       "    .dataframe tbody tr th {\n",
       "        vertical-align: top;\n",
       "    }\n",
       "\n",
       "    .dataframe thead th {\n",
       "        text-align: right;\n",
       "    }\n",
       "</style>\n",
       "<table border=\"1\" class=\"dataframe\">\n",
       "  <thead>\n",
       "    <tr style=\"text-align: right;\">\n",
       "      <th></th>\n",
       "      <th>Amount</th>\n",
       "      <th>Quantity</th>\n",
       "      <th>Price_per_unit</th>\n",
       "      <th>App_pred</th>\n",
       "    </tr>\n",
       "    <tr>\n",
       "      <th>Date</th>\n",
       "      <th></th>\n",
       "      <th></th>\n",
       "      <th></th>\n",
       "      <th></th>\n",
       "    </tr>\n",
       "  </thead>\n",
       "  <tbody>\n",
       "    <tr>\n",
       "      <th>2021-07-31</th>\n",
       "      <td>92595.0</td>\n",
       "      <td>3828</td>\n",
       "      <td>24.188871</td>\n",
       "      <td>239274.508539</td>\n",
       "    </tr>\n",
       "    <tr>\n",
       "      <th>2021-08-31</th>\n",
       "      <td>63082.0</td>\n",
       "      <td>2855</td>\n",
       "      <td>22.095271</td>\n",
       "      <td>344823.480477</td>\n",
       "    </tr>\n",
       "    <tr>\n",
       "      <th>2021-09-30</th>\n",
       "      <td>69772.0</td>\n",
       "      <td>1255</td>\n",
       "      <td>55.595219</td>\n",
       "      <td>427735.382348</td>\n",
       "    </tr>\n",
       "    <tr>\n",
       "      <th>2021-10-31</th>\n",
       "      <td>270879.5</td>\n",
       "      <td>10315</td>\n",
       "      <td>26.260737</td>\n",
       "      <td>283628.263510</td>\n",
       "    </tr>\n",
       "    <tr>\n",
       "      <th>2021-11-30</th>\n",
       "      <td>27467.0</td>\n",
       "      <td>1197</td>\n",
       "      <td>22.946533</td>\n",
       "      <td>-205993.009258</td>\n",
       "    </tr>\n",
       "    <tr>\n",
       "      <th>2021-12-31</th>\n",
       "      <td>158980.0</td>\n",
       "      <td>7029</td>\n",
       "      <td>22.617727</td>\n",
       "      <td>377636.731380</td>\n",
       "    </tr>\n",
       "  </tbody>\n",
       "</table>\n",
       "</div>"
      ],
      "text/plain": [
       "              Amount  Quantity  Price_per_unit       App_pred\n",
       "Date                                                         \n",
       "2021-07-31   92595.0      3828       24.188871  239274.508539\n",
       "2021-08-31   63082.0      2855       22.095271  344823.480477\n",
       "2021-09-30   69772.0      1255       55.595219  427735.382348\n",
       "2021-10-31  270879.5     10315       26.260737  283628.263510\n",
       "2021-11-30   27467.0      1197       22.946533 -205993.009258\n",
       "2021-12-31  158980.0      7029       22.617727  377636.731380"
      ]
     },
     "execution_count": 393,
     "metadata": {},
     "output_type": "execute_result"
    }
   ],
   "source": [
    "df_final"
   ]
  },
  {
   "cell_type": "code",
   "execution_count": 394,
   "id": "13206d2d",
   "metadata": {},
   "outputs": [
    {
     "data": {
      "text/plain": [
       "<AxesSubplot:xlabel='Date'>"
      ]
     },
     "execution_count": 394,
     "metadata": {},
     "output_type": "execute_result"
    },
    {
     "data": {
      "image/png": "[encoded data removed]",
      "text/plain": [
       "<Figure size 432x288 with 1 Axes>"
      ]
     },
     "metadata": {
      "needs_background": "light"
     },
     "output_type": "display_data"
    }
   ],
   "source": [
    "df_final[['Amount','App_pred']].plot()"
   ]
  },
  {
   "cell_type": "code",
   "execution_count": 396,
   "id": "27c469e9",
   "metadata": {},
   "outputs": [
    {
     "data": {
      "text/plain": [
       "208541.64591846615"
      ]
     },
     "execution_count": 396,
     "metadata": {},
     "output_type": "execute_result"
    }
   ],
   "source": [
    "mean_absolute_error(df_final['Amount'],df_final['App_pred'])"
   ]
  },
  {
   "cell_type": "code",
   "execution_count": 944,
   "id": "040bbd5f",
   "metadata": {},
   "outputs": [],
   "source": [
    "data1=pd.read_csv('111.csv')"
   ]
  },
  {
   "cell_type": "code",
   "execution_count": 949,
   "id": "b38b2071",
   "metadata": {},
   "outputs": [],
   "source": [
    "data2=data1.iloc[:,1:4]"
   ]
  },
  {
   "cell_type": "code",
   "execution_count": 974,
   "id": "81d11d4f",
   "metadata": {},
   "outputs": [
    {
     "data": {
      "text/plain": [
       "array([[6.30820000e+04, 2.85500000e+03, 2.20952715e+01],\n",
       "       [6.97720000e+04, 1.25500000e+03, 5.55952191e+01],\n",
       "       [2.70879500e+05, 1.03150000e+04, 2.62607368e+01],\n",
       "       [2.74670000e+04, 1.19700000e+03, 2.29465330e+01],\n",
       "       [1.58980000e+05, 7.02900000e+03, 2.26177266e+01]])"
      ]
     },
     "execution_count": 974,
     "metadata": {},
     "output_type": "execute_result"
    }
   ],
   "source": [
    "scaler.inverse_transform(scaled[-5:,:])"
   ]
  },
  {
   "cell_type": "code",
   "execution_count": 976,
   "id": "beda89c1",
   "metadata": {},
   "outputs": [
    {
     "data": {
      "text/html": [
       "<div>\n",
       "<style scoped>\n",
       "    .dataframe tbody tr th:only-of-type {\n",
       "        vertical-align: middle;\n",
       "    }\n",
       "\n",
       "    .dataframe tbody tr th {\n",
       "        vertical-align: top;\n",
       "    }\n",
       "\n",
       "    .dataframe thead th {\n",
       "        text-align: right;\n",
       "    }\n",
       "</style>\n",
       "<table border=\"1\" class=\"dataframe\">\n",
       "  <thead>\n",
       "    <tr style=\"text-align: right;\">\n",
       "      <th></th>\n",
       "      <th>Amount</th>\n",
       "      <th>Quantity</th>\n",
       "      <th>Price_per_unit</th>\n",
       "    </tr>\n",
       "  </thead>\n",
       "  <tbody>\n",
       "    <tr>\n",
       "      <th>31</th>\n",
       "      <td>63082.0</td>\n",
       "      <td>2855</td>\n",
       "      <td>22.095271</td>\n",
       "    </tr>\n",
       "    <tr>\n",
       "      <th>32</th>\n",
       "      <td>69772.0</td>\n",
       "      <td>1255</td>\n",
       "      <td>55.595219</td>\n",
       "    </tr>\n",
       "    <tr>\n",
       "      <th>33</th>\n",
       "      <td>270879.5</td>\n",
       "      <td>10315</td>\n",
       "      <td>26.260737</td>\n",
       "    </tr>\n",
       "    <tr>\n",
       "      <th>34</th>\n",
       "      <td>27467.0</td>\n",
       "      <td>1197</td>\n",
       "      <td>22.946533</td>\n",
       "    </tr>\n",
       "    <tr>\n",
       "      <th>35</th>\n",
       "      <td>158980.0</td>\n",
       "      <td>7029</td>\n",
       "      <td>22.617727</td>\n",
       "    </tr>\n",
       "  </tbody>\n",
       "</table>\n",
       "</div>"
      ],
      "text/plain": [
       "      Amount  Quantity  Price_per_unit\n",
       "31   63082.0      2855       22.095271\n",
       "32   69772.0      1255       55.595219\n",
       "33  270879.5     10315       26.260737\n",
       "34   27467.0      1197       22.946533\n",
       "35  158980.0      7029       22.617727"
      ]
     },
     "execution_count": 976,
     "metadata": {},
     "output_type": "execute_result"
    }
   ],
   "source": [
    "data2.tail()"
   ]
  },
  {
   "cell_type": "code",
   "execution_count": 953,
   "id": "214dc926",
   "metadata": {},
   "outputs": [],
   "source": [
    "scaler=MinMaxScaler()"
   ]
  },
  {
   "cell_type": "code",
   "execution_count": 975,
   "id": "032d3445",
   "metadata": {},
   "outputs": [
    {
     "data": {
      "text/plain": [
       "array([[0.02855436, 0.03376835, 0.08627088],\n",
       "       [0.03251934, 0.01162517, 1.        ],\n",
       "       [0.15171019, 0.13701095, 0.19988619],\n",
       "       [0.00744634, 0.01082248, 0.1094895 ],\n",
       "       [0.08539045, 0.09153438, 0.10052113]])"
      ]
     },
     "execution_count": 975,
     "metadata": {},
     "output_type": "execute_result"
    }
   ],
   "source": [
    "scaled=scaler.fit_transform(data2)\n",
    "scaled[-5:,:]"
   ]
  },
  {
   "cell_type": "code",
   "execution_count": null,
   "id": "9ced5f0b",
   "metadata": {},
   "outputs": [],
   "source": []
  }
 ],
 "metadata": {
  "kernelspec": {
   "display_name": "Python 3 (ipykernel)",
   "language": "python",
   "name": "python3"
  },
  "language_info": {
   "codemirror_mode": {
    "name": "ipython",
    "version": 3
   },
   "file_extension": ".py",
   "mimetype": "text/x-python",
   "name": "python",
   "nbconvert_exporter": "python",
   "pygments_lexer": "ipython3",
   "version": "3.9.13"
  }
 },
 "nbformat": 4,
 "nbformat_minor": 5
}
