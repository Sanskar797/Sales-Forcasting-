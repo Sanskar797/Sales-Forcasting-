{
 "cells": [
  {
   "cell_type": "markdown",
   "id": "6489353a",
   "metadata": {},
   "source": [
    "### Importing necessary libraries"
   ]
  },
  {
   "cell_type": "code",
   "execution_count": 1,
   "id": "ebc7ec01",
   "metadata": {},
   "outputs": [],
   "source": [
    "import pandas as pd\n",
    "import numpy as np\n",
    "import seaborn as sns\n",
    "import matplotlib.pyplot as plt\n",
    "import warnings\n",
    "warnings.filterwarnings('ignore')\n",
    "\n",
    "from sklearn.model_selection import train_test_split\n",
    "from sklearn.preprocessing import StandardScaler\n",
    "\n",
    "from sklearn.linear_model import LinearRegression\n",
    "from sklearn.tree import DecisionTreeRegressor\n",
    "from sklearn.ensemble import RandomForestRegressor\n",
    "from sklearn.svm import SVR\n",
    "from sklearn.neighbors import KNeighborsRegressor\n",
    "from xgboost import XGBRegressor\n",
    "\n",
    "from sklearn.metrics import mean_squared_error, mean_absolute_error, r2_score\n",
    "\n",
    "from sklearn.model_selection import GridSearchCV"
   ]
  },
  {
   "cell_type": "markdown",
   "id": "760e9e3b",
   "metadata": {},
   "source": [
    "### Importing the data"
   ]
  },
  {
   "cell_type": "code",
   "execution_count": 3,
   "id": "6e9b9044",
   "metadata": {},
   "outputs": [],
   "source": [
    "data = pd.read_csv('final.csv')"
   ]
  },
  {
   "cell_type": "code",
   "execution_count": 4,
   "id": "f7c8e421",
   "metadata": {},
   "outputs": [
    {
     "data": {
      "text/html": [
       "<div>\n",
       "<style scoped>\n",
       "    .dataframe tbody tr th:only-of-type {\n",
       "        vertical-align: middle;\n",
       "    }\n",
       "\n",
       "    .dataframe tbody tr th {\n",
       "        vertical-align: top;\n",
       "    }\n",
       "\n",
       "    .dataframe thead th {\n",
       "        text-align: right;\n",
       "    }\n",
       "</style>\n",
       "<table border=\"1\" class=\"dataframe\">\n",
       "  <thead>\n",
       "    <tr style=\"text-align: right;\">\n",
       "      <th></th>\n",
       "      <th>Date</th>\n",
       "      <th>Customer_Name</th>\n",
       "      <th>Item_Name</th>\n",
       "      <th>Vrh_No</th>\n",
       "      <th>Quantity</th>\n",
       "      <th>Price_per_unit</th>\n",
       "      <th>Amount</th>\n",
       "    </tr>\n",
       "  </thead>\n",
       "  <tbody>\n",
       "    <tr>\n",
       "      <th>0</th>\n",
       "      <td>2019-01-04</td>\n",
       "      <td>customer1</td>\n",
       "      <td>Item_1</td>\n",
       "      <td>1</td>\n",
       "      <td>200</td>\n",
       "      <td>20</td>\n",
       "      <td>4000</td>\n",
       "    </tr>\n",
       "    <tr>\n",
       "      <th>1</th>\n",
       "      <td>2019-01-04</td>\n",
       "      <td>customer7</td>\n",
       "      <td>Item_3</td>\n",
       "      <td>10</td>\n",
       "      <td>15</td>\n",
       "      <td>33</td>\n",
       "      <td>495</td>\n",
       "    </tr>\n",
       "    <tr>\n",
       "      <th>2</th>\n",
       "      <td>2019-01-04</td>\n",
       "      <td>customer7</td>\n",
       "      <td>Item_1</td>\n",
       "      <td>10</td>\n",
       "      <td>50</td>\n",
       "      <td>20</td>\n",
       "      <td>1000</td>\n",
       "    </tr>\n",
       "    <tr>\n",
       "      <th>3</th>\n",
       "      <td>2019-01-04</td>\n",
       "      <td>customer8</td>\n",
       "      <td>Item_11</td>\n",
       "      <td>11</td>\n",
       "      <td>80</td>\n",
       "      <td>30</td>\n",
       "      <td>2400</td>\n",
       "    </tr>\n",
       "    <tr>\n",
       "      <th>4</th>\n",
       "      <td>2019-01-04</td>\n",
       "      <td>customer8</td>\n",
       "      <td>Item_7</td>\n",
       "      <td>11</td>\n",
       "      <td>624</td>\n",
       "      <td>21</td>\n",
       "      <td>13416</td>\n",
       "    </tr>\n",
       "  </tbody>\n",
       "</table>\n",
       "</div>"
      ],
      "text/plain": [
       "         Date Customer_Name Item_Name  Vrh_No  Quantity  Price_per_unit  \\\n",
       "0  2019-01-04     customer1    Item_1       1       200              20   \n",
       "1  2019-01-04     customer7    Item_3      10        15              33   \n",
       "2  2019-01-04     customer7    Item_1      10        50              20   \n",
       "3  2019-01-04     customer8   Item_11      11        80              30   \n",
       "4  2019-01-04     customer8    Item_7      11       624              21   \n",
       "\n",
       "   Amount  \n",
       "0    4000  \n",
       "1     495  \n",
       "2    1000  \n",
       "3    2400  \n",
       "4   13416  "
      ]
     },
     "execution_count": 4,
     "metadata": {},
     "output_type": "execute_result"
    }
   ],
   "source": [
    "# First 5 rows of the data\n",
    "data.head()"
   ]
  },
  {
   "cell_type": "code",
   "execution_count": 5,
   "id": "f03a8ba4",
   "metadata": {},
   "outputs": [],
   "source": [
    "# This will remove \"customer\" from all the values in 'Customer_Name' column.\n",
    "data['Customer_Name']=data['Customer_Name'].apply(lambda x:x.lstrip('customer'))\n",
    "\n",
    "# This will remove \"Item_\" from all the values in 'Item_Name' column.\n",
    "data['Item_Name']=data['Item_Name'].apply(lambda x:x.lstrip('Item_'))"
   ]
  },
  {
   "cell_type": "code",
   "execution_count": 6,
   "id": "75c2b624",
   "metadata": {},
   "outputs": [
    {
     "data": {
      "text/html": [
       "<div>\n",
       "<style scoped>\n",
       "    .dataframe tbody tr th:only-of-type {\n",
       "        vertical-align: middle;\n",
       "    }\n",
       "\n",
       "    .dataframe tbody tr th {\n",
       "        vertical-align: top;\n",
       "    }\n",
       "\n",
       "    .dataframe thead th {\n",
       "        text-align: right;\n",
       "    }\n",
       "</style>\n",
       "<table border=\"1\" class=\"dataframe\">\n",
       "  <thead>\n",
       "    <tr style=\"text-align: right;\">\n",
       "      <th></th>\n",
       "      <th>Date</th>\n",
       "      <th>Customer_Name</th>\n",
       "      <th>Item_Name</th>\n",
       "      <th>Vrh_No</th>\n",
       "      <th>Quantity</th>\n",
       "      <th>Price_per_unit</th>\n",
       "      <th>Amount</th>\n",
       "    </tr>\n",
       "  </thead>\n",
       "  <tbody>\n",
       "    <tr>\n",
       "      <th>0</th>\n",
       "      <td>2019-01-04</td>\n",
       "      <td>1</td>\n",
       "      <td>1</td>\n",
       "      <td>1</td>\n",
       "      <td>200</td>\n",
       "      <td>20</td>\n",
       "      <td>4000</td>\n",
       "    </tr>\n",
       "    <tr>\n",
       "      <th>1</th>\n",
       "      <td>2019-01-04</td>\n",
       "      <td>7</td>\n",
       "      <td>3</td>\n",
       "      <td>10</td>\n",
       "      <td>15</td>\n",
       "      <td>33</td>\n",
       "      <td>495</td>\n",
       "    </tr>\n",
       "    <tr>\n",
       "      <th>2</th>\n",
       "      <td>2019-01-04</td>\n",
       "      <td>7</td>\n",
       "      <td>1</td>\n",
       "      <td>10</td>\n",
       "      <td>50</td>\n",
       "      <td>20</td>\n",
       "      <td>1000</td>\n",
       "    </tr>\n",
       "    <tr>\n",
       "      <th>3</th>\n",
       "      <td>2019-01-04</td>\n",
       "      <td>8</td>\n",
       "      <td>11</td>\n",
       "      <td>11</td>\n",
       "      <td>80</td>\n",
       "      <td>30</td>\n",
       "      <td>2400</td>\n",
       "    </tr>\n",
       "    <tr>\n",
       "      <th>4</th>\n",
       "      <td>2019-01-04</td>\n",
       "      <td>8</td>\n",
       "      <td>7</td>\n",
       "      <td>11</td>\n",
       "      <td>624</td>\n",
       "      <td>21</td>\n",
       "      <td>13416</td>\n",
       "    </tr>\n",
       "  </tbody>\n",
       "</table>\n",
       "</div>"
      ],
      "text/plain": [
       "         Date Customer_Name Item_Name  Vrh_No  Quantity  Price_per_unit  \\\n",
       "0  2019-01-04             1         1       1       200              20   \n",
       "1  2019-01-04             7         3      10        15              33   \n",
       "2  2019-01-04             7         1      10        50              20   \n",
       "3  2019-01-04             8        11      11        80              30   \n",
       "4  2019-01-04             8         7      11       624              21   \n",
       "\n",
       "   Amount  \n",
       "0    4000  \n",
       "1     495  \n",
       "2    1000  \n",
       "3    2400  \n",
       "4   13416  "
      ]
     },
     "execution_count": 6,
     "metadata": {},
     "output_type": "execute_result"
    }
   ],
   "source": [
    "data.head()"
   ]
  },
  {
   "cell_type": "code",
   "execution_count": 7,
   "id": "ab130a43",
   "metadata": {},
   "outputs": [],
   "source": [
    "# # Making a list with all the independent columns used for model building\n",
    "indep_var=['Customer_Name','Item_Name','Price_per_unit','Amount']"
   ]
  },
  {
   "cell_type": "code",
   "execution_count": 8,
   "id": "9cf80fb2",
   "metadata": {},
   "outputs": [],
   "source": [
    "# Converting the data type of the 'Customer_Name' and 'Item_Name' columns in the 'data' DataFrame to int\n",
    "data['Customer_Name'] = data['Customer_Name'].astype('int')\n",
    "data['Item_Name'] = data['Item_Name'].astype('int')"
   ]
  },
  {
   "cell_type": "markdown",
   "id": "7bf77ec5",
   "metadata": {},
   "source": [
    "### Train - Test split of the data"
   ]
  },
  {
   "cell_type": "code",
   "execution_count": 9,
   "id": "a4851da6",
   "metadata": {},
   "outputs": [],
   "source": [
    "# Assigning the dependent column to y and independent columns to x\n",
    "y = data.Quantity\n",
    "x = data[indep_var]"
   ]
  },
  {
   "cell_type": "code",
   "execution_count": 10,
   "id": "95c8364b",
   "metadata": {},
   "outputs": [],
   "source": [
    "# Train-test split on the data\n",
    "X_train, X_test, Y_train, Y_test = train_test_split(x, y, test_size=0.3,random_state=123)"
   ]
  },
  {
   "cell_type": "code",
   "execution_count": 11,
   "id": "a9839529",
   "metadata": {},
   "outputs": [],
   "source": [
    "# A function to calculate and print out four evaluation metrics,\n",
    "# namely Root Mean Squared Error (RMSE), Mean Absolute Error (MAE), R-squared (R^2) Score, and Adjusted R-squared (R^2) Score\n",
    "\n",
    "def model_result(actual,pred):\n",
    "    rmse = np.sqrt(mean_squared_error(actual,pred))\n",
    "    mae = mean_absolute_error(actual,pred)\n",
    "    r2 = r2_score(actual,pred)\n",
    "    adj_r2 = 1-(((1-r2)*(len(actual)-1))/(len(actual)-4-1))\n",
    "    \n",
    "    print(\"Evaluation Metrics\")\n",
    "    print(\"**********************************************************\")\n",
    "    print(\"Root Mean Squared Error (RMSE):\", rmse)\n",
    "    print(\"Mean Absolute Error (MAE):\", mae)\n",
    "    print(\"R-squared (R^2) Score:\", r2)\n",
    "    print(\"Adjusted (R^2) Score:\", adj_r2)\n",
    "\n",
    "    metrics = [rmse, mae, r2, adj_r2]\n",
    "    return metrics"
   ]
  },
  {
   "cell_type": "code",
   "execution_count": 12,
   "id": "48d348ed",
   "metadata": {},
   "outputs": [],
   "source": [
    "# Inside the function, the input X and Y data are fitted to the model and predicted values are generated using the testing data. \n",
    "# The function then calls on the \"model_result\" function to calculate and print evaluation metrics\n",
    "# Finally, the evaluation metrics are appended to a dictionary with the model name as key.\n",
    "\n",
    "validation_dict = {}\n",
    "def different_model(model):\n",
    "    ml = model\n",
    "    ml.fit(X_train, Y_train)\n",
    "    pred_y = ml.predict(X_test)\n",
    "    return_list = model_result(Y_test, pred_y)\n",
    "    validation_dict[model] = return_list"
   ]
  },
  {
   "cell_type": "markdown",
   "id": "fcb58a79",
   "metadata": {},
   "source": [
    "#### LinearRegression()"
   ]
  },
  {
   "cell_type": "code",
   "execution_count": 13,
   "id": "c2aa7cfa",
   "metadata": {},
   "outputs": [
    {
     "name": "stdout",
     "output_type": "stream",
     "text": [
      "Evaluation Metrics\n",
      "**********************************************************\n",
      "Root Mean Squared Error (RMSE): 276.6640799077518\n",
      "Mean Absolute Error (MAE): 114.02228052113159\n",
      "R-squared (R^2) Score: 0.7560925338309089\n",
      "Adjusted (R^2) Score: 0.7544190692259751\n"
     ]
    }
   ],
   "source": [
    "different_model(LinearRegression())"
   ]
  },
  {
   "cell_type": "markdown",
   "id": "13e6e79d",
   "metadata": {},
   "source": [
    "#### DecisionTreeRegressor()"
   ]
  },
  {
   "cell_type": "code",
   "execution_count": 14,
   "id": "231f527a",
   "metadata": {
    "scrolled": true
   },
   "outputs": [
    {
     "name": "stdout",
     "output_type": "stream",
     "text": [
      "Evaluation Metrics\n",
      "**********************************************************\n",
      "Root Mean Squared Error (RMSE): 136.0898125313939\n",
      "Mean Absolute Error (MAE): 31.290816326530614\n",
      "R-squared (R^2) Score: 0.9409838639001172\n",
      "Adjusted (R^2) Score: 0.9405789504448865\n"
     ]
    }
   ],
   "source": [
    "different_model(DecisionTreeRegressor(random_state=123))"
   ]
  },
  {
   "cell_type": "markdown",
   "id": "7ecd845e",
   "metadata": {},
   "source": [
    "#### RandomForestRegressor()"
   ]
  },
  {
   "cell_type": "code",
   "execution_count": 15,
   "id": "1a6b7431",
   "metadata": {},
   "outputs": [
    {
     "name": "stdout",
     "output_type": "stream",
     "text": [
      "Evaluation Metrics\n",
      "**********************************************************\n",
      "Root Mean Squared Error (RMSE): 125.86835760666237\n",
      "Mean Absolute Error (MAE): 22.70404761904762\n",
      "R-squared (R^2) Score: 0.9495161263594429\n",
      "Adjusted (R^2) Score: 0.9491697532984442\n"
     ]
    }
   ],
   "source": [
    "different_model(RandomForestRegressor(random_state=123))"
   ]
  },
  {
   "cell_type": "markdown",
   "id": "75970588",
   "metadata": {},
   "source": [
    "#### SVR()"
   ]
  },
  {
   "cell_type": "code",
   "execution_count": 16,
   "id": "9af0dbd1",
   "metadata": {},
   "outputs": [
    {
     "name": "stdout",
     "output_type": "stream",
     "text": [
      "Evaluation Metrics\n",
      "**********************************************************\n",
      "Root Mean Squared Error (RMSE): 528.0483984339405\n",
      "Mean Absolute Error (MAE): 189.63276653341362\n",
      "R-squared (R^2) Score: 0.11148042570778283\n",
      "Adjusted (R^2) Score: 0.10538423651881379\n"
     ]
    }
   ],
   "source": [
    "different_model(SVR())"
   ]
  },
  {
   "cell_type": "markdown",
   "id": "0d624780",
   "metadata": {},
   "source": [
    "#### KNeighborsRegressor()"
   ]
  },
  {
   "cell_type": "code",
   "execution_count": 16,
   "id": "224b2e59",
   "metadata": {
    "scrolled": true
   },
   "outputs": [
    {
     "name": "stdout",
     "output_type": "stream",
     "text": [
      "Evaluation Metrics\n",
      "**********************************************************\n",
      "Root Mean Squared Error (RMSE): 261.4342442640175\n",
      "Mean Absolute Error (MAE): 109.84280612244898\n",
      "R-squared (R^2) Score: 0.7881882058828777\n",
      "Adjusted (R^2) Score: 0.7867349517208392\n"
     ]
    }
   ],
   "source": [
    "different_model(KNeighborsRegressor())"
   ]
  },
  {
   "cell_type": "markdown",
   "id": "8d140950",
   "metadata": {},
   "source": [
    "#### XGBRegressor()"
   ]
  },
  {
   "cell_type": "code",
   "execution_count": 17,
   "id": "1eb70ffd",
   "metadata": {},
   "outputs": [
    {
     "name": "stdout",
     "output_type": "stream",
     "text": [
      "Evaluation Metrics\n",
      "**********************************************************\n",
      "Root Mean Squared Error (RMSE): 55.01585592993867\n",
      "Mean Absolute Error (MAE): 16.53807866500754\n",
      "R-squared (R^2) Score: 0.9906200410039252\n",
      "Adjusted (R^2) Score: 0.9905556845099556\n"
     ]
    }
   ],
   "source": [
    "different_model(XGBRegressor(random_state=123))"
   ]
  },
  {
   "cell_type": "code",
   "execution_count": 18,
   "id": "c715f6b8",
   "metadata": {},
   "outputs": [
    {
     "data": {
      "text/html": [
       "<div>\n",
       "<style scoped>\n",
       "    .dataframe tbody tr th:only-of-type {\n",
       "        vertical-align: middle;\n",
       "    }\n",
       "\n",
       "    .dataframe tbody tr th {\n",
       "        vertical-align: top;\n",
       "    }\n",
       "\n",
       "    .dataframe thead th {\n",
       "        text-align: right;\n",
       "    }\n",
       "</style>\n",
       "<table border=\"1\" class=\"dataframe\">\n",
       "  <thead>\n",
       "    <tr style=\"text-align: right;\">\n",
       "      <th></th>\n",
       "      <th>Algorithm</th>\n",
       "      <th>RMSE</th>\n",
       "      <th>MAE</th>\n",
       "      <th>R2_SCORE</th>\n",
       "      <th>ADJUSTED_R2_SCORE</th>\n",
       "    </tr>\n",
       "  </thead>\n",
       "  <tbody>\n",
       "    <tr>\n",
       "      <th>0</th>\n",
       "      <td>LinearRegression()</td>\n",
       "      <td>251.435978</td>\n",
       "      <td>115.393433</td>\n",
       "      <td>0.804079</td>\n",
       "      <td>0.802735</td>\n",
       "    </tr>\n",
       "    <tr>\n",
       "      <th>1</th>\n",
       "      <td>DecisionTreeRegressor(random_state=123)</td>\n",
       "      <td>104.363439</td>\n",
       "      <td>28.461956</td>\n",
       "      <td>0.966246</td>\n",
       "      <td>0.966015</td>\n",
       "    </tr>\n",
       "    <tr>\n",
       "      <th>2</th>\n",
       "      <td>(DecisionTreeRegressor(max_features='auto', ra...</td>\n",
       "      <td>66.115078</td>\n",
       "      <td>17.568737</td>\n",
       "      <td>0.986454</td>\n",
       "      <td>0.986361</td>\n",
       "    </tr>\n",
       "    <tr>\n",
       "      <th>3</th>\n",
       "      <td>SVR()</td>\n",
       "      <td>540.223961</td>\n",
       "      <td>207.068477</td>\n",
       "      <td>0.095574</td>\n",
       "      <td>0.089369</td>\n",
       "    </tr>\n",
       "    <tr>\n",
       "      <th>4</th>\n",
       "      <td>KNeighborsRegressor()</td>\n",
       "      <td>261.434244</td>\n",
       "      <td>109.842806</td>\n",
       "      <td>0.788188</td>\n",
       "      <td>0.786735</td>\n",
       "    </tr>\n",
       "    <tr>\n",
       "      <th>5</th>\n",
       "      <td>XGBRegressor(base_score=None, booster=None, ca...</td>\n",
       "      <td>55.015856</td>\n",
       "      <td>16.538079</td>\n",
       "      <td>0.990620</td>\n",
       "      <td>0.990556</td>\n",
       "    </tr>\n",
       "  </tbody>\n",
       "</table>\n",
       "</div>"
      ],
      "text/plain": [
       "                                           Algorithm        RMSE         MAE  \\\n",
       "0                                 LinearRegression()  251.435978  115.393433   \n",
       "1            DecisionTreeRegressor(random_state=123)  104.363439   28.461956   \n",
       "2  (DecisionTreeRegressor(max_features='auto', ra...   66.115078   17.568737   \n",
       "3                                              SVR()  540.223961  207.068477   \n",
       "4                              KNeighborsRegressor()  261.434244  109.842806   \n",
       "5  XGBRegressor(base_score=None, booster=None, ca...   55.015856   16.538079   \n",
       "\n",
       "   R2_SCORE  ADJUSTED_R2_SCORE  \n",
       "0  0.804079           0.802735  \n",
       "1  0.966246           0.966015  \n",
       "2  0.986454           0.986361  \n",
       "3  0.095574           0.089369  \n",
       "4  0.788188           0.786735  \n",
       "5  0.990620           0.990556  "
      ]
     },
     "execution_count": 18,
     "metadata": {},
     "output_type": "execute_result"
    }
   ],
   "source": [
    "# Creating a dataframe with model name and its performance through various evaluation metrics\n",
    "\n",
    "rmse = []\n",
    "mae = []\n",
    "r2_Score = []\n",
    "adjusted_r2score=[]\n",
    "model = []\n",
    "col = ['Algorithm', 'RMSE', 'MAE', 'R2_SCORE', 'ADJUSTED_R2_SCORE']\n",
    "df_results = pd.DataFrame(columns=col)\n",
    "\n",
    "\n",
    "for model_name, scores in validation_dict.items():\n",
    "    model.append(model_name)\n",
    "    rmse.append(scores[0])\n",
    "    mae.append(scores[1])\n",
    "    r2_Score.append(scores[2])\n",
    "    adjusted_r2score.append(scores[3])\n",
    "\n",
    "df_results['Algorithm'] = model\n",
    "df_results['RMSE'] = rmse\n",
    "df_results['MAE'] = mae\n",
    "df_results['R2_SCORE'] = r2_Score\n",
    "df_results['ADJUSTED_R2_SCORE'] = adjusted_r2score\n",
    "\n",
    "df_results.reset_index(drop=True, inplace=True)\n",
    "\n",
    "df_results"
   ]
  },
  {
   "cell_type": "markdown",
   "id": "f6dfb546",
   "metadata": {},
   "source": [
    "### Final model"
   ]
  },
  {
   "cell_type": "code",
   "execution_count": 19,
   "id": "7f3eb474",
   "metadata": {},
   "outputs": [
    {
     "data": {
      "text/plain": [
       "XGBRegressor(base_score=None, booster=None, callbacks=None,\n",
       "             colsample_bylevel=None, colsample_bynode=None,\n",
       "             colsample_bytree=None, early_stopping_rounds=None,\n",
       "             enable_categorical=False, eval_metric=None, feature_types=None,\n",
       "             gamma=None, gpu_id=None, grow_policy=None, importance_type=None,\n",
       "             interaction_constraints=None, learning_rate=None, max_bin=None,\n",
       "             max_cat_threshold=None, max_cat_to_onehot=None,\n",
       "             max_delta_step=None, max_depth=None, max_leaves=None,\n",
       "             min_child_weight=None, missing=nan, monotone_constraints=None,\n",
       "             n_estimators=100, n_jobs=None, num_parallel_tree=None,\n",
       "             predictor=None, random_state=123, ...)"
      ]
     },
     "execution_count": 19,
     "metadata": {},
     "output_type": "execute_result"
    }
   ],
   "source": [
    "final_model=XGBRegressor(random_state=123)\n",
    "final_model.fit(X_train,Y_train)"
   ]
  },
  {
   "cell_type": "code",
   "execution_count": 20,
   "id": "65b46030",
   "metadata": {},
   "outputs": [],
   "source": [
    "# Predicted demand values are stored in a new column called \"Predicted_Demand\" which is added to the dataframe \"x\".\n",
    "x[\"Predicted_Demand\"] = final_model.predict(x)"
   ]
  },
  {
   "cell_type": "code",
   "execution_count": 21,
   "id": "f315119c",
   "metadata": {},
   "outputs": [],
   "source": [
    "# Adding the target varible back to the dataframe \"x\".\n",
    "x['Actual_Demand']= data['Quantity']"
   ]
  },
  {
   "cell_type": "code",
   "execution_count": 22,
   "id": "cc46c7fc",
   "metadata": {},
   "outputs": [
    {
     "data": {
      "text/html": [
       "<div>\n",
       "<style scoped>\n",
       "    .dataframe tbody tr th:only-of-type {\n",
       "        vertical-align: middle;\n",
       "    }\n",
       "\n",
       "    .dataframe tbody tr th {\n",
       "        vertical-align: top;\n",
       "    }\n",
       "\n",
       "    .dataframe thead th {\n",
       "        text-align: right;\n",
       "    }\n",
       "</style>\n",
       "<table border=\"1\" class=\"dataframe\">\n",
       "  <thead>\n",
       "    <tr style=\"text-align: right;\">\n",
       "      <th></th>\n",
       "      <th>Customer_Name</th>\n",
       "      <th>Item_Name</th>\n",
       "      <th>Price_per_unit</th>\n",
       "      <th>Amount</th>\n",
       "      <th>Predicted_Demand</th>\n",
       "      <th>Actual_Demand</th>\n",
       "    </tr>\n",
       "  </thead>\n",
       "  <tbody>\n",
       "    <tr>\n",
       "      <th>0</th>\n",
       "      <td>1</td>\n",
       "      <td>1</td>\n",
       "      <td>20.0</td>\n",
       "      <td>4000.0</td>\n",
       "      <td>207.664673</td>\n",
       "      <td>200.0</td>\n",
       "    </tr>\n",
       "    <tr>\n",
       "      <th>1</th>\n",
       "      <td>1</td>\n",
       "      <td>2</td>\n",
       "      <td>28.0</td>\n",
       "      <td>4480.0</td>\n",
       "      <td>159.149017</td>\n",
       "      <td>160.0</td>\n",
       "    </tr>\n",
       "    <tr>\n",
       "      <th>2</th>\n",
       "      <td>1</td>\n",
       "      <td>3</td>\n",
       "      <td>60.0</td>\n",
       "      <td>720.0</td>\n",
       "      <td>11.858808</td>\n",
       "      <td>12.0</td>\n",
       "    </tr>\n",
       "    <tr>\n",
       "      <th>3</th>\n",
       "      <td>1</td>\n",
       "      <td>3</td>\n",
       "      <td>35.0</td>\n",
       "      <td>525.0</td>\n",
       "      <td>15.307269</td>\n",
       "      <td>15.0</td>\n",
       "    </tr>\n",
       "    <tr>\n",
       "      <th>4</th>\n",
       "      <td>1</td>\n",
       "      <td>3</td>\n",
       "      <td>25.0</td>\n",
       "      <td>625.0</td>\n",
       "      <td>25.108925</td>\n",
       "      <td>25.0</td>\n",
       "    </tr>\n",
       "  </tbody>\n",
       "</table>\n",
       "</div>"
      ],
      "text/plain": [
       "   Customer_Name  Item_Name  Price_per_unit  Amount  Predicted_Demand  \\\n",
       "0              1          1            20.0  4000.0        207.664673   \n",
       "1              1          2            28.0  4480.0        159.149017   \n",
       "2              1          3            60.0   720.0         11.858808   \n",
       "3              1          3            35.0   525.0         15.307269   \n",
       "4              1          3            25.0   625.0         25.108925   \n",
       "\n",
       "   Actual_Demand  \n",
       "0          200.0  \n",
       "1          160.0  \n",
       "2           12.0  \n",
       "3           15.0  \n",
       "4           25.0  "
      ]
     },
     "execution_count": 22,
     "metadata": {},
     "output_type": "execute_result"
    }
   ],
   "source": [
    "x.head()"
   ]
  },
  {
   "cell_type": "code",
   "execution_count": 23,
   "id": "81938dbd",
   "metadata": {},
   "outputs": [],
   "source": [
    "# Swapping the positions of last two columns\n",
    "cols = x.columns.tolist()  # Get the list of column names\n",
    "cols[-2], cols[-1] = cols[-1], cols[-2]  # Swap the positions of the last two columns\n",
    "x = x[cols]"
   ]
  },
  {
   "cell_type": "code",
   "execution_count": 24,
   "id": "eb48fc34",
   "metadata": {},
   "outputs": [
    {
     "data": {
      "text/html": [
       "<div>\n",
       "<style scoped>\n",
       "    .dataframe tbody tr th:only-of-type {\n",
       "        vertical-align: middle;\n",
       "    }\n",
       "\n",
       "    .dataframe tbody tr th {\n",
       "        vertical-align: top;\n",
       "    }\n",
       "\n",
       "    .dataframe thead th {\n",
       "        text-align: right;\n",
       "    }\n",
       "</style>\n",
       "<table border=\"1\" class=\"dataframe\">\n",
       "  <thead>\n",
       "    <tr style=\"text-align: right;\">\n",
       "      <th></th>\n",
       "      <th>Customer_Name</th>\n",
       "      <th>Item_Name</th>\n",
       "      <th>Price_per_unit</th>\n",
       "      <th>Amount</th>\n",
       "      <th>Actual_Demand</th>\n",
       "      <th>Predicted_Demand</th>\n",
       "    </tr>\n",
       "  </thead>\n",
       "  <tbody>\n",
       "    <tr>\n",
       "      <th>0</th>\n",
       "      <td>1</td>\n",
       "      <td>1</td>\n",
       "      <td>20.0</td>\n",
       "      <td>4000.0</td>\n",
       "      <td>200.0</td>\n",
       "      <td>207.664673</td>\n",
       "    </tr>\n",
       "    <tr>\n",
       "      <th>1</th>\n",
       "      <td>1</td>\n",
       "      <td>2</td>\n",
       "      <td>28.0</td>\n",
       "      <td>4480.0</td>\n",
       "      <td>160.0</td>\n",
       "      <td>159.149017</td>\n",
       "    </tr>\n",
       "    <tr>\n",
       "      <th>2</th>\n",
       "      <td>1</td>\n",
       "      <td>3</td>\n",
       "      <td>60.0</td>\n",
       "      <td>720.0</td>\n",
       "      <td>12.0</td>\n",
       "      <td>11.858808</td>\n",
       "    </tr>\n",
       "    <tr>\n",
       "      <th>3</th>\n",
       "      <td>1</td>\n",
       "      <td>3</td>\n",
       "      <td>35.0</td>\n",
       "      <td>525.0</td>\n",
       "      <td>15.0</td>\n",
       "      <td>15.307269</td>\n",
       "    </tr>\n",
       "    <tr>\n",
       "      <th>4</th>\n",
       "      <td>1</td>\n",
       "      <td>3</td>\n",
       "      <td>25.0</td>\n",
       "      <td>625.0</td>\n",
       "      <td>25.0</td>\n",
       "      <td>25.108925</td>\n",
       "    </tr>\n",
       "  </tbody>\n",
       "</table>\n",
       "</div>"
      ],
      "text/plain": [
       "   Customer_Name  Item_Name  Price_per_unit  Amount  Actual_Demand  \\\n",
       "0              1          1            20.0  4000.0          200.0   \n",
       "1              1          2            28.0  4480.0          160.0   \n",
       "2              1          3            60.0   720.0           12.0   \n",
       "3              1          3            35.0   525.0           15.0   \n",
       "4              1          3            25.0   625.0           25.0   \n",
       "\n",
       "   Predicted_Demand  \n",
       "0        207.664673  \n",
       "1        159.149017  \n",
       "2         11.858808  \n",
       "3         15.307269  \n",
       "4         25.108925  "
      ]
     },
     "execution_count": 24,
     "metadata": {},
     "output_type": "execute_result"
    }
   ],
   "source": [
    "x.head()"
   ]
  }
 ],
 "metadata": {
  "kernelspec": {
   "display_name": "Python 3 (ipykernel)",
   "language": "python",
   "name": "python3"
  },
  "language_info": {
   "codemirror_mode": {
    "name": "ipython",
    "version": 3
   },
   "file_extension": ".py",
   "mimetype": "text/x-python",
   "name": "python",
   "nbconvert_exporter": "python",
   "pygments_lexer": "ipython3",
   "version": "3.10.9"
  }
 },
 "nbformat": 4,
 "nbformat_minor": 5
}
