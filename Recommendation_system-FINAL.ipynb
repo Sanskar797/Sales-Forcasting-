{
 "cells": [
  {
   "cell_type": "markdown",
   "id": "5de4a0da",
   "metadata": {},
   "source": [
    "### Importing the libraries"
   ]
  },
  {
   "cell_type": "code",
   "execution_count": 2,
   "id": "4fd312af",
   "metadata": {},
   "outputs": [],
   "source": [
    "import pandas as pd\n",
    "import numpy as np\n",
    "from scipy.sparse import csr_matrix # Compressed Sparse Row matrix which is used to save memory by only storing non-zero elements\n",
    "from sklearn.decomposition import TruncatedSVD # dimensionality reduction technique used to reduce the number of features in the data.\n",
    "from sklearn.model_selection import train_test_split\n",
    "import warnings\n",
    "warnings.filterwarnings('ignore')"
   ]
  },
  {
   "cell_type": "markdown",
   "id": "482cf8d7",
   "metadata": {},
   "source": [
    "### Loading the data"
   ]
  },
  {
   "cell_type": "code",
   "execution_count": 3,
   "id": "93a9e51c",
   "metadata": {},
   "outputs": [],
   "source": [
    "data = pd.read_csv('final.csv')"
   ]
  },
  {
   "cell_type": "code",
   "execution_count": 4,
   "id": "8f5f5d2b",
   "metadata": {
    "scrolled": true
   },
   "outputs": [
    {
     "data": {
      "text/html": [
       "<div>\n",
       "<style scoped>\n",
       "    .dataframe tbody tr th:only-of-type {\n",
       "        vertical-align: middle;\n",
       "    }\n",
       "\n",
       "    .dataframe tbody tr th {\n",
       "        vertical-align: top;\n",
       "    }\n",
       "\n",
       "    .dataframe thead th {\n",
       "        text-align: right;\n",
       "    }\n",
       "</style>\n",
       "<table border=\"1\" class=\"dataframe\">\n",
       "  <thead>\n",
       "    <tr style=\"text-align: right;\">\n",
       "      <th></th>\n",
       "      <th>Date</th>\n",
       "      <th>Customer_Name</th>\n",
       "      <th>Item_Name</th>\n",
       "      <th>Vrh_No</th>\n",
       "      <th>Quantity</th>\n",
       "      <th>Price_per_unit</th>\n",
       "      <th>Amount</th>\n",
       "    </tr>\n",
       "  </thead>\n",
       "  <tbody>\n",
       "    <tr>\n",
       "      <th>0</th>\n",
       "      <td>2019-01-04</td>\n",
       "      <td>customer1</td>\n",
       "      <td>Item_1</td>\n",
       "      <td>1</td>\n",
       "      <td>200</td>\n",
       "      <td>20</td>\n",
       "      <td>4000</td>\n",
       "    </tr>\n",
       "    <tr>\n",
       "      <th>1</th>\n",
       "      <td>2019-01-04</td>\n",
       "      <td>customer7</td>\n",
       "      <td>Item_3</td>\n",
       "      <td>10</td>\n",
       "      <td>15</td>\n",
       "      <td>33</td>\n",
       "      <td>495</td>\n",
       "    </tr>\n",
       "    <tr>\n",
       "      <th>2</th>\n",
       "      <td>2019-01-04</td>\n",
       "      <td>customer7</td>\n",
       "      <td>Item_1</td>\n",
       "      <td>10</td>\n",
       "      <td>50</td>\n",
       "      <td>20</td>\n",
       "      <td>1000</td>\n",
       "    </tr>\n",
       "    <tr>\n",
       "      <th>3</th>\n",
       "      <td>2019-01-04</td>\n",
       "      <td>customer8</td>\n",
       "      <td>Item_11</td>\n",
       "      <td>11</td>\n",
       "      <td>80</td>\n",
       "      <td>30</td>\n",
       "      <td>2400</td>\n",
       "    </tr>\n",
       "    <tr>\n",
       "      <th>4</th>\n",
       "      <td>2019-01-04</td>\n",
       "      <td>customer8</td>\n",
       "      <td>Item_7</td>\n",
       "      <td>11</td>\n",
       "      <td>624</td>\n",
       "      <td>21</td>\n",
       "      <td>13416</td>\n",
       "    </tr>\n",
       "  </tbody>\n",
       "</table>\n",
       "</div>"
      ],
      "text/plain": [
       "         Date Customer_Name Item_Name  Vrh_No  Quantity  Price_per_unit  \\\n",
       "0  2019-01-04     customer1    Item_1       1       200              20   \n",
       "1  2019-01-04     customer7    Item_3      10        15              33   \n",
       "2  2019-01-04     customer7    Item_1      10        50              20   \n",
       "3  2019-01-04     customer8   Item_11      11        80              30   \n",
       "4  2019-01-04     customer8    Item_7      11       624              21   \n",
       "\n",
       "   Amount  \n",
       "0    4000  \n",
       "1     495  \n",
       "2    1000  \n",
       "3    2400  \n",
       "4   13416  "
      ]
     },
     "execution_count": 4,
     "metadata": {},
     "output_type": "execute_result"
    }
   ],
   "source": [
    "data.head()"
   ]
  },
  {
   "cell_type": "markdown",
   "id": "bf808b99",
   "metadata": {},
   "source": [
    "### Creating a pivot table to represent the user-item matrix"
   ]
  },
  {
   "cell_type": "code",
   "execution_count": 5,
   "id": "d78b2996",
   "metadata": {},
   "outputs": [
    {
     "data": {
      "text/html": [
       "<div>\n",
       "<style scoped>\n",
       "    .dataframe tbody tr th:only-of-type {\n",
       "        vertical-align: middle;\n",
       "    }\n",
       "\n",
       "    .dataframe tbody tr th {\n",
       "        vertical-align: top;\n",
       "    }\n",
       "\n",
       "    .dataframe thead th {\n",
       "        text-align: right;\n",
       "    }\n",
       "</style>\n",
       "<table border=\"1\" class=\"dataframe\">\n",
       "  <thead>\n",
       "    <tr style=\"text-align: right;\">\n",
       "      <th>Item_Name</th>\n",
       "      <th>Item_1</th>\n",
       "      <th>Item_10</th>\n",
       "      <th>Item_11</th>\n",
       "      <th>Item_12</th>\n",
       "      <th>Item_13</th>\n",
       "      <th>Item_14</th>\n",
       "      <th>Item_15</th>\n",
       "      <th>Item_16</th>\n",
       "      <th>Item_17</th>\n",
       "      <th>Item_18</th>\n",
       "      <th>...</th>\n",
       "      <th>Item_70</th>\n",
       "      <th>Item_71</th>\n",
       "      <th>Item_72</th>\n",
       "      <th>Item_73</th>\n",
       "      <th>Item_74</th>\n",
       "      <th>Item_75</th>\n",
       "      <th>Item_76</th>\n",
       "      <th>Item_77</th>\n",
       "      <th>Item_8</th>\n",
       "      <th>Item_9</th>\n",
       "    </tr>\n",
       "    <tr>\n",
       "      <th>Customer_Name</th>\n",
       "      <th></th>\n",
       "      <th></th>\n",
       "      <th></th>\n",
       "      <th></th>\n",
       "      <th></th>\n",
       "      <th></th>\n",
       "      <th></th>\n",
       "      <th></th>\n",
       "      <th></th>\n",
       "      <th></th>\n",
       "      <th></th>\n",
       "      <th></th>\n",
       "      <th></th>\n",
       "      <th></th>\n",
       "      <th></th>\n",
       "      <th></th>\n",
       "      <th></th>\n",
       "      <th></th>\n",
       "      <th></th>\n",
       "      <th></th>\n",
       "      <th></th>\n",
       "    </tr>\n",
       "  </thead>\n",
       "  <tbody>\n",
       "    <tr>\n",
       "      <th>customer1</th>\n",
       "      <td>125.0</td>\n",
       "      <td>0.0</td>\n",
       "      <td>0</td>\n",
       "      <td>0</td>\n",
       "      <td>0</td>\n",
       "      <td>0</td>\n",
       "      <td>0.0</td>\n",
       "      <td>0</td>\n",
       "      <td>0</td>\n",
       "      <td>0.000000</td>\n",
       "      <td>...</td>\n",
       "      <td>0</td>\n",
       "      <td>0</td>\n",
       "      <td>0</td>\n",
       "      <td>0</td>\n",
       "      <td>0.0</td>\n",
       "      <td>0.0</td>\n",
       "      <td>0</td>\n",
       "      <td>0.0</td>\n",
       "      <td>0.0</td>\n",
       "      <td>0.0</td>\n",
       "    </tr>\n",
       "    <tr>\n",
       "      <th>customer10</th>\n",
       "      <td>850.0</td>\n",
       "      <td>0.0</td>\n",
       "      <td>0</td>\n",
       "      <td>0</td>\n",
       "      <td>30</td>\n",
       "      <td>19</td>\n",
       "      <td>12.0</td>\n",
       "      <td>44</td>\n",
       "      <td>24</td>\n",
       "      <td>41.000000</td>\n",
       "      <td>...</td>\n",
       "      <td>0</td>\n",
       "      <td>0</td>\n",
       "      <td>0</td>\n",
       "      <td>0</td>\n",
       "      <td>0.0</td>\n",
       "      <td>0.0</td>\n",
       "      <td>0</td>\n",
       "      <td>0.0</td>\n",
       "      <td>0.0</td>\n",
       "      <td>0.0</td>\n",
       "    </tr>\n",
       "    <tr>\n",
       "      <th>customer100</th>\n",
       "      <td>0.0</td>\n",
       "      <td>0.0</td>\n",
       "      <td>0</td>\n",
       "      <td>0</td>\n",
       "      <td>0</td>\n",
       "      <td>0</td>\n",
       "      <td>0.0</td>\n",
       "      <td>12</td>\n",
       "      <td>0</td>\n",
       "      <td>0.000000</td>\n",
       "      <td>...</td>\n",
       "      <td>0</td>\n",
       "      <td>0</td>\n",
       "      <td>0</td>\n",
       "      <td>0</td>\n",
       "      <td>0.0</td>\n",
       "      <td>0.0</td>\n",
       "      <td>0</td>\n",
       "      <td>0.0</td>\n",
       "      <td>0.0</td>\n",
       "      <td>0.0</td>\n",
       "    </tr>\n",
       "    <tr>\n",
       "      <th>customer101</th>\n",
       "      <td>120.0</td>\n",
       "      <td>312.5</td>\n",
       "      <td>0</td>\n",
       "      <td>0</td>\n",
       "      <td>0</td>\n",
       "      <td>0</td>\n",
       "      <td>0.0</td>\n",
       "      <td>0</td>\n",
       "      <td>0</td>\n",
       "      <td>0.000000</td>\n",
       "      <td>...</td>\n",
       "      <td>0</td>\n",
       "      <td>0</td>\n",
       "      <td>0</td>\n",
       "      <td>0</td>\n",
       "      <td>0.0</td>\n",
       "      <td>0.0</td>\n",
       "      <td>0</td>\n",
       "      <td>0.0</td>\n",
       "      <td>0.0</td>\n",
       "      <td>0.0</td>\n",
       "    </tr>\n",
       "    <tr>\n",
       "      <th>customer102</th>\n",
       "      <td>0.0</td>\n",
       "      <td>0.0</td>\n",
       "      <td>0</td>\n",
       "      <td>0</td>\n",
       "      <td>0</td>\n",
       "      <td>0</td>\n",
       "      <td>0.0</td>\n",
       "      <td>0</td>\n",
       "      <td>0</td>\n",
       "      <td>0.000000</td>\n",
       "      <td>...</td>\n",
       "      <td>0</td>\n",
       "      <td>0</td>\n",
       "      <td>0</td>\n",
       "      <td>0</td>\n",
       "      <td>0.0</td>\n",
       "      <td>0.0</td>\n",
       "      <td>0</td>\n",
       "      <td>0.0</td>\n",
       "      <td>0.0</td>\n",
       "      <td>50.0</td>\n",
       "    </tr>\n",
       "    <tr>\n",
       "      <th>...</th>\n",
       "      <td>...</td>\n",
       "      <td>...</td>\n",
       "      <td>...</td>\n",
       "      <td>...</td>\n",
       "      <td>...</td>\n",
       "      <td>...</td>\n",
       "      <td>...</td>\n",
       "      <td>...</td>\n",
       "      <td>...</td>\n",
       "      <td>...</td>\n",
       "      <td>...</td>\n",
       "      <td>...</td>\n",
       "      <td>...</td>\n",
       "      <td>...</td>\n",
       "      <td>...</td>\n",
       "      <td>...</td>\n",
       "      <td>...</td>\n",
       "      <td>...</td>\n",
       "      <td>...</td>\n",
       "      <td>...</td>\n",
       "      <td>...</td>\n",
       "    </tr>\n",
       "    <tr>\n",
       "      <th>customer95</th>\n",
       "      <td>0.0</td>\n",
       "      <td>0.0</td>\n",
       "      <td>0</td>\n",
       "      <td>0</td>\n",
       "      <td>0</td>\n",
       "      <td>0</td>\n",
       "      <td>0.0</td>\n",
       "      <td>0</td>\n",
       "      <td>0</td>\n",
       "      <td>163.666667</td>\n",
       "      <td>...</td>\n",
       "      <td>0</td>\n",
       "      <td>0</td>\n",
       "      <td>0</td>\n",
       "      <td>0</td>\n",
       "      <td>0.0</td>\n",
       "      <td>0.0</td>\n",
       "      <td>0</td>\n",
       "      <td>0.0</td>\n",
       "      <td>0.0</td>\n",
       "      <td>0.0</td>\n",
       "    </tr>\n",
       "    <tr>\n",
       "      <th>customer96</th>\n",
       "      <td>0.0</td>\n",
       "      <td>0.0</td>\n",
       "      <td>0</td>\n",
       "      <td>0</td>\n",
       "      <td>0</td>\n",
       "      <td>0</td>\n",
       "      <td>0.0</td>\n",
       "      <td>24</td>\n",
       "      <td>0</td>\n",
       "      <td>0.000000</td>\n",
       "      <td>...</td>\n",
       "      <td>0</td>\n",
       "      <td>0</td>\n",
       "      <td>0</td>\n",
       "      <td>0</td>\n",
       "      <td>0.0</td>\n",
       "      <td>0.0</td>\n",
       "      <td>0</td>\n",
       "      <td>0.0</td>\n",
       "      <td>0.0</td>\n",
       "      <td>0.0</td>\n",
       "    </tr>\n",
       "    <tr>\n",
       "      <th>customer97</th>\n",
       "      <td>540.0</td>\n",
       "      <td>0.0</td>\n",
       "      <td>0</td>\n",
       "      <td>0</td>\n",
       "      <td>0</td>\n",
       "      <td>0</td>\n",
       "      <td>0.0</td>\n",
       "      <td>0</td>\n",
       "      <td>0</td>\n",
       "      <td>0.000000</td>\n",
       "      <td>...</td>\n",
       "      <td>0</td>\n",
       "      <td>0</td>\n",
       "      <td>0</td>\n",
       "      <td>0</td>\n",
       "      <td>0.0</td>\n",
       "      <td>0.0</td>\n",
       "      <td>0</td>\n",
       "      <td>0.0</td>\n",
       "      <td>0.0</td>\n",
       "      <td>0.0</td>\n",
       "    </tr>\n",
       "    <tr>\n",
       "      <th>customer98</th>\n",
       "      <td>0.0</td>\n",
       "      <td>75.0</td>\n",
       "      <td>0</td>\n",
       "      <td>0</td>\n",
       "      <td>0</td>\n",
       "      <td>0</td>\n",
       "      <td>0.0</td>\n",
       "      <td>0</td>\n",
       "      <td>0</td>\n",
       "      <td>62.750000</td>\n",
       "      <td>...</td>\n",
       "      <td>0</td>\n",
       "      <td>0</td>\n",
       "      <td>0</td>\n",
       "      <td>0</td>\n",
       "      <td>0.0</td>\n",
       "      <td>0.0</td>\n",
       "      <td>0</td>\n",
       "      <td>15.0</td>\n",
       "      <td>0.0</td>\n",
       "      <td>50.0</td>\n",
       "    </tr>\n",
       "    <tr>\n",
       "      <th>customer99</th>\n",
       "      <td>160.0</td>\n",
       "      <td>0.0</td>\n",
       "      <td>0</td>\n",
       "      <td>260</td>\n",
       "      <td>0</td>\n",
       "      <td>0</td>\n",
       "      <td>0.0</td>\n",
       "      <td>0</td>\n",
       "      <td>0</td>\n",
       "      <td>0.000000</td>\n",
       "      <td>...</td>\n",
       "      <td>0</td>\n",
       "      <td>0</td>\n",
       "      <td>0</td>\n",
       "      <td>0</td>\n",
       "      <td>0.0</td>\n",
       "      <td>0.0</td>\n",
       "      <td>0</td>\n",
       "      <td>0.0</td>\n",
       "      <td>0.0</td>\n",
       "      <td>0.0</td>\n",
       "    </tr>\n",
       "  </tbody>\n",
       "</table>\n",
       "<p>141 rows × 77 columns</p>\n",
       "</div>"
      ],
      "text/plain": [
       "Item_Name      Item_1  Item_10  Item_11  Item_12  Item_13  Item_14  Item_15  \\\n",
       "Customer_Name                                                                 \n",
       "customer1       125.0      0.0        0        0        0        0      0.0   \n",
       "customer10      850.0      0.0        0        0       30       19     12.0   \n",
       "customer100       0.0      0.0        0        0        0        0      0.0   \n",
       "customer101     120.0    312.5        0        0        0        0      0.0   \n",
       "customer102       0.0      0.0        0        0        0        0      0.0   \n",
       "...               ...      ...      ...      ...      ...      ...      ...   \n",
       "customer95        0.0      0.0        0        0        0        0      0.0   \n",
       "customer96        0.0      0.0        0        0        0        0      0.0   \n",
       "customer97      540.0      0.0        0        0        0        0      0.0   \n",
       "customer98        0.0     75.0        0        0        0        0      0.0   \n",
       "customer99      160.0      0.0        0      260        0        0      0.0   \n",
       "\n",
       "Item_Name      Item_16  Item_17     Item_18  ...  Item_70  Item_71  Item_72  \\\n",
       "Customer_Name                                ...                              \n",
       "customer1            0        0    0.000000  ...        0        0        0   \n",
       "customer10          44       24   41.000000  ...        0        0        0   \n",
       "customer100         12        0    0.000000  ...        0        0        0   \n",
       "customer101          0        0    0.000000  ...        0        0        0   \n",
       "customer102          0        0    0.000000  ...        0        0        0   \n",
       "...                ...      ...         ...  ...      ...      ...      ...   \n",
       "customer95           0        0  163.666667  ...        0        0        0   \n",
       "customer96          24        0    0.000000  ...        0        0        0   \n",
       "customer97           0        0    0.000000  ...        0        0        0   \n",
       "customer98           0        0   62.750000  ...        0        0        0   \n",
       "customer99           0        0    0.000000  ...        0        0        0   \n",
       "\n",
       "Item_Name      Item_73  Item_74  Item_75  Item_76  Item_77  Item_8  Item_9  \n",
       "Customer_Name                                                               \n",
       "customer1            0      0.0      0.0        0      0.0     0.0     0.0  \n",
       "customer10           0      0.0      0.0        0      0.0     0.0     0.0  \n",
       "customer100          0      0.0      0.0        0      0.0     0.0     0.0  \n",
       "customer101          0      0.0      0.0        0      0.0     0.0     0.0  \n",
       "customer102          0      0.0      0.0        0      0.0     0.0    50.0  \n",
       "...                ...      ...      ...      ...      ...     ...     ...  \n",
       "customer95           0      0.0      0.0        0      0.0     0.0     0.0  \n",
       "customer96           0      0.0      0.0        0      0.0     0.0     0.0  \n",
       "customer97           0      0.0      0.0        0      0.0     0.0     0.0  \n",
       "customer98           0      0.0      0.0        0     15.0     0.0    50.0  \n",
       "customer99           0      0.0      0.0        0      0.0     0.0     0.0  \n",
       "\n",
       "[141 rows x 77 columns]"
      ]
     },
     "execution_count": 5,
     "metadata": {},
     "output_type": "execute_result"
    }
   ],
   "source": [
    "# The resulting matrix represents the quantity of items bought by each customer. Any missing or NaN values are replaced with 0.\n",
    "user_item_matrix = data.pivot_table(index='Customer_Name', columns='Item_Name', values='Quantity', fill_value=0)\n",
    "user_item_matrix"
   ]
  },
  {
   "cell_type": "markdown",
   "id": "1796b055",
   "metadata": {},
   "source": [
    "### Converting the user-item matrix to a sparse matrix"
   ]
  },
  {
   "cell_type": "code",
   "execution_count": 6,
   "id": "484c654c",
   "metadata": {},
   "outputs": [],
   "source": [
    "# Convert the user-item matrix to a sparse matrix using the csr_matrix() function from the Scipy library.\n",
    "# The sparse matrix is used to store only non-zero elements, which helps save memory space.\n",
    "sparse_matrix = csr_matrix(user_item_matrix.values)"
   ]
  },
  {
   "cell_type": "markdown",
   "id": "02cb7a5c",
   "metadata": {},
   "source": [
    "### Split the data into training and testing sets"
   ]
  },
  {
   "cell_type": "code",
   "execution_count": 7,
   "id": "5f1af3b8",
   "metadata": {},
   "outputs": [],
   "source": [
    "train_data, test_data = train_test_split(data, test_size=0.2, random_state=10)"
   ]
  },
  {
   "cell_type": "markdown",
   "id": "43726975",
   "metadata": {},
   "source": [
    "### Perform matrix factorization using SVD on the training data"
   ]
  },
  {
   "cell_type": "code",
   "execution_count": 8,
   "id": "c063e83d",
   "metadata": {},
   "outputs": [],
   "source": [
    "#The most common method for recommendation systems often comes with Collaborating Filtering (CF) where \n",
    "#it relies on the past user and item dataset. Two popular approaches of CF are latent factor models,\n",
    "#which extract features from user and item matrices and neighborhood models, which finds similarities between products or users.\n",
    "#The neighborhood model is an item-oriented approach to discover the user preference based on the ratings given by the user for similar items.\n",
    "#On the other hand, latent factor models such as Singular Value Decomposition (SVD) extract features and correlation from the user-item matrix. For example, when items are movies in different categories. SVD would generate factors when looking into the dimension space like action vs comedy, Hollywood vs Bollywood, or Marvel vs Disney. Mainly, we will focus on the latent factor model for the Singular Value Decomposition (SVD) approach"
   ]
  },
  {
   "cell_type": "code",
   "execution_count": 9,
   "id": "3c2041a4",
   "metadata": {},
   "outputs": [],
   "source": [
    "# The code first determines the number of components to be used in the TruncatedSVD function by taking the minimum value of the length of user_item_matrix columns and user_item_matrix indices, subtracting 1.\n",
    "# The TruncatedSVD function is then used to model the user-item matrix with the specified number of components.\n",
    "# The resulting user_factors matrix represents the user embeddings, \n",
    "# while the item_factors matrix represents the item embeddings.\n",
    "\n",
    "n_components = min(len(user_item_matrix.columns), len(user_item_matrix.index)) - 1\n",
    "model = TruncatedSVD(n_components=n_components, random_state=42)\n",
    "user_factors = model.fit_transform(sparse_matrix)\n",
    "item_factors = model.components_"
   ]
  },
  {
   "cell_type": "code",
   "execution_count": 10,
   "id": "71c8f945",
   "metadata": {},
   "outputs": [
    {
     "data": {
      "text/plain": [
       "array([[ 1.33737314e+02, -6.17330217e+01,  1.23692037e+02, ...,\n",
       "        -4.75869639e-17, -3.93692897e-17,  1.93730856e-18],\n",
       "       [ 6.07868494e+02,  8.00407666e+01,  1.15451478e+03, ...,\n",
       "         2.91635788e-16, -5.08071221e-16, -4.81950720e-16],\n",
       "       [ 6.85405595e+01, -1.64948361e+01,  6.22156855e+01, ...,\n",
       "        -3.10852665e-17, -3.38817378e-17, -1.40285780e-17],\n",
       "       ...,\n",
       "       [ 9.14633703e+02, -3.23579331e+02,  1.12583846e+03, ...,\n",
       "         4.19005533e-16,  9.47852346e-16, -1.29420507e-16],\n",
       "       [ 2.54084830e+03, -1.57595914e+03, -4.78457510e+02, ...,\n",
       "        -1.11717364e-16, -1.73311463e-16,  1.29895348e-18],\n",
       "       [ 3.93806729e+01,  6.37548770e+00,  6.37920122e+01, ...,\n",
       "         5.40318030e-16,  4.51981168e-16,  1.81042457e-16]])"
      ]
     },
     "execution_count": 10,
     "metadata": {},
     "output_type": "execute_result"
    }
   ],
   "source": [
    "user_factors"
   ]
  },
  {
   "cell_type": "code",
   "execution_count": 11,
   "id": "eba81fb8",
   "metadata": {},
   "outputs": [
    {
     "data": {
      "text/plain": [
       "array([[ 1.58039899e-01,  3.50701150e-02,  6.92332743e-03, ...,\n",
       "         4.87182311e-03,  6.15192070e-03,  1.53159850e-01],\n",
       "       [ 3.05576417e-03,  2.11123229e-02,  4.54542580e-03, ...,\n",
       "         3.32205663e-03, -8.86128707e-04,  1.04481620e-01],\n",
       "       [ 3.63533486e-01,  3.39108880e-02, -2.97301547e-04, ...,\n",
       "         1.42762689e-02, -1.06982735e-04,  5.17687963e-01],\n",
       "       ...,\n",
       "       [ 0.00000000e+00,  1.19077941e-19,  4.36743581e-19, ...,\n",
       "         1.42109225e-18,  2.47342038e-18, -3.84630553e-20],\n",
       "       [ 0.00000000e+00, -3.46806792e-19,  2.87277528e-18, ...,\n",
       "        -2.99580344e-19, -2.57157739e-18, -4.55310044e-20],\n",
       "       [ 0.00000000e+00, -1.89205056e-19,  8.11185964e-19, ...,\n",
       "        -6.83159361e-20,  3.98209699e-19, -2.14250206e-19]])"
      ]
     },
     "execution_count": 11,
     "metadata": {},
     "output_type": "execute_result"
    }
   ],
   "source": [
    "item_factors"
   ]
  },
  {
   "cell_type": "markdown",
   "id": "2110a835",
   "metadata": {},
   "source": [
    "### Function to recommend items based on the customer's purchase history"
   ]
  },
  {
   "cell_type": "code",
   "execution_count": 28,
   "id": "0829156c",
   "metadata": {},
   "outputs": [],
   "source": [
    "# Here is how the function works:\n",
    "\n",
    "#The index of the customer in the user_item_matrix is determined using the get_loc method of the index object.\n",
    "#The customer's ratings are retrieved from the user_factors matrix by accessing the row corresponding to the customer index using indexing.\n",
    "#The item scores are calculated by taking the dot product of the customer ratings and the item_factors matrix.\n",
    "#The indices of the n items with the highest scores are selected using argsort() and [::-1] to sort in descending order.\n",
    "#The names of the top n items are looked up from the user_item_matrix columns using the top item indices.\n",
    "#The function returns the names of the recommended items as an output.\n",
    "n=5\n",
    "def recommend_items(customer_name, n=n):\n",
    "    customer_index = user_item_matrix.index.get_loc(customer_name)\n",
    "    customer_ratings = user_factors[customer_index, :]\n",
    "    item_scores = np.dot(customer_ratings, item_factors)\n",
    "    top_item_indices = item_scores.argsort()[::-1][:n]\n",
    "    top_items = user_item_matrix.columns[top_item_indices]\n",
    "    return top_items"
   ]
  },
  {
   "cell_type": "code",
   "execution_count": 29,
   "id": "7321bf7a",
   "metadata": {},
   "outputs": [
    {
     "name": "stdout",
     "output_type": "stream",
     "text": [
      "[76  0 22 10 11]\n"
     ]
    }
   ],
   "source": [
    "customer_ratings= user_factors[86, :]\n",
    "item_scores = np.dot(customer_ratings, item_factors)\n",
    "top_item_indices = item_scores.argsort()[::-1][:n]\n",
    "print(top_item_indices)"
   ]
  },
  {
   "cell_type": "markdown",
   "id": "48ee83dc",
   "metadata": {},
   "source": [
    "### Example usage"
   ]
  },
  {
   "cell_type": "code",
   "execution_count": 30,
   "id": "f838a88f",
   "metadata": {
    "scrolled": true
   },
   "outputs": [
    {
     "name": "stdout",
     "output_type": "stream",
     "text": [
      "Recommended items for customer5: Index(['Item_9', 'Item_1', 'Item_3', 'Item_19', 'Item_2'], dtype='object', name='Item_Name')\n"
     ]
    }
   ],
   "source": [
    "customer_name = 'customer5'\n",
    "recommended_items = recommend_items(customer_name)\n",
    "print(\"Recommended items for\", customer_name + \":\", recommended_items)"
   ]
  },
  {
   "cell_type": "markdown",
   "id": "cce9d443",
   "metadata": {},
   "source": [
    "### Calculating training accuracy"
   ]
  },
  {
   "cell_type": "code",
   "execution_count": 10,
   "id": "a057ea8e",
   "metadata": {},
   "outputs": [
    {
     "name": "stdout",
     "output_type": "stream",
     "text": [
      "Training Average Top-5 Accuracy: 95.77%\n"
     ]
    }
   ],
   "source": [
    "train_accuracies = []\n",
    "train_customer_names = train_data['Customer_Name'].unique()\n",
    "\n",
    "for customer_name in train_customer_names:\n",
    "    customer_data = train_data[train_data['Customer_Name'] == customer_name]\n",
    "    true_items = customer_data['Item_Name'].unique()\n",
    "    recommended_items = recommend_items(customer_name, n)\n",
    "\n",
    "    num_correct = len(set(true_items) & set(recommended_items))\n",
    "    accuracy = num_correct / min(n, len(true_items))  # Top-N accuracy\n",
    "    train_accuracies.append(accuracy)\n",
    "\n",
    "train_average_accuracy = np.mean(train_accuracies)\n",
    "print(\"Training Average Top-{} Accuracy: {:.2f}%\".format(n, train_average_accuracy * 100))"
   ]
  },
  {
   "cell_type": "markdown",
   "id": "c6ed0a8f",
   "metadata": {},
   "source": [
    "### Calculating testing accuracy"
   ]
  },
  {
   "cell_type": "code",
   "execution_count": 11,
   "id": "e5361c53",
   "metadata": {},
   "outputs": [
    {
     "name": "stdout",
     "output_type": "stream",
     "text": [
      "Testing Average Top-5 Accuracy: 84.55%\n"
     ]
    }
   ],
   "source": [
    "test_accuracies = []\n",
    "test_customer_names = test_data['Customer_Name'].unique()\n",
    "\n",
    "for customer_name in test_customer_names:\n",
    "    customer_data = test_data[test_data['Customer_Name'] == customer_name]\n",
    "    true_items = customer_data['Item_Name'].unique()\n",
    "    recommended_items = recommend_items(customer_name, n)\n",
    "\n",
    "    num_correct = len(set(true_items) & set(recommended_items))\n",
    "    accuracy = num_correct / min(n, len(true_items))  # Top-N accuracy\n",
    "    test_accuracies.append(accuracy)\n",
    "\n",
    "test_average_accuracy = np.mean(test_accuracies)\n",
    "print(\"Testing Average Top-{} Accuracy: {:.2f}%\".format(n, test_average_accuracy * 100))"
   ]
  },
  {
   "cell_type": "markdown",
   "id": "5d2c4126",
   "metadata": {},
   "source": [
    "### Taking the input of customer number from the user to make final recommendations"
   ]
  },
  {
   "cell_type": "code",
   "execution_count": 31,
   "id": "ae005c67",
   "metadata": {},
   "outputs": [
    {
     "name": "stdout",
     "output_type": "stream",
     "text": [
      "Enter the customer number: 10\n",
      "\n",
      "Recommended items for customer10:\n",
      "\n",
      "Item_2\n",
      "Item_19\n",
      "Item_20\n",
      "Item_1\n",
      "Item_3\n"
     ]
    }
   ],
   "source": [
    "customer_num = int(input(\"Enter the customer number: \"))\n",
    "if customer_num>0 and customer_num<=78:\n",
    "    recommended_items = recommend_items(\"customer\"+str(customer_num))\n",
    "    print(\"\\nRecommended items for customer\"+str(customer_num) + \":\\n\")\n",
    "    for i in recommended_items.values:\n",
    "        print(i)\n",
    "else:\n",
    "    print('Customer number should be between 1 and 78')"
   ]
  },
  {
   "cell_type": "code",
   "execution_count": null,
   "id": "9dfae6dd",
   "metadata": {},
   "outputs": [],
   "source": []
  }
 ],
 "metadata": {
  "kernelspec": {
   "display_name": "Python 3 (ipykernel)",
   "language": "python",
   "name": "python3"
  },
  "language_info": {
   "codemirror_mode": {
    "name": "ipython",
    "version": 3
   },
   "file_extension": ".py",
   "mimetype": "text/x-python",
   "name": "python",
   "nbconvert_exporter": "python",
   "pygments_lexer": "ipython3",
   "version": "3.10.9"
  }
 },
 "nbformat": 4,
 "nbformat_minor": 5
}
