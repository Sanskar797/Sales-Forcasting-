{
 "cells": [
  {
   "cell_type": "markdown",
   "id": "1bd8b485",
   "metadata": {},
   "source": [
    "### Importing necessary libraries"
   ]
  },
  {
   "cell_type": "code",
   "execution_count": 1,
   "id": "ebc7ec01",
   "metadata": {},
   "outputs": [],
   "source": [
    "import pandas as pd\n",
    "import numpy as np\n",
    "import seaborn as sns\n",
    "import matplotlib.pyplot as plt\n",
    "import warnings\n",
    "warnings.filterwarnings('ignore')\n",
    "\n",
    "from sklearn.model_selection import train_test_split\n",
    "from sklearn.preprocessing import StandardScaler\n",
    "\n",
    "from sklearn.linear_model import LinearRegression\n",
    "from sklearn.tree import DecisionTreeRegressor\n",
    "from sklearn.ensemble import RandomForestRegressor\n",
    "from sklearn.svm import SVR\n",
    "from sklearn.neighbors import KNeighborsRegressor\n",
    "from xgboost import XGBRegressor\n",
    "\n",
    "from sklearn.metrics import mean_squared_error, mean_absolute_error, r2_score\n",
    "\n",
    "from sklearn.model_selection import GridSearchCV"
   ]
  },
  {
   "cell_type": "markdown",
   "id": "fed97bf0",
   "metadata": {},
   "source": [
    "### Importing the data"
   ]
  },
  {
   "cell_type": "code",
   "execution_count": 2,
   "id": "6e9b9044",
   "metadata": {},
   "outputs": [],
   "source": [
    "data = pd.read_csv('Final_data.csv')"
   ]
  },
  {
   "cell_type": "code",
   "execution_count": 3,
   "id": "f7c8e421",
   "metadata": {},
   "outputs": [
    {
     "data": {
      "text/html": [
       "<div>\n",
       "<style scoped>\n",
       "    .dataframe tbody tr th:only-of-type {\n",
       "        vertical-align: middle;\n",
       "    }\n",
       "\n",
       "    .dataframe tbody tr th {\n",
       "        vertical-align: top;\n",
       "    }\n",
       "\n",
       "    .dataframe thead th {\n",
       "        text-align: right;\n",
       "    }\n",
       "</style>\n",
       "<table border=\"1\" class=\"dataframe\">\n",
       "  <thead>\n",
       "    <tr style=\"text-align: right;\">\n",
       "      <th></th>\n",
       "      <th>Date</th>\n",
       "      <th>Customer_Name</th>\n",
       "      <th>Item_Name</th>\n",
       "      <th>Vrh_No</th>\n",
       "      <th>Quantity</th>\n",
       "      <th>Price_per_unit</th>\n",
       "      <th>Amount</th>\n",
       "    </tr>\n",
       "  </thead>\n",
       "  <tbody>\n",
       "    <tr>\n",
       "      <th>0</th>\n",
       "      <td>2019-01-04</td>\n",
       "      <td>customer1</td>\n",
       "      <td>Item_1</td>\n",
       "      <td>1</td>\n",
       "      <td>200.0</td>\n",
       "      <td>20.0</td>\n",
       "      <td>4000.0</td>\n",
       "    </tr>\n",
       "    <tr>\n",
       "      <th>1</th>\n",
       "      <td>2019-01-04</td>\n",
       "      <td>customer1</td>\n",
       "      <td>Item_2</td>\n",
       "      <td>1</td>\n",
       "      <td>160.0</td>\n",
       "      <td>28.0</td>\n",
       "      <td>4480.0</td>\n",
       "    </tr>\n",
       "    <tr>\n",
       "      <th>2</th>\n",
       "      <td>2019-01-04</td>\n",
       "      <td>customer1</td>\n",
       "      <td>Item_3</td>\n",
       "      <td>1</td>\n",
       "      <td>12.0</td>\n",
       "      <td>60.0</td>\n",
       "      <td>720.0</td>\n",
       "    </tr>\n",
       "    <tr>\n",
       "      <th>3</th>\n",
       "      <td>2019-01-04</td>\n",
       "      <td>customer1</td>\n",
       "      <td>Item_3</td>\n",
       "      <td>1</td>\n",
       "      <td>15.0</td>\n",
       "      <td>35.0</td>\n",
       "      <td>525.0</td>\n",
       "    </tr>\n",
       "    <tr>\n",
       "      <th>4</th>\n",
       "      <td>2019-01-04</td>\n",
       "      <td>customer1</td>\n",
       "      <td>Item_3</td>\n",
       "      <td>1</td>\n",
       "      <td>25.0</td>\n",
       "      <td>25.0</td>\n",
       "      <td>625.0</td>\n",
       "    </tr>\n",
       "  </tbody>\n",
       "</table>\n",
       "</div>"
      ],
      "text/plain": [
       "         Date Customer_Name Item_Name  Vrh_No  Quantity  Price_per_unit  \\\n",
       "0  2019-01-04     customer1    Item_1       1     200.0            20.0   \n",
       "1  2019-01-04     customer1    Item_2       1     160.0            28.0   \n",
       "2  2019-01-04     customer1    Item_3       1      12.0            60.0   \n",
       "3  2019-01-04     customer1    Item_3       1      15.0            35.0   \n",
       "4  2019-01-04     customer1    Item_3       1      25.0            25.0   \n",
       "\n",
       "   Amount  \n",
       "0  4000.0  \n",
       "1  4480.0  \n",
       "2   720.0  \n",
       "3   525.0  \n",
       "4   625.0  "
      ]
     },
     "execution_count": 3,
     "metadata": {},
     "output_type": "execute_result"
    }
   ],
   "source": [
    "# First 5 rows of the data\n",
    "data.head()"
   ]
  },
  {
   "cell_type": "code",
   "execution_count": 4,
   "id": "f03a8ba4",
   "metadata": {},
   "outputs": [],
   "source": [
    "# This will remove \"customer\" from all the values in 'Customer_Name' column.\n",
    "data['Customer_Name']=data['Customer_Name'].apply(lambda x:x.lstrip('customer'))\n",
    "\n",
    "# This will remove \"Item_\" from all the values in 'Item_Name' column.\n",
    "data['Item_Name']=data['Item_Name'].apply(lambda x:x.lstrip('Item_'))"
   ]
  },
  {
   "cell_type": "code",
   "execution_count": 5,
   "id": "75c2b624",
   "metadata": {},
   "outputs": [
    {
     "data": {
      "text/html": [
       "<div>\n",
       "<style scoped>\n",
       "    .dataframe tbody tr th:only-of-type {\n",
       "        vertical-align: middle;\n",
       "    }\n",
       "\n",
       "    .dataframe tbody tr th {\n",
       "        vertical-align: top;\n",
       "    }\n",
       "\n",
       "    .dataframe thead th {\n",
       "        text-align: right;\n",
       "    }\n",
       "</style>\n",
       "<table border=\"1\" class=\"dataframe\">\n",
       "  <thead>\n",
       "    <tr style=\"text-align: right;\">\n",
       "      <th></th>\n",
       "      <th>Date</th>\n",
       "      <th>Customer_Name</th>\n",
       "      <th>Item_Name</th>\n",
       "      <th>Vrh_No</th>\n",
       "      <th>Quantity</th>\n",
       "      <th>Price_per_unit</th>\n",
       "      <th>Amount</th>\n",
       "    </tr>\n",
       "  </thead>\n",
       "  <tbody>\n",
       "    <tr>\n",
       "      <th>0</th>\n",
       "      <td>2019-01-04</td>\n",
       "      <td>1</td>\n",
       "      <td>1</td>\n",
       "      <td>1</td>\n",
       "      <td>200.0</td>\n",
       "      <td>20.0</td>\n",
       "      <td>4000.0</td>\n",
       "    </tr>\n",
       "    <tr>\n",
       "      <th>1</th>\n",
       "      <td>2019-01-04</td>\n",
       "      <td>1</td>\n",
       "      <td>2</td>\n",
       "      <td>1</td>\n",
       "      <td>160.0</td>\n",
       "      <td>28.0</td>\n",
       "      <td>4480.0</td>\n",
       "    </tr>\n",
       "    <tr>\n",
       "      <th>2</th>\n",
       "      <td>2019-01-04</td>\n",
       "      <td>1</td>\n",
       "      <td>3</td>\n",
       "      <td>1</td>\n",
       "      <td>12.0</td>\n",
       "      <td>60.0</td>\n",
       "      <td>720.0</td>\n",
       "    </tr>\n",
       "    <tr>\n",
       "      <th>3</th>\n",
       "      <td>2019-01-04</td>\n",
       "      <td>1</td>\n",
       "      <td>3</td>\n",
       "      <td>1</td>\n",
       "      <td>15.0</td>\n",
       "      <td>35.0</td>\n",
       "      <td>525.0</td>\n",
       "    </tr>\n",
       "    <tr>\n",
       "      <th>4</th>\n",
       "      <td>2019-01-04</td>\n",
       "      <td>1</td>\n",
       "      <td>3</td>\n",
       "      <td>1</td>\n",
       "      <td>25.0</td>\n",
       "      <td>25.0</td>\n",
       "      <td>625.0</td>\n",
       "    </tr>\n",
       "  </tbody>\n",
       "</table>\n",
       "</div>"
      ],
      "text/plain": [
       "         Date Customer_Name Item_Name  Vrh_No  Quantity  Price_per_unit  \\\n",
       "0  2019-01-04             1         1       1     200.0            20.0   \n",
       "1  2019-01-04             1         2       1     160.0            28.0   \n",
       "2  2019-01-04             1         3       1      12.0            60.0   \n",
       "3  2019-01-04             1         3       1      15.0            35.0   \n",
       "4  2019-01-04             1         3       1      25.0            25.0   \n",
       "\n",
       "   Amount  \n",
       "0  4000.0  \n",
       "1  4480.0  \n",
       "2   720.0  \n",
       "3   525.0  \n",
       "4   625.0  "
      ]
     },
     "execution_count": 5,
     "metadata": {},
     "output_type": "execute_result"
    }
   ],
   "source": [
    "data.head()"
   ]
  },
  {
   "cell_type": "code",
   "execution_count": 6,
   "id": "ab130a43",
   "metadata": {},
   "outputs": [],
   "source": [
    "# Making a list with all the independent columns used for model building\n",
    "indep_var = ['Customer_Name','Item_Name','Price_per_unit','Quantity']"
   ]
  },
  {
   "cell_type": "code",
   "execution_count": 7,
   "id": "9cf80fb2",
   "metadata": {},
   "outputs": [],
   "source": [
    "# Converting the data type of the 'Customer_Name' and 'Item_Name' columns in the 'data' DataFrame to int\n",
    "data['Customer_Name'] = data['Customer_Name'].astype('int')\n",
    "data['Item_Name'] = data['Item_Name'].astype('int')"
   ]
  },
  {
   "cell_type": "markdown",
   "id": "c7416040",
   "metadata": {},
   "source": [
    "### Train - Test split of the data"
   ]
  },
  {
   "cell_type": "code",
   "execution_count": 8,
   "id": "a4851da6",
   "metadata": {},
   "outputs": [],
   "source": [
    "# Assigning the dependent column to y and independent columns to x\n",
    "y = data.Amount\n",
    "x = data[indep_var]"
   ]
  },
  {
   "cell_type": "code",
   "execution_count": 9,
   "id": "95c8364b",
   "metadata": {},
   "outputs": [],
   "source": [
    "# Train-test split on the data\n",
    "X_train, X_test, Y_train, Y_test = train_test_split(x, y, test_size=0.3,random_state=123)"
   ]
  },
  {
   "cell_type": "code",
   "execution_count": 10,
   "id": "a9839529",
   "metadata": {},
   "outputs": [],
   "source": [
    "# A function to calculate and print out four evaluation metrics,\n",
    "# namely Root Mean Squared Error (RMSE), Mean Absolute Error (MAE), R-squared (R^2) Score, and Adjusted R-squared (R^2) Score\n",
    "\n",
    "def model_result(actual,pred):\n",
    "    rmse = np.sqrt(mean_squared_error(actual,pred))\n",
    "    mae = mean_absolute_error(actual,pred)\n",
    "    r2 = r2_score(actual,pred)\n",
    "    adj_r2 = 1-(((1-r2)*(len(actual)-1))/(len(actual)-4-1))\n",
    "    \n",
    "    print(\"Evaluation Metrics\")\n",
    "    print(\"**********************************************************\")\n",
    "    print(\"Root Mean Squared Error (RMSE):\", rmse)\n",
    "    print(\"Mean Absolute Error (MAE):\", mae)\n",
    "    print(\"R-squared (R^2) Score:\", r2)\n",
    "    print(\"Adjusted (R^2) Score:\", adj_r2)\n",
    "\n",
    "    metrics = [rmse, mae, r2, adj_r2]\n",
    "    return metrics"
   ]
  },
  {
   "cell_type": "code",
   "execution_count": 11,
   "id": "4175ea7e",
   "metadata": {},
   "outputs": [],
   "source": [
    "# Inside the function, the input X and Y data are fitted to the model and predicted values are generated using the testing data. \n",
    "# The function then calls on the \"model_result\" function to calculate and print evaluation metrics\n",
    "# Finally, the evaluation metrics are appended to a dictionary with the model name as key.\n",
    "\n",
    "validation_dict = {}\n",
    "def different_model(model):\n",
    "    ml = model\n",
    "    ml.fit(X_train, Y_train)\n",
    "    pred_y = ml.predict(X_test)\n",
    "    return_list = model_result(Y_test, pred_y)\n",
    "    validation_dict[model] = return_list"
   ]
  },
  {
   "cell_type": "markdown",
   "id": "d4ae145a",
   "metadata": {},
   "source": [
    "#### LinearRegression()"
   ]
  },
  {
   "cell_type": "code",
   "execution_count": 12,
   "id": "509a15e2",
   "metadata": {
    "scrolled": true
   },
   "outputs": [
    {
     "name": "stdout",
     "output_type": "stream",
     "text": [
      "Evaluation Metrics\n",
      "**********************************************************\n",
      "Root Mean Squared Error (RMSE): 5454.589095775174\n",
      "Mean Absolute Error (MAE): 2404.012960898909\n",
      "R-squared (R^2) Score: 0.8002224371692925\n",
      "Adjusted (R^2) Score: 0.7988517506318605\n"
     ]
    }
   ],
   "source": [
    "different_model(LinearRegression())"
   ]
  },
  {
   "cell_type": "markdown",
   "id": "473e4031",
   "metadata": {},
   "source": [
    "#### DecisionTreeRegressor()"
   ]
  },
  {
   "cell_type": "code",
   "execution_count": 13,
   "id": "88504e8e",
   "metadata": {
    "scrolled": true
   },
   "outputs": [
    {
     "name": "stdout",
     "output_type": "stream",
     "text": [
      "Evaluation Metrics\n",
      "**********************************************************\n",
      "Root Mean Squared Error (RMSE): 2921.0657689230516\n",
      "Mean Absolute Error (MAE): 809.7311180272109\n",
      "R-squared (R^2) Score: 0.9427065068726128\n",
      "Adjusted (R^2) Score: 0.9423134125801436\n"
     ]
    }
   ],
   "source": [
    "different_model(DecisionTreeRegressor(random_state=123))"
   ]
  },
  {
   "cell_type": "markdown",
   "id": "f599b144",
   "metadata": {},
   "source": [
    "#### RandomForestRegressor()"
   ]
  },
  {
   "cell_type": "code",
   "execution_count": 14,
   "id": "c0614569",
   "metadata": {
    "scrolled": true
   },
   "outputs": [
    {
     "name": "stdout",
     "output_type": "stream",
     "text": [
      "Evaluation Metrics\n",
      "**********************************************************\n",
      "Root Mean Squared Error (RMSE): 2278.3449220160537\n",
      "Mean Absolute Error (MAE): 489.84719501020396\n",
      "R-squared (R^2) Score: 0.9651452816901696\n",
      "Adjusted (R^2) Score: 0.9649061412557968\n"
     ]
    }
   ],
   "source": [
    "different_model(RandomForestRegressor(random_state=123))"
   ]
  },
  {
   "cell_type": "markdown",
   "id": "4aa714b9",
   "metadata": {},
   "source": [
    "### SVR()"
   ]
  },
  {
   "cell_type": "code",
   "execution_count": 15,
   "id": "2b0be2c8",
   "metadata": {
    "scrolled": true
   },
   "outputs": [
    {
     "name": "stdout",
     "output_type": "stream",
     "text": [
      "Evaluation Metrics\n",
      "**********************************************************\n",
      "Root Mean Squared Error (RMSE): 13019.067978369025\n",
      "Mean Absolute Error (MAE): 6025.804450587838\n",
      "R-squared (R^2) Score: -0.13810523260833074\n",
      "Adjusted (R^2) Score: -0.14591384483891967\n"
     ]
    }
   ],
   "source": [
    "different_model(SVR())"
   ]
  },
  {
   "cell_type": "markdown",
   "id": "85ce3ae3",
   "metadata": {},
   "source": [
    "#### KNeighborsRegressor()"
   ]
  },
  {
   "cell_type": "code",
   "execution_count": 16,
   "id": "6100f08f",
   "metadata": {
    "scrolled": true
   },
   "outputs": [
    {
     "name": "stdout",
     "output_type": "stream",
     "text": [
      "Evaluation Metrics\n",
      "**********************************************************\n",
      "Root Mean Squared Error (RMSE): 4597.179434319154\n",
      "Mean Absolute Error (MAE): 1621.2554719047619\n",
      "R-squared (R^2) Score: 0.8580924372395642\n",
      "Adjusted (R^2) Score: 0.8571188004453245\n"
     ]
    }
   ],
   "source": [
    "different_model(KNeighborsRegressor())"
   ]
  },
  {
   "cell_type": "markdown",
   "id": "af2fcdf2",
   "metadata": {},
   "source": [
    "#### XGBRegressor()"
   ]
  },
  {
   "cell_type": "code",
   "execution_count": 17,
   "id": "77314081",
   "metadata": {},
   "outputs": [
    {
     "name": "stdout",
     "output_type": "stream",
     "text": [
      "Evaluation Metrics\n",
      "**********************************************************\n",
      "Root Mean Squared Error (RMSE): 2272.6610228469413\n",
      "Mean Absolute Error (MAE): 530.4211622738677\n",
      "R-squared (R^2) Score: 0.9653189723234606\n",
      "Adjusted (R^2) Score: 0.9650810235915461\n"
     ]
    }
   ],
   "source": [
    "different_model(XGBRegressor(random_state=123))"
   ]
  },
  {
   "cell_type": "code",
   "execution_count": 18,
   "id": "77f73f10",
   "metadata": {},
   "outputs": [
    {
     "data": {
      "text/html": [
       "<div>\n",
       "<style scoped>\n",
       "    .dataframe tbody tr th:only-of-type {\n",
       "        vertical-align: middle;\n",
       "    }\n",
       "\n",
       "    .dataframe tbody tr th {\n",
       "        vertical-align: top;\n",
       "    }\n",
       "\n",
       "    .dataframe thead th {\n",
       "        text-align: right;\n",
       "    }\n",
       "</style>\n",
       "<table border=\"1\" class=\"dataframe\">\n",
       "  <thead>\n",
       "    <tr style=\"text-align: right;\">\n",
       "      <th></th>\n",
       "      <th>Algorithm</th>\n",
       "      <th>RMSE</th>\n",
       "      <th>MAE</th>\n",
       "      <th>R2_SCORE</th>\n",
       "      <th>ADJUSTED_R2_SCORE</th>\n",
       "    </tr>\n",
       "  </thead>\n",
       "  <tbody>\n",
       "    <tr>\n",
       "      <th>0</th>\n",
       "      <td>LinearRegression()</td>\n",
       "      <td>5454.589096</td>\n",
       "      <td>2404.012961</td>\n",
       "      <td>0.800222</td>\n",
       "      <td>0.798852</td>\n",
       "    </tr>\n",
       "    <tr>\n",
       "      <th>1</th>\n",
       "      <td>DecisionTreeRegressor(random_state=123)</td>\n",
       "      <td>2921.065769</td>\n",
       "      <td>809.731118</td>\n",
       "      <td>0.942707</td>\n",
       "      <td>0.942313</td>\n",
       "    </tr>\n",
       "    <tr>\n",
       "      <th>2</th>\n",
       "      <td>(DecisionTreeRegressor(max_features='auto', ra...</td>\n",
       "      <td>2278.344922</td>\n",
       "      <td>489.847195</td>\n",
       "      <td>0.965145</td>\n",
       "      <td>0.964906</td>\n",
       "    </tr>\n",
       "    <tr>\n",
       "      <th>3</th>\n",
       "      <td>SVR()</td>\n",
       "      <td>13019.067978</td>\n",
       "      <td>6025.804451</td>\n",
       "      <td>-0.138105</td>\n",
       "      <td>-0.145914</td>\n",
       "    </tr>\n",
       "    <tr>\n",
       "      <th>4</th>\n",
       "      <td>KNeighborsRegressor()</td>\n",
       "      <td>4597.179434</td>\n",
       "      <td>1621.255472</td>\n",
       "      <td>0.858092</td>\n",
       "      <td>0.857119</td>\n",
       "    </tr>\n",
       "    <tr>\n",
       "      <th>5</th>\n",
       "      <td>XGBRegressor(base_score=None, booster=None, ca...</td>\n",
       "      <td>2272.661023</td>\n",
       "      <td>530.421162</td>\n",
       "      <td>0.965319</td>\n",
       "      <td>0.965081</td>\n",
       "    </tr>\n",
       "  </tbody>\n",
       "</table>\n",
       "</div>"
      ],
      "text/plain": [
       "                                           Algorithm          RMSE  \\\n",
       "0                                 LinearRegression()   5454.589096   \n",
       "1            DecisionTreeRegressor(random_state=123)   2921.065769   \n",
       "2  (DecisionTreeRegressor(max_features='auto', ra...   2278.344922   \n",
       "3                                              SVR()  13019.067978   \n",
       "4                              KNeighborsRegressor()   4597.179434   \n",
       "5  XGBRegressor(base_score=None, booster=None, ca...   2272.661023   \n",
       "\n",
       "           MAE  R2_SCORE  ADJUSTED_R2_SCORE  \n",
       "0  2404.012961  0.800222           0.798852  \n",
       "1   809.731118  0.942707           0.942313  \n",
       "2   489.847195  0.965145           0.964906  \n",
       "3  6025.804451 -0.138105          -0.145914  \n",
       "4  1621.255472  0.858092           0.857119  \n",
       "5   530.421162  0.965319           0.965081  "
      ]
     },
     "execution_count": 18,
     "metadata": {},
     "output_type": "execute_result"
    }
   ],
   "source": [
    "# Creating a dataframe with model name and its performance through various evaluation metrics\n",
    "\n",
    "rmse = []\n",
    "mae = []\n",
    "r2_Score = []\n",
    "adjusted_r2score=[]\n",
    "model = []\n",
    "col = ['Algorithm', 'RMSE', 'MAE', 'R2_SCORE', 'ADJUSTED_R2_SCORE']\n",
    "df_results = pd.DataFrame(columns=col)\n",
    "\n",
    "\n",
    "for model_name, scores in validation_dict.items():\n",
    "    model.append(model_name)\n",
    "    rmse.append(scores[0])\n",
    "    mae.append(scores[1])\n",
    "    r2_Score.append(scores[2])\n",
    "    adjusted_r2score.append(scores[3])\n",
    "\n",
    "df_results['Algorithm'] = model\n",
    "df_results['RMSE'] = rmse\n",
    "df_results['MAE'] = mae\n",
    "df_results['R2_SCORE'] = r2_Score\n",
    "df_results['ADJUSTED_R2_SCORE'] = adjusted_r2score\n",
    "\n",
    "df_results.reset_index(drop=True, inplace=True)\n",
    "\n",
    "df_results"
   ]
  },
  {
   "cell_type": "markdown",
   "id": "f6dfb546",
   "metadata": {},
   "source": [
    "### Final model"
   ]
  },
  {
   "cell_type": "code",
   "execution_count": 19,
   "id": "145b12ce",
   "metadata": {},
   "outputs": [
    {
     "data": {
      "text/plain": [
       "RandomForestRegressor(random_state=123)"
      ]
     },
     "execution_count": 19,
     "metadata": {},
     "output_type": "execute_result"
    }
   ],
   "source": [
    "final_model=RandomForestRegressor(random_state=123)\n",
    "final_model.fit(X_train,Y_train)"
   ]
  },
  {
   "cell_type": "code",
   "execution_count": 20,
   "id": "aad42aae",
   "metadata": {},
   "outputs": [],
   "source": [
    "# Predicted sales values are stored in a new column called \"Predicted_Sales\" which is added to the dataframe \"x\".\n",
    "x[\"Predicted_Sales\"] = final_model.predict(x)"
   ]
  },
  {
   "cell_type": "code",
   "execution_count": 21,
   "id": "e485a502",
   "metadata": {},
   "outputs": [],
   "source": [
    "# Adding the target varible back to the dataframe \"x\".\n",
    "x['Actual_Sales']= data['Amount']"
   ]
  },
  {
   "cell_type": "code",
   "execution_count": 22,
   "id": "f6f85e95",
   "metadata": {},
   "outputs": [
    {
     "data": {
      "text/html": [
       "<div>\n",
       "<style scoped>\n",
       "    .dataframe tbody tr th:only-of-type {\n",
       "        vertical-align: middle;\n",
       "    }\n",
       "\n",
       "    .dataframe tbody tr th {\n",
       "        vertical-align: top;\n",
       "    }\n",
       "\n",
       "    .dataframe thead th {\n",
       "        text-align: right;\n",
       "    }\n",
       "</style>\n",
       "<table border=\"1\" class=\"dataframe\">\n",
       "  <thead>\n",
       "    <tr style=\"text-align: right;\">\n",
       "      <th></th>\n",
       "      <th>Customer_Name</th>\n",
       "      <th>Item_Name</th>\n",
       "      <th>Price_per_unit</th>\n",
       "      <th>Quantity</th>\n",
       "      <th>Predicted_Sales</th>\n",
       "      <th>Actual_Sales</th>\n",
       "    </tr>\n",
       "  </thead>\n",
       "  <tbody>\n",
       "    <tr>\n",
       "      <th>0</th>\n",
       "      <td>1</td>\n",
       "      <td>1</td>\n",
       "      <td>20.0</td>\n",
       "      <td>200.0</td>\n",
       "      <td>3993.780</td>\n",
       "      <td>4000.0</td>\n",
       "    </tr>\n",
       "    <tr>\n",
       "      <th>1</th>\n",
       "      <td>1</td>\n",
       "      <td>2</td>\n",
       "      <td>28.0</td>\n",
       "      <td>160.0</td>\n",
       "      <td>4497.500</td>\n",
       "      <td>4480.0</td>\n",
       "    </tr>\n",
       "    <tr>\n",
       "      <th>2</th>\n",
       "      <td>1</td>\n",
       "      <td>3</td>\n",
       "      <td>60.0</td>\n",
       "      <td>12.0</td>\n",
       "      <td>718.920</td>\n",
       "      <td>720.0</td>\n",
       "    </tr>\n",
       "    <tr>\n",
       "      <th>3</th>\n",
       "      <td>1</td>\n",
       "      <td>3</td>\n",
       "      <td>35.0</td>\n",
       "      <td>15.0</td>\n",
       "      <td>516.465</td>\n",
       "      <td>525.0</td>\n",
       "    </tr>\n",
       "    <tr>\n",
       "      <th>4</th>\n",
       "      <td>1</td>\n",
       "      <td>3</td>\n",
       "      <td>25.0</td>\n",
       "      <td>25.0</td>\n",
       "      <td>628.610</td>\n",
       "      <td>625.0</td>\n",
       "    </tr>\n",
       "  </tbody>\n",
       "</table>\n",
       "</div>"
      ],
      "text/plain": [
       "   Customer_Name  Item_Name  Price_per_unit  Quantity  Predicted_Sales  \\\n",
       "0              1          1            20.0     200.0         3993.780   \n",
       "1              1          2            28.0     160.0         4497.500   \n",
       "2              1          3            60.0      12.0          718.920   \n",
       "3              1          3            35.0      15.0          516.465   \n",
       "4              1          3            25.0      25.0          628.610   \n",
       "\n",
       "   Actual_Sales  \n",
       "0        4000.0  \n",
       "1        4480.0  \n",
       "2         720.0  \n",
       "3         525.0  \n",
       "4         625.0  "
      ]
     },
     "execution_count": 22,
     "metadata": {},
     "output_type": "execute_result"
    }
   ],
   "source": [
    "x.head()"
   ]
  },
  {
   "cell_type": "code",
   "execution_count": 23,
   "id": "cae3c68f",
   "metadata": {},
   "outputs": [],
   "source": [
    "# Swapping the positions of last two columns\n",
    "cols = x.columns.tolist()  # Get the list of column names\n",
    "cols[-2], cols[-1] = cols[-1], cols[-2]  # Swap the positions of the last two columns\n",
    "x = x[cols]"
   ]
  },
  {
   "cell_type": "code",
   "execution_count": 24,
   "id": "f3ff5e18",
   "metadata": {},
   "outputs": [
    {
     "data": {
      "text/html": [
       "<div>\n",
       "<style scoped>\n",
       "    .dataframe tbody tr th:only-of-type {\n",
       "        vertical-align: middle;\n",
       "    }\n",
       "\n",
       "    .dataframe tbody tr th {\n",
       "        vertical-align: top;\n",
       "    }\n",
       "\n",
       "    .dataframe thead th {\n",
       "        text-align: right;\n",
       "    }\n",
       "</style>\n",
       "<table border=\"1\" class=\"dataframe\">\n",
       "  <thead>\n",
       "    <tr style=\"text-align: right;\">\n",
       "      <th></th>\n",
       "      <th>Customer_Name</th>\n",
       "      <th>Item_Name</th>\n",
       "      <th>Price_per_unit</th>\n",
       "      <th>Quantity</th>\n",
       "      <th>Actual_Sales</th>\n",
       "      <th>Predicted_Sales</th>\n",
       "    </tr>\n",
       "  </thead>\n",
       "  <tbody>\n",
       "    <tr>\n",
       "      <th>0</th>\n",
       "      <td>1</td>\n",
       "      <td>1</td>\n",
       "      <td>20.0</td>\n",
       "      <td>200.0</td>\n",
       "      <td>4000.0</td>\n",
       "      <td>3993.780</td>\n",
       "    </tr>\n",
       "    <tr>\n",
       "      <th>1</th>\n",
       "      <td>1</td>\n",
       "      <td>2</td>\n",
       "      <td>28.0</td>\n",
       "      <td>160.0</td>\n",
       "      <td>4480.0</td>\n",
       "      <td>4497.500</td>\n",
       "    </tr>\n",
       "    <tr>\n",
       "      <th>2</th>\n",
       "      <td>1</td>\n",
       "      <td>3</td>\n",
       "      <td>60.0</td>\n",
       "      <td>12.0</td>\n",
       "      <td>720.0</td>\n",
       "      <td>718.920</td>\n",
       "    </tr>\n",
       "    <tr>\n",
       "      <th>3</th>\n",
       "      <td>1</td>\n",
       "      <td>3</td>\n",
       "      <td>35.0</td>\n",
       "      <td>15.0</td>\n",
       "      <td>525.0</td>\n",
       "      <td>516.465</td>\n",
       "    </tr>\n",
       "    <tr>\n",
       "      <th>4</th>\n",
       "      <td>1</td>\n",
       "      <td>3</td>\n",
       "      <td>25.0</td>\n",
       "      <td>25.0</td>\n",
       "      <td>625.0</td>\n",
       "      <td>628.610</td>\n",
       "    </tr>\n",
       "  </tbody>\n",
       "</table>\n",
       "</div>"
      ],
      "text/plain": [
       "   Customer_Name  Item_Name  Price_per_unit  Quantity  Actual_Sales  \\\n",
       "0              1          1            20.0     200.0        4000.0   \n",
       "1              1          2            28.0     160.0        4480.0   \n",
       "2              1          3            60.0      12.0         720.0   \n",
       "3              1          3            35.0      15.0         525.0   \n",
       "4              1          3            25.0      25.0         625.0   \n",
       "\n",
       "   Predicted_Sales  \n",
       "0         3993.780  \n",
       "1         4497.500  \n",
       "2          718.920  \n",
       "3          516.465  \n",
       "4          628.610  "
      ]
     },
     "execution_count": 24,
     "metadata": {},
     "output_type": "execute_result"
    }
   ],
   "source": [
    "x.head()"
   ]
  }
 ],
 "metadata": {
  "kernelspec": {
   "display_name": "Python 3 (ipykernel)",
   "language": "python",
   "name": "python3"
  },
  "language_info": {
   "codemirror_mode": {
    "name": "ipython",
    "version": 3
   },
   "file_extension": ".py",
   "mimetype": "text/x-python",
   "name": "python",
   "nbconvert_exporter": "python",
   "pygments_lexer": "ipython3",
   "version": "3.10.9"
  }
 },
 "nbformat": 4,
 "nbformat_minor": 5
}
